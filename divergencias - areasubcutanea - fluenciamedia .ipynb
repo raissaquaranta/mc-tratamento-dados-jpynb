{
 "cells": [
  {
   "cell_type": "code",
   "execution_count": 2,
   "id": "f84f68a5",
   "metadata": {},
   "outputs": [],
   "source": [
    "# Import libraries\n",
    "\n",
    "import nibabel as nii\n",
    "import numpy as np\n",
    "import matplotlib.pyplot as plt\n",
    "import seaborn as sns\n",
    "import math\n"
   ]
  },
  {
   "cell_type": "code",
   "execution_count": 2,
   "id": "e0b188b0",
   "metadata": {},
   "outputs": [],
   "source": [
    "# Import data 15\n",
    "\n",
    "image1_15 = nii.load(r'C:\\Users\\User\\Documents\\Raíssa\\Curso Monte Carlo\\pymcx-master\\pymcx\\FR-904-15graus-s1.nii')\n",
    "image2_15 = nii.load(r'C:\\Users\\User\\Documents\\Raíssa\\Curso Monte Carlo\\pymcx-master\\pymcx\\FR-904-15graus-s2.nii')\n",
    "image3_15 = nii.load(r'C:\\Users\\User\\Documents\\Raíssa\\Curso Monte Carlo\\pymcx-master\\pymcx\\FR-904-15graus-s3.nii')\n",
    "image4_15 = nii.load(r'C:\\Users\\User\\Documents\\Raíssa\\Curso Monte Carlo\\pymcx-master\\pymcx\\FR-904-15graus-s4.nii')\n",
    "image5_15 = nii.load(r'C:\\Users\\User\\Documents\\Raíssa\\Curso Monte Carlo\\pymcx-master\\pymcx\\FR-904-15graus-s5.nii')"
   ]
  },
  {
   "cell_type": "code",
   "execution_count": 3,
   "id": "910ad9be",
   "metadata": {},
   "outputs": [],
   "source": [
    "# Import data 60\n",
    "\n",
    "image1_60 = nii.load(r'C:\\Users\\User\\Documents\\Raíssa\\Curso Monte Carlo\\pymcx-master\\pymcx\\FR-904-60graus-s1.nii')\n",
    "image2_60 = nii.load(r'C:\\Users\\User\\Documents\\Raíssa\\Curso Monte Carlo\\pymcx-master\\pymcx\\FR-904-60graus-s2.nii')\n",
    "image3_60 = nii.load(r'C:\\Users\\User\\Documents\\Raíssa\\Curso Monte Carlo\\pymcx-master\\pymcx\\FR-904-60graus-s3.nii')\n",
    "image4_60 = nii.load(r'C:\\Users\\User\\Documents\\Raíssa\\Curso Monte Carlo\\pymcx-master\\pymcx\\FR-904-60graus-s4.nii')\n",
    "image5_60 = nii.load(r'C:\\Users\\User\\Documents\\Raíssa\\Curso Monte Carlo\\pymcx-master\\pymcx\\FR-904-60graus-s5.nii')"
   ]
  },
  {
   "cell_type": "code",
   "execution_count": 4,
   "id": "870bf3b2",
   "metadata": {},
   "outputs": [],
   "source": [
    "# Import data 120\n",
    "\n",
    "image1_120 = nii.load(r'C:\\Users\\User\\Documents\\Raíssa\\Curso Monte Carlo\\pymcx-master\\pymcx\\FR-904-120graus-s1.nii')\n",
    "image2_120 = nii.load(r'C:\\Users\\User\\Documents\\Raíssa\\Curso Monte Carlo\\pymcx-master\\pymcx\\FR-904-120graus-s2.nii')\n",
    "image3_120 = nii.load(r'C:\\Users\\User\\Documents\\Raíssa\\Curso Monte Carlo\\pymcx-master\\pymcx\\FR-904-120graus-s3.nii')\n",
    "image4_120 = nii.load(r'C:\\Users\\User\\Documents\\Raíssa\\Curso Monte Carlo\\pymcx-master\\pymcx\\FR-904-120graus-s4.nii')\n",
    "image5_120 = nii.load(r'C:\\Users\\User\\Documents\\Raíssa\\Curso Monte Carlo\\pymcx-master\\pymcx\\FR-904-120graus-s5.nii')"
   ]
  },
  {
   "cell_type": "code",
   "execution_count": 5,
   "id": "a370cea5",
   "metadata": {},
   "outputs": [],
   "source": [
    "#Extract Data 15\n",
    "\n",
    "data1_15 = image1_15.get_fdata()\n",
    "data1_15 = np.squeeze(data1_15)\n",
    "\n",
    "data2_15 = image2_15.get_fdata()\n",
    "data2_15 = np.squeeze(data2_15)\n",
    "\n",
    "data3_15 = image3_15.get_fdata()\n",
    "data3_15 = np.squeeze(data3_15)\n",
    "\n",
    "data4_15 = image4_15.get_fdata()\n",
    "data4_15 = np.squeeze(data4_15)\n",
    "\n",
    "data5_15 = image5_15.get_fdata()\n",
    "data5_15 = np.squeeze(data5_15)"
   ]
  },
  {
   "cell_type": "code",
   "execution_count": 6,
   "id": "803a2379",
   "metadata": {},
   "outputs": [],
   "source": [
    "# Extract Data 60\n",
    "\n",
    "data1_60 = image1_60.get_fdata()\n",
    "data1_60 = np.squeeze(data1_60)\n",
    "\n",
    "data2_60 = image2_60.get_fdata()\n",
    "data2_60 = np.squeeze(data2_60)\n",
    "\n",
    "data3_60 = image3_60.get_fdata()\n",
    "data3_60 = np.squeeze(data3_60)\n",
    "\n",
    "data4_60 = image4_60.get_fdata()\n",
    "data4_60 = np.squeeze(data4_60)\n",
    "\n",
    "data5_60 = image5_60.get_fdata()\n",
    "data5_60 = np.squeeze(data5_60)"
   ]
  },
  {
   "cell_type": "code",
   "execution_count": 7,
   "id": "3858bfef",
   "metadata": {},
   "outputs": [],
   "source": [
    "# Extract Data 120\n",
    "\n",
    "data1_120 = image1_120.get_fdata()\n",
    "data1_120 = np.squeeze(data1_120)\n",
    "\n",
    "data2_120 = image2_120.get_fdata()\n",
    "data2_120 = np.squeeze(data2_120)\n",
    "\n",
    "data3_120 = image3_120.get_fdata()\n",
    "data3_120 = np.squeeze(data3_120)\n",
    "\n",
    "data4_120 = image4_120.get_fdata()\n",
    "data4_120 = np.squeeze(data4_120)\n",
    "\n",
    "data5_120 = image5_120.get_fdata()\n",
    "data5_120 = np.squeeze(data5_120)"
   ]
  },
  {
   "cell_type": "code",
   "execution_count": 8,
   "id": "3548b446",
   "metadata": {},
   "outputs": [],
   "source": [
    "# Correction 15\n",
    "\n",
    "data1_15 = data1_15*0.03141592\n",
    "data2_15 = data2_15*0.03141592\n",
    "data3_15 = data3_15*0.03141592\n",
    "data4_15 = data4_15*0.03141592\n",
    "data5_15 = data5_15*0.03141592"
   ]
  },
  {
   "cell_type": "code",
   "execution_count": 9,
   "id": "c66f7d8f",
   "metadata": {},
   "outputs": [],
   "source": [
    "# Correction 60\n",
    "\n",
    "data1_60 = data1_60*0.03141592\n",
    "data2_60 = data2_60*0.03141592\n",
    "data3_60 = data3_60*0.03141592\n",
    "data4_60 = data4_60*0.03141592\n",
    "data5_60 = data5_60*0.03141592"
   ]
  },
  {
   "cell_type": "code",
   "execution_count": 10,
   "id": "32e259aa",
   "metadata": {},
   "outputs": [],
   "source": [
    "# Correction 15\n",
    "\n",
    "data1_120 = data1_120*0.03141592\n",
    "data2_120 = data2_120*0.03141592\n",
    "data3_120 = data3_120*0.03141592\n",
    "data4_120 = data4_120*0.03141592\n",
    "data5_120 = data5_120*0.03141592"
   ]
  },
  {
   "cell_type": "code",
   "execution_count": 11,
   "id": "ee63f00b",
   "metadata": {},
   "outputs": [],
   "source": [
    "# Smoothing 15\n",
    "\n",
    "# Criação da Matriz em branco\n",
    "data_15_s = np.zeros((200,400))\n",
    "\n",
    "# Loop de suavização do conjunto de dados\n",
    "for i in range(200):\n",
    "    for j in range(400):\n",
    "        data_15_s[i][j]=(data1_15[i][j][200]+data2_15[i][j][200]+data3_15[i][j][200]+data4_15[i][j][200]+data5_15[i][j][200])/5"
   ]
  },
  {
   "cell_type": "code",
   "execution_count": 12,
   "id": "7f9730a2",
   "metadata": {},
   "outputs": [],
   "source": [
    "# Smoothing 60\n",
    "\n",
    "# Criação da Matriz em branco\n",
    "data_60_s = np.zeros((200,400))\n",
    "\n",
    "# Loop de suavização do conjunto de dados\n",
    "for i in range(200):\n",
    "    for j in range(400):\n",
    "        data_60_s[i][j]=(data1_60[i][j][200]+data2_60[i][j][200]+data3_60[i][j][200]+data4_60[i][j][200]+data5_60[i][j][200])/5"
   ]
  },
  {
   "cell_type": "code",
   "execution_count": 13,
   "id": "7ece03c3",
   "metadata": {},
   "outputs": [],
   "source": [
    "# Smoothing 120\n",
    "\n",
    "# Criação da Matriz em branco\n",
    "data_120_s = np.zeros((200,400))\n",
    "\n",
    "# Loop de suavização do conjunto de dados\n",
    "for i in range(200):\n",
    "    for j in range(400):\n",
    "        data_120_s[i][j]=(data1_120[i][j][200]+data2_120[i][j][200]+data3_120[i][j][200]+data4_120[i][j][200]+data5_120[i][j][200])/5"
   ]
  },
  {
   "cell_type": "code",
   "execution_count": 14,
   "id": "c0cf7a33",
   "metadata": {},
   "outputs": [
    {
     "data": {
      "image/png": "[encoded data removed]",
      "text/plain": [
       "<Figure size 1440x1008 with 1 Axes>"
      ]
     },
     "metadata": {},
     "output_type": "display_data"
    }
   ],
   "source": [
    "Y = np.linspace(2,0,200)\n",
    "\n",
    "sns.set_theme()\n",
    "fig,axs = plt.subplots(1, figsize = (20, 14))\n",
    "plt.suptitle('Decaimento em Profundidade da Fluência', y=0.94, x=0.51, fontsize=30)\n",
    "plt.subplots_adjust(hspace = 0.7)   # Pushing up the title\n",
    "axs.set_title('$10^8$ fótons - 5 simulações - 1 J/cm²', fontsize=20)\n",
    "\n",
    "\n",
    "# Actual Lateral View Plot\n",
    "# # Normalization by the maximum value\n",
    "axs.plot(Y, 1000*data_15_s[:,200], color = 'blue', label = '15 graus',linewidth=4.0)\n",
    "axs.plot(Y, 1000*data_60_s[:,200], color = 'red', label = '60 graus',linewidth=4.0)\n",
    "axs.plot(Y, 1000*data_120_s[:,200], color = 'green', label = '120 graus',linewidth=4.0)\n",
    "axs.set_ylabel('Fluência [mJ/cm²]', fontsize=25)\n",
    "plt.legend(loc=1, prop={'size': 25})\n",
    "\n",
    "# Legend for the axis\n",
    "axs.set_xlabel('Profundidade [mm]', fontsize=25)\n",
    "plt.xticks(fontsize=20)\n",
    "plt.yticks(fontsize=20)\n",
    "\n",
    "plt.savefig('F_decay_fluence_divergencias_teoricas.jpg', dpi=200)\n",
    "plt.show()"
   ]
  },
  {
   "cell_type": "code",
   "execution_count": 15,
   "id": "204ed913",
   "metadata": {},
   "outputs": [
    {
     "data": {
      "image/png": "[encoded data removed]",
      "text/plain": [
       "<Figure size 864x792 with 6 Axes>"
      ]
     },
     "metadata": {},
     "output_type": "display_data"
    }
   ],
   "source": [
    "# Perfil de Fluência\n",
    "\n",
    "# Vector to Scale Correction\n",
    "Y = np.linspace(2,0,200)\n",
    "X = np.linspace(0,4,400)\n",
    "\n",
    "#Subplot\n",
    "sns.set_theme()\n",
    "fig,axs = plt.subplots(3,1, figsize = (12, 11))\n",
    "plt.suptitle('Fluência [mJ/cm²] \\n Fluência de entrada: 1 J/cm²',y=0.97, x=0.425, fontsize = 18)\n",
    "\n",
    "plt.subplots_adjust(hspace = 0.5)   # Pushing up the title\n",
    "plt.rc('xtick', labelsize=12)\n",
    "plt.rc('ytick', labelsize=12)\n",
    "\n",
    "axs[0].set_title('15°', fontsize=14)\n",
    "axs[0].contour(X, -Y, 1000*data_15_s[:,:], cmap = \"jet\", levels = ['0','2','4','6','8','10','12','14','16'])\n",
    "# axs[0].axis('equal')\n",
    "img0 = axs[0].contour(X, -Y, 1000*data_15_s[:,:], cmap = \"jet\", levels = ['0','2','4','6','8','10','12','14','16'])\n",
    "fig.colorbar(img0, ax =axs[0])\n",
    "\n",
    "axs[1].set_title('60°', fontsize=14)\n",
    "axs[1].contour(X, -Y, 1000*data_60_s[:,:], cmap = \"jet\", levels = ['0','2','4','6','8','10','12','14','16'])\n",
    "# axs[0].axis('equal')\n",
    "img1 = axs[1].contour(X, -Y, 1000*data_60_s[:,:], cmap = \"jet\", levels = ['0','2','4','6','8','10','12','14','16'])\n",
    "fig.colorbar(img1, ax =axs[1])\n",
    "\n",
    "axs[2].set_title('120°', fontsize=14)\n",
    "axs[2].contour(X, -Y, 1000*data_120_s[:,:], cmap = \"jet\", levels = ['0','2','4','6','8','10','12','14','16'])\n",
    "# axs[0].axis('equal')\n",
    "img2 = axs[2].contour(X,-Y, 1000*data_120_s[:,:], cmap = \"jet\", levels = ['0','2','4','6','8','10','12','14','16'])\n",
    "fig.colorbar(img2, ax =axs[2])\n",
    "\n",
    "# Axis config\n",
    "\n",
    "fig.text(0.45, 0.08, 'Largura [mm]', ha='center', fontsize = 16)\n",
    "fig.text(0.05, 0.5, 'Profundidade [mm]', va='center', rotation='vertical', fontsize = 16)\n",
    "\n",
    "plt.savefig('F_profile_fluence_divergencias_teoricas.jpg', dpi=200)\n",
    "plt.show()"
   ]
  },
  {
   "cell_type": "markdown",
   "id": "b5f0ecd7",
   "metadata": {},
   "source": [
    "# 15 graus"
   ]
  },
  {
   "cell_type": "code",
   "execution_count": 16,
   "id": "34b58e34",
   "metadata": {},
   "outputs": [
    {
     "name": "stdout",
     "output_type": "stream",
     "text": [
      "1 - Intensidade inicial I0: 0.014286966405644417\n",
      "1 - Intensidade final If 0.0073419676733195785\n",
      "  \n",
      "2 - Intensidade inicial I0: 0.014058136105091571\n",
      "2 - Intensidade final If 0.007143748166489601\n",
      "  \n",
      "3 - Intensidade inicial I0: 0.014167275856838227\n",
      "3 - Intensidade final If 0.006968206459906101\n",
      "  \n",
      "4 - Intensidade inicial I0: 0.014321888242499829\n",
      "4 - Intensidade final If 0.007155886873018742\n",
      "  \n",
      "5 - Intensidade inicial I0: 0.014060526395702362\n",
      "5 - Intensidade final If 0.007122061873394251\n",
      "  \n"
     ]
    }
   ],
   "source": [
    "# 15 Print das intensidades inicial e final\n",
    "\n",
    "print('1 - Intensidade inicial I0:', data1_15[199, 200, 200])\n",
    "print('1 - Intensidade final If', data1_15[49,200,200])\n",
    "print('  ')\n",
    "\n",
    "print('2 - Intensidade inicial I0:', data2_15[199, 200, 200])\n",
    "print('2 - Intensidade final If', data2_15[49,200,200])\n",
    "print('  ')\n",
    "\n",
    "print('3 - Intensidade inicial I0:', data3_15[199, 200, 200])\n",
    "print('3 - Intensidade final If', data3_15[49,200,200])\n",
    "print('  ')\n",
    "\n",
    "print('4 - Intensidade inicial I0:', data4_15[199, 200, 200])\n",
    "print('4 - Intensidade final If', data4_15[49,200,200])\n",
    "print('  ')\n",
    "\n",
    "print('5 - Intensidade inicial I0:', data5_15[199, 200, 200])\n",
    "print('5 - Intensidade final If', data5_15[49,200,200])\n",
    "print('  ')"
   ]
  },
  {
   "cell_type": "code",
   "execution_count": 17,
   "id": "d52e04ad",
   "metadata": {},
   "outputs": [
    {
     "name": "stdout",
     "output_type": "stream",
     "text": [
      "Intensidades de corte [0.00193353 0.00190256 0.00191733 0.00193826 0.00190289]\n"
     ]
    }
   ],
   "source": [
    "# Vetor com as intensidades de corte I0/e^2\n",
    "\n",
    "intensidade_corte15 = np.zeros(5)\n",
    "intensidade_corte15[0]=data1_15[199, 200, 200]/7.389056099\n",
    "intensidade_corte15[1]=data2_15[199, 200, 200]/7.389056099\n",
    "intensidade_corte15[2]=data3_15[199, 200, 200]/7.389056099\n",
    "intensidade_corte15[3]=data4_15[199, 200, 200]/7.389056099\n",
    "intensidade_corte15[4]=data5_15[199, 200, 200]/7.389056099\n",
    "\n",
    "print('Intensidades de corte', intensidade_corte15)"
   ]
  },
  {
   "cell_type": "code",
   "execution_count": 18,
   "id": "21d70204",
   "metadata": {},
   "outputs": [],
   "source": [
    "# Criação da Máscara\n",
    "\n",
    "mask1_15 = data1_15[49, :, :] >= intensidade_corte15[0]\n",
    "mask2_15 = data2_15[49, :, :] >= intensidade_corte15[1]\n",
    "mask3_15 = data3_15[49, :, :] >= intensidade_corte15[2]\n",
    "mask4_15 = data4_15[49, :, :] >= intensidade_corte15[3]\n",
    "mask5_15 = data5_15[49, :, :] >= intensidade_corte15[4]"
   ]
  },
  {
   "cell_type": "code",
   "execution_count": 19,
   "id": "3ab1a046",
   "metadata": {},
   "outputs": [
    {
     "name": "stdout",
     "output_type": "stream",
     "text": [
      "A área irradiada com pelo menos 0.0019335306450817104 J/cm² é 13.6414 mm².\n",
      "A área irradiada com pelo menos 0.0019025618315435624 J/cm² é 13.8993 mm².\n",
      "A área irradiada com pelo menos 0.0019173322907584311 J/cm² é 13.7752 mm².\n",
      "A área irradiada com pelo menos 0.001938256801763636 J/cm² é 13.617 mm².\n",
      "A área irradiada com pelo menos 0.0019028853222003885 J/cm² é 13.8696 mm².\n"
     ]
    }
   ],
   "source": [
    "# Cálculo e print da área irradiada\n",
    "\n",
    "area1_15 = 0.0001*mask1_15.sum()\n",
    "print('A área irradiada com pelo menos',intensidade_corte15[0],'J/cm² é',area1_15,'mm².')\n",
    "area2_15 = 0.0001*mask2_15.sum()\n",
    "print('A área irradiada com pelo menos',intensidade_corte15[1],'J/cm² é',area2_15,'mm².')\n",
    "area3_15 = 0.0001*mask3_15.sum()\n",
    "print('A área irradiada com pelo menos',intensidade_corte15[2],'J/cm² é',area3_15,'mm².')\n",
    "area4_15 = 0.0001*mask4_15.sum()\n",
    "print('A área irradiada com pelo menos',intensidade_corte15[3],'J/cm² é',area4_15,'mm².')\n",
    "area5_15 = 0.0001*mask5_15.sum()\n",
    "print('A área irradiada com pelo menos',intensidade_corte15[4],'J/cm² é',area5_15,'mm².')"
   ]
  },
  {
   "cell_type": "code",
   "execution_count": 20,
   "id": "94550f91",
   "metadata": {},
   "outputs": [
    {
     "name": "stdout",
     "output_type": "stream",
     "text": [
      "0.003699461865173155 J/cm²\n",
      "0.003666456713634726 J/cm²\n",
      "0.0036811758414564666 J/cm²\n",
      "0.003703117816629534 J/cm²\n",
      "0.0036695561978840824 J/cm²\n"
     ]
    }
   ],
   "source": [
    "# Cálculo da fluência média subcutânea\n",
    "\n",
    "soma = 0\n",
    "for i in range(0,400):\n",
    "    for j in range(0,400):\n",
    "        if mask1_15[i,j]==1:\n",
    "            soma = soma + data1_15[49,i,j]\n",
    "print(soma/mask1_15.sum(), 'J/cm²')\n",
    "\n",
    "soma = 0\n",
    "for i in range(0,400):\n",
    "    for j in range(0,400):\n",
    "        if mask2_15[i,j]==1:\n",
    "            soma = soma + data2_15[49,i,j]\n",
    "print(soma/mask2_15.sum(), 'J/cm²')\n",
    "\n",
    "soma = 0\n",
    "for i in range(0,400):\n",
    "    for j in range(0,400):\n",
    "        if mask3_15[i,j]==1:\n",
    "            soma = soma + data3_15[49,i,j]\n",
    "print(soma/mask3_15.sum(), 'J/cm²')\n",
    "\n",
    "soma = 0\n",
    "for i in range(0,400):\n",
    "    for j in range(0,400):\n",
    "        if mask4_15[i,j]==1:\n",
    "            soma = soma + data4_15[49,i,j]\n",
    "print(soma/mask4_15.sum(), 'J/cm²')\n",
    "\n",
    "soma = 0\n",
    "for i in range(0,400):\n",
    "    for j in range(0,400):\n",
    "        if mask5_15[i,j]==1:\n",
    "            soma = soma + data5_15[49,i,j]\n",
    "print(soma/mask5_15.sum(), 'J/cm²')\n"
   ]
  },
  {
   "cell_type": "markdown",
   "id": "64d908f9",
   "metadata": {},
   "source": [
    "# 60 graus"
   ]
  },
  {
   "cell_type": "code",
   "execution_count": 21,
   "id": "4e5342b5",
   "metadata": {},
   "outputs": [
    {
     "name": "stdout",
     "output_type": "stream",
     "text": [
      "1 - Intensidade inicial I0: 0.01389146553189516\n",
      "1 - Intensidade final If 0.0059548575952994825\n",
      "  \n",
      "2 - Intensidade inicial I0: 0.013802099747128486\n",
      "2 - Intensidade final If 0.006102015420113802\n",
      "  \n",
      "3 - Intensidade inicial I0: 0.014313535801239013\n",
      "3 - Intensidade final If 0.00592581832636714\n",
      "  \n",
      "4 - Intensidade inicial I0: 0.01353511186966896\n",
      "4 - Intensidade final If 0.005849610375168323\n",
      "  \n",
      "5 - Intensidade inicial I0: 0.013723560958297253\n",
      "5 - Intensidade final If 0.005843494208534956\n",
      "  \n"
     ]
    }
   ],
   "source": [
    "# 15 Print das intensidades inicial e final\n",
    "\n",
    "print('1 - Intensidade inicial I0:', data1_60[199, 200, 200])\n",
    "print('1 - Intensidade final If', data1_60[49,200,200])\n",
    "print('  ')\n",
    "\n",
    "print('2 - Intensidade inicial I0:', data2_60[199, 200, 200])\n",
    "print('2 - Intensidade final If', data2_60[49,200,200])\n",
    "print('  ')\n",
    "\n",
    "print('3 - Intensidade inicial I0:', data3_60[199, 200, 200])\n",
    "print('3 - Intensidade final If', data3_60[49,200,200])\n",
    "print('  ')\n",
    "\n",
    "print('4 - Intensidade inicial I0:', data4_60[199, 200, 200])\n",
    "print('4 - Intensidade final If', data4_60[49,200,200])\n",
    "print('  ')\n",
    "\n",
    "print('5 - Intensidade inicial I0:', data5_60[199, 200, 200])\n",
    "print('5 - Intensidade final If', data5_60[49,200,200])\n",
    "print('  ')"
   ]
  },
  {
   "cell_type": "code",
   "execution_count": 22,
   "id": "0f98ae4d",
   "metadata": {},
   "outputs": [
    {
     "name": "stdout",
     "output_type": "stream",
     "text": [
      "Intensidades de corte [0.00188001 0.00186791 0.00193713 0.00183178 0.00185728]\n"
     ]
    }
   ],
   "source": [
    "# Vetor com as intensidades de corte I0/e^2\n",
    "\n",
    "intensidade_corte60 = np.zeros(5)\n",
    "intensidade_corte60[0]=data1_60[199, 200, 200]/7.389056099\n",
    "intensidade_corte60[1]=data2_60[199, 200, 200]/7.389056099\n",
    "intensidade_corte60[2]=data3_60[199, 200, 200]/7.389056099\n",
    "intensidade_corte60[3]=data4_60[199, 200, 200]/7.389056099\n",
    "intensidade_corte60[4]=data5_60[199, 200, 200]/7.389056099\n",
    "\n",
    "print('Intensidades de corte', intensidade_corte60)"
   ]
  },
  {
   "cell_type": "code",
   "execution_count": 23,
   "id": "b028414b",
   "metadata": {},
   "outputs": [],
   "source": [
    "# Criação da Máscara\n",
    "\n",
    "mask1_60 = data1_60[49, :, :] >= intensidade_corte60[0]\n",
    "mask2_60 = data2_60[49, :, :] >= intensidade_corte60[1]\n",
    "mask3_60 = data3_60[49, :, :] >= intensidade_corte60[2]\n",
    "mask4_60 = data4_60[49, :, :] >= intensidade_corte60[3]\n",
    "mask5_60 = data5_60[49, :, :] >= intensidade_corte60[4]"
   ]
  },
  {
   "cell_type": "code",
   "execution_count": 24,
   "id": "581d7600",
   "metadata": {},
   "outputs": [
    {
     "name": "stdout",
     "output_type": "stream",
     "text": [
      "A área irradiada com pelo menos 0.0018800054223130293 J/cm² é 14.5921 mm².\n",
      "A área irradiada com pelo menos 0.0018679110785200827 J/cm² é 14.690100000000001 mm².\n",
      "A área irradiada com pelo menos 0.001937126421759897 J/cm² é 14.228800000000001 mm².\n",
      "A área irradiada com pelo menos 0.001831778198503695 J/cm² é 14.918600000000001 mm².\n",
      "A área irradiada com pelo menos 0.0018572820092886471 J/cm² é 14.7398 mm².\n"
     ]
    }
   ],
   "source": [
    "# Cálculo e print da área irradiada\n",
    "\n",
    "area1_60 = 0.0001*mask1_60.sum()\n",
    "print('A área irradiada com pelo menos',intensidade_corte60[0],'J/cm² é',area1_60,'mm².')\n",
    "area2_60 = 0.0001*mask2_60.sum()\n",
    "print('A área irradiada com pelo menos',intensidade_corte60[1],'J/cm² é',area2_60,'mm².')\n",
    "area3_60 = 0.0001*mask3_60.sum()\n",
    "print('A área irradiada com pelo menos',intensidade_corte60[2],'J/cm² é',area3_60,'mm².')\n",
    "area4_60 = 0.0001*mask4_60.sum()\n",
    "print('A área irradiada com pelo menos',intensidade_corte60[3],'J/cm² é',area4_60,'mm².')\n",
    "area5_60 = 0.0001*mask5_60.sum()\n",
    "print('A área irradiada com pelo menos',intensidade_corte60[4],'J/cm² é',area5_60,'mm².')"
   ]
  },
  {
   "cell_type": "code",
   "execution_count": 25,
   "id": "fdd14a32",
   "metadata": {},
   "outputs": [
    {
     "name": "stdout",
     "output_type": "stream",
     "text": [
      "0.003484356533107623 J/cm²\n",
      "0.0034723975491183982 J/cm²\n",
      "0.0035231412854969633 J/cm²\n",
      "0.003447649834877177 J/cm²\n",
      "0.0034665183592411993 J/cm²\n"
     ]
    }
   ],
   "source": [
    "# Cálculo da fluência média subcutânea\n",
    "\n",
    "soma = 0\n",
    "for i in range(0,400):\n",
    "    for j in range(0,400):\n",
    "        if mask1_60[i,j]==1:\n",
    "            soma = soma + data1_60[49,i,j]\n",
    "print(soma/mask1_60.sum(), 'J/cm²')\n",
    "\n",
    "soma = 0\n",
    "for i in range(0,400):\n",
    "    for j in range(0,400):\n",
    "        if mask2_60[i,j]==1:\n",
    "            soma = soma + data2_60[49,i,j]\n",
    "print(soma/mask2_60.sum(), 'J/cm²')\n",
    "\n",
    "soma = 0\n",
    "for i in range(0,400):\n",
    "    for j in range(0,400):\n",
    "        if mask3_60[i,j]==1:\n",
    "            soma = soma + data3_60[49,i,j]\n",
    "print(soma/mask3_60.sum(), 'J/cm²')\n",
    "\n",
    "soma = 0\n",
    "for i in range(0,400):\n",
    "    for j in range(0,400):\n",
    "        if mask4_60[i,j]==1:\n",
    "            soma = soma + data4_60[49,i,j]\n",
    "print(soma/mask4_60.sum(), 'J/cm²')\n",
    "\n",
    "soma = 0\n",
    "for i in range(0,400):\n",
    "    for j in range(0,400):\n",
    "        if mask5_60[i,j]==1:\n",
    "            soma = soma + data5_60[49,i,j]\n",
    "print(soma/mask5_60.sum(), 'J/cm²')"
   ]
  },
  {
   "cell_type": "markdown",
   "id": "b52d3339",
   "metadata": {},
   "source": [
    "# 120 graus"
   ]
  },
  {
   "cell_type": "code",
   "execution_count": 26,
   "id": "94ed7dfc",
   "metadata": {},
   "outputs": [
    {
     "name": "stdout",
     "output_type": "stream",
     "text": [
      "1 - Intensidade inicial I0: 0.01305315513015747\n",
      "1 - Intensidade final If 0.0053026598269534115\n",
      "  \n",
      "1 - Intensidade inicial I0: 0.012898101762561799\n",
      "1 - Intensidade final If 0.005152977357159853\n",
      "  \n",
      "1 - Intensidade inicial I0: 0.01274367101277113\n",
      "1 - Intensidade final If 0.004930423324961662\n",
      "  \n",
      "1 - Intensidade inicial I0: 0.01303430245027542\n",
      "1 - Intensidade final If 0.0053111845414114\n",
      "  \n",
      "1 - Intensidade inicial I0: 0.012620942276329995\n",
      "1 - Intensidade final If 0.005285249935097694\n",
      "  \n"
     ]
    }
   ],
   "source": [
    "# 120 Print das intensidades inicial e final\n",
    "\n",
    "print('1 - Intensidade inicial I0:', data1_120[199, 200, 200])\n",
    "print('1 - Intensidade final If', data1_120[149,200,200])\n",
    "print('  ')\n",
    "\n",
    "print('1 - Intensidade inicial I0:', data2_120[199, 200, 200])\n",
    "print('1 - Intensidade final If', data2_120[149,200,200])\n",
    "print('  ')\n",
    "\n",
    "print('1 - Intensidade inicial I0:', data3_120[199, 200, 200])\n",
    "print('1 - Intensidade final If', data3_120[149,200,200])\n",
    "print('  ')\n",
    "\n",
    "print('1 - Intensidade inicial I0:', data4_120[199, 200, 200])\n",
    "print('1 - Intensidade final If', data4_120[149,200,200])\n",
    "print('  ')\n",
    "\n",
    "print('1 - Intensidade inicial I0:', data5_120[199, 200, 200])\n",
    "print('1 - Intensidade final If', data5_120[149,200,200])\n",
    "print('  ')"
   ]
  },
  {
   "cell_type": "code",
   "execution_count": 27,
   "id": "e541c9ea",
   "metadata": {},
   "outputs": [
    {
     "name": "stdout",
     "output_type": "stream",
     "text": [
      "Intensidades de corte [0.00326329 0.00322453 0.00318592 0.00325858 0.00315524]\n"
     ]
    }
   ],
   "source": [
    "# Vetor com as intensidades de corte I0/e^2\n",
    "\n",
    "intensidade_corte120 = np.zeros(5)\n",
    "intensidade_corte120[0]=data1_120[199, 200, 200]*0.25\n",
    "intensidade_corte120[1]=data2_120[199, 200, 200]*0.25\n",
    "intensidade_corte120[2]=data3_120[199, 200, 200]*0.25\n",
    "intensidade_corte120[3]=data4_120[199, 200, 200]*0.25\n",
    "intensidade_corte120[4]=data5_120[199, 200, 200]*0.25\n",
    "\n",
    "print('Intensidades de corte', intensidade_corte120)"
   ]
  },
  {
   "cell_type": "code",
   "execution_count": 28,
   "id": "99309114",
   "metadata": {},
   "outputs": [],
   "source": [
    "# Criação da Máscara\n",
    "\n",
    "mask1_120 = data1_120[149, :, :] >= intensidade_corte120[0]\n",
    "mask2_120 = data2_120[149, :, :] >= intensidade_corte120[1]\n",
    "mask3_120 = data3_120[149, :, :] >= intensidade_corte120[2]\n",
    "mask4_120 = data4_120[149, :, :] >= intensidade_corte120[3]\n",
    "mask5_120 = data5_120[149, :, :] >= intensidade_corte120[4]"
   ]
  },
  {
   "cell_type": "code",
   "execution_count": 29,
   "id": "017346f7",
   "metadata": {},
   "outputs": [
    {
     "name": "stdout",
     "output_type": "stream",
     "text": [
      "A área irradiada com pelo menos 0.0032632887825393675 J/cm² é 11.5029 mm².\n",
      "A área irradiada com pelo menos 0.0032245254406404497 J/cm² é 11.63 mm².\n",
      "A área irradiada com pelo menos 0.0031859177531927824 J/cm² é 11.7543 mm².\n",
      "A área irradiada com pelo menos 0.003258575612568855 J/cm² é 11.5103 mm².\n",
      "A área irradiada com pelo menos 0.0031552355690824987 J/cm² é 11.8473 mm².\n"
     ]
    }
   ],
   "source": [
    "# Cálculo e print da área irradiada\n",
    "\n",
    "area1_120 = 0.0001*mask1_120.sum()\n",
    "print('A área irradiada com pelo menos',intensidade_corte120[0],'J/cm² é',area1_120,'mm².')\n",
    "\n",
    "area2_120 = 0.0001*mask2_120.sum()\n",
    "print('A área irradiada com pelo menos',intensidade_corte120[1],'J/cm² é',area2_120,'mm².')\n",
    "\n",
    "area3_120 = 0.0001*mask3_120.sum()\n",
    "print('A área irradiada com pelo menos',intensidade_corte120[2],'J/cm² é',area3_120,'mm².')\n",
    "\n",
    "area4_120 = 0.0001*mask4_120.sum()\n",
    "print('A área irradiada com pelo menos',intensidade_corte120[3],'J/cm² é',area4_120,'mm².')\n",
    "\n",
    "area5_120 = 0.0001*mask5_120.sum()\n",
    "print('A área irradiada com pelo menos',intensidade_corte120[4],'J/cm² é',area5_120,'mm².')\n"
   ]
  },
  {
   "cell_type": "code",
   "execution_count": 30,
   "id": "90e73f4d",
   "metadata": {},
   "outputs": [
    {
     "name": "stdout",
     "output_type": "stream",
     "text": [
      "0.0051712710861876315 J/cm²\n",
      "0.005150812271698894 J/cm²\n",
      "0.005131536555631738 J/cm²\n",
      "0.005171032012387383 J/cm²\n",
      "0.005115530969010857 J/cm²\n"
     ]
    }
   ],
   "source": [
    "# Cálculo da fluência média subcutânea\n",
    "\n",
    "soma = 0\n",
    "for i in range(0,400):\n",
    "    for j in range(0,400):\n",
    "        if mask1_120[i,j]==1:\n",
    "            soma = soma + data1_120[149,i,j]\n",
    "print(soma/mask1_120.sum(), 'J/cm²')\n",
    "\n",
    "soma = 0\n",
    "for i in range(0,400):\n",
    "    for j in range(0,400):\n",
    "        if mask2_120[i,j]==1:\n",
    "            soma = soma + data2_120[149,i,j]\n",
    "print(soma/mask2_120.sum(), 'J/cm²')\n",
    "\n",
    "soma = 0\n",
    "for i in range(0,400):\n",
    "    for j in range(0,400):\n",
    "        if mask3_120[i,j]==1:\n",
    "            soma = soma + data3_120[149,i,j]\n",
    "print(soma/mask3_120.sum(), 'J/cm²')\n",
    "\n",
    "soma = 0\n",
    "for i in range(0,400):\n",
    "    for j in range(0,400):\n",
    "        if mask4_120[i,j]==1:\n",
    "            soma = soma + data4_120[149,i,j]\n",
    "print(soma/mask4_120.sum(), 'J/cm²')\n",
    "\n",
    "soma = 0\n",
    "for i in range(0,400):\n",
    "    for j in range(0,400):\n",
    "        if mask5_120[i,j]==1:\n",
    "            soma = soma + data5_120[149,i,j]\n",
    "print(soma/mask5_120.sum(), 'J/cm²')"
   ]
  },
  {
   "cell_type": "markdown",
   "id": "b4759ec4",
   "metadata": {},
   "source": [
    "   "
   ]
  },
  {
   "cell_type": "markdown",
   "id": "c1c51197",
   "metadata": {},
   "source": [
    "# Divergências Reais"
   ]
  },
  {
   "cell_type": "markdown",
   "id": "5f29d7f9",
   "metadata": {},
   "source": [
    "## Aquisição de Dados"
   ]
  },
  {
   "cell_type": "code",
   "execution_count": 3,
   "id": "9aed2dc9",
   "metadata": {},
   "outputs": [],
   "source": [
    "# 0.011\n",
    "\n",
    "image1_t1 = nii.load(r'C:\\Users\\User\\Documents\\Raíssa\\Curso Monte Carlo\\pymcx-master\\pymcx\\F-div-theta1-s1.nii')\n",
    "image2_t1 = nii.load(r'C:\\Users\\User\\Documents\\Raíssa\\Curso Monte Carlo\\pymcx-master\\pymcx\\F-div-theta1-s2.nii')\n",
    "image3_t1 = nii.load(r'C:\\Users\\User\\Documents\\Raíssa\\Curso Monte Carlo\\pymcx-master\\pymcx\\F-div-theta1-s3.nii')\n",
    "image4_t1 = nii.load(r'C:\\Users\\User\\Documents\\Raíssa\\Curso Monte Carlo\\pymcx-master\\pymcx\\F-div-theta1-s4.nii')\n",
    "image5_t1 = nii.load(r'C:\\Users\\User\\Documents\\Raíssa\\Curso Monte Carlo\\pymcx-master\\pymcx\\F-div-theta1-s5.nii')\n",
    "\n",
    "data1_t1 = image1_t1.get_fdata()\n",
    "data1_t1 = np.squeeze(data1_t1)\n",
    "\n",
    "data2_t1 = image2_t1.get_fdata()\n",
    "data2_t1 = np.squeeze(data2_t1)\n",
    "\n",
    "data3_t1 = image3_t1.get_fdata()\n",
    "data3_t1 = np.squeeze(data3_t1)\n",
    "\n",
    "data4_t1 = image4_t1.get_fdata()\n",
    "data4_t1 = np.squeeze(data4_t1)\n",
    "\n",
    "data5_t1 = image5_t1.get_fdata()\n",
    "data5_t1 = np.squeeze(data5_t1)"
   ]
  },
  {
   "cell_type": "code",
   "execution_count": 4,
   "id": "e70f6f38",
   "metadata": {},
   "outputs": [],
   "source": [
    "# 0.015\n",
    "\n",
    "image1_t2 = nii.load(r'C:\\Users\\User\\Documents\\Raíssa\\Curso Monte Carlo\\pymcx-master\\pymcx\\F-div-theta2-s1.nii')\n",
    "image2_t2 = nii.load(r'C:\\Users\\User\\Documents\\Raíssa\\Curso Monte Carlo\\pymcx-master\\pymcx\\F-div-theta2-s2.nii')\n",
    "image3_t2 = nii.load(r'C:\\Users\\User\\Documents\\Raíssa\\Curso Monte Carlo\\pymcx-master\\pymcx\\F-div-theta2-s3.nii')\n",
    "image4_t2 = nii.load(r'C:\\Users\\User\\Documents\\Raíssa\\Curso Monte Carlo\\pymcx-master\\pymcx\\F-div-theta2-s4.nii')\n",
    "image5_t2 = nii.load(r'C:\\Users\\User\\Documents\\Raíssa\\Curso Monte Carlo\\pymcx-master\\pymcx\\F-div-theta2-s5.nii')\n",
    "\n",
    "data1_t2 = image1_t2.get_fdata()\n",
    "data1_t2 = np.squeeze(data1_t2)\n",
    "\n",
    "data2_t2 = image2_t2.get_fdata()\n",
    "data2_t2 = np.squeeze(data2_t2)\n",
    "\n",
    "data3_t2 = image3_t2.get_fdata()\n",
    "data3_t2 = np.squeeze(data3_t2)\n",
    "\n",
    "data4_t2 = image4_t2.get_fdata()\n",
    "data4_t2 = np.squeeze(data4_t2)\n",
    "\n",
    "data5_t2 = image5_t2.get_fdata()\n",
    "data5_t2 = np.squeeze(data5_t2)"
   ]
  },
  {
   "cell_type": "code",
   "execution_count": 5,
   "id": "6408ec0d",
   "metadata": {},
   "outputs": [],
   "source": [
    "# 0.020 (teorico)\n",
    "\n",
    "image1_t3 = nii.load(r'C:\\Users\\User\\Documents\\Raíssa\\Curso Monte Carlo\\pymcx-master\\pymcx\\F-div-theta3-s1.nii')\n",
    "image2_t3 = nii.load(r'C:\\Users\\User\\Documents\\Raíssa\\Curso Monte Carlo\\pymcx-master\\pymcx\\F-div-theta3-s2.nii')\n",
    "image3_t3 = nii.load(r'C:\\Users\\User\\Documents\\Raíssa\\Curso Monte Carlo\\pymcx-master\\pymcx\\F-div-theta3-s3.nii')\n",
    "image4_t3 = nii.load(r'C:\\Users\\User\\Documents\\Raíssa\\Curso Monte Carlo\\pymcx-master\\pymcx\\F-div-theta3-s4.nii')\n",
    "image5_t3 = nii.load(r'C:\\Users\\User\\Documents\\Raíssa\\Curso Monte Carlo\\pymcx-master\\pymcx\\F-div-theta3-s5.nii')\n",
    "\n",
    "data1_t3 = image1_t3.get_fdata()\n",
    "data1_t3 = np.squeeze(data1_t3)\n",
    "\n",
    "data2_t3 = image2_t3.get_fdata()\n",
    "data2_t3 = np.squeeze(data2_t3)\n",
    "\n",
    "data3_t3 = image3_t3.get_fdata()\n",
    "data3_t3 = np.squeeze(data3_t3)\n",
    "\n",
    "data4_t3 = image4_t3.get_fdata()\n",
    "data4_t3 = np.squeeze(data4_t3)\n",
    "\n",
    "data5_t3 = image5_t3.get_fdata()\n",
    "data5_t3 = np.squeeze(data5_t3)"
   ]
  },
  {
   "cell_type": "code",
   "execution_count": 6,
   "id": "a76af0d8",
   "metadata": {},
   "outputs": [],
   "source": [
    "# 0.027\n",
    "\n",
    "image1_t4 = nii.load(r'C:\\Users\\User\\Documents\\Raíssa\\Curso Monte Carlo\\pymcx-master\\pymcx\\F-div-theta4-s1.nii')\n",
    "image2_t4 = nii.load(r'C:\\Users\\User\\Documents\\Raíssa\\Curso Monte Carlo\\pymcx-master\\pymcx\\F-div-theta4-s2.nii')\n",
    "image3_t4 = nii.load(r'C:\\Users\\User\\Documents\\Raíssa\\Curso Monte Carlo\\pymcx-master\\pymcx\\F-div-theta4-s3.nii')\n",
    "image4_t4 = nii.load(r'C:\\Users\\User\\Documents\\Raíssa\\Curso Monte Carlo\\pymcx-master\\pymcx\\F-div-theta4-s4.nii')\n",
    "image5_t4 = nii.load(r'C:\\Users\\User\\Documents\\Raíssa\\Curso Monte Carlo\\pymcx-master\\pymcx\\F-div-theta4-s5.nii')\n",
    "\n",
    "data1_t4 = image1_t4.get_fdata()\n",
    "data1_t4 = np.squeeze(data1_t4)\n",
    "\n",
    "data2_t4 = image2_t4.get_fdata()\n",
    "data2_t4 = np.squeeze(data2_t4)\n",
    "\n",
    "data3_t4 = image3_t4.get_fdata()\n",
    "data3_t4 = np.squeeze(data3_t4)\n",
    "\n",
    "data4_t4 = image4_t4.get_fdata()\n",
    "data4_t4 = np.squeeze(data4_t4)\n",
    "\n",
    "data5_t4 = image5_t4.get_fdata()\n",
    "data5_t4 = np.squeeze(data5_t4)"
   ]
  },
  {
   "cell_type": "code",
   "execution_count": 7,
   "id": "6ed63679",
   "metadata": {},
   "outputs": [],
   "source": [
    "# 0.034\n",
    "\n",
    "image1_t5 = nii.load(r'C:\\Users\\User\\Documents\\Raíssa\\Curso Monte Carlo\\pymcx-master\\pymcx\\F-div-theta5-s1.nii')\n",
    "image2_t5 = nii.load(r'C:\\Users\\User\\Documents\\Raíssa\\Curso Monte Carlo\\pymcx-master\\pymcx\\F-div-theta5-s2.nii')\n",
    "image3_t5 = nii.load(r'C:\\Users\\User\\Documents\\Raíssa\\Curso Monte Carlo\\pymcx-master\\pymcx\\F-div-theta5-s3.nii')\n",
    "image4_t5 = nii.load(r'C:\\Users\\User\\Documents\\Raíssa\\Curso Monte Carlo\\pymcx-master\\pymcx\\F-div-theta5-s4.nii')\n",
    "image5_t5 = nii.load(r'C:\\Users\\User\\Documents\\Raíssa\\Curso Monte Carlo\\pymcx-master\\pymcx\\F-div-theta5-s5.nii')\n",
    "\n",
    "data1_t5 = image1_t5.get_fdata()\n",
    "data1_t5 = np.squeeze(data1_t5)\n",
    "\n",
    "data2_t5 = image2_t5.get_fdata()\n",
    "data2_t5 = np.squeeze(data2_t5)\n",
    "\n",
    "data3_t5 = image3_t5.get_fdata()\n",
    "data3_t5 = np.squeeze(data3_t5)\n",
    "\n",
    "data4_t5 = image4_t5.get_fdata()\n",
    "data4_t5 = np.squeeze(data4_t5)\n",
    "\n",
    "data5_t5 = image5_t5.get_fdata()\n",
    "data5_t5 = np.squeeze(data5_t5)"
   ]
  },
  {
   "cell_type": "markdown",
   "id": "c1d1931a",
   "metadata": {},
   "source": [
    "## Correção dos dados"
   ]
  },
  {
   "cell_type": "code",
   "execution_count": 8,
   "id": "a3b7b4e9",
   "metadata": {},
   "outputs": [],
   "source": [
    "# Correction t1\n",
    "\n",
    "data1_t1 = data1_t1*0.090792\n",
    "data2_t1 = data2_t1*0.090792\n",
    "data3_t1 = data3_t1*0.090792\n",
    "data4_t1 = data4_t1*0.090792\n",
    "data5_t1 = data5_t1*0.090792"
   ]
  },
  {
   "cell_type": "code",
   "execution_count": 9,
   "id": "2d2f01d4",
   "metadata": {},
   "outputs": [],
   "source": [
    "# Correction t1\n",
    "\n",
    "data1_t2 = data1_t2*0.090792\n",
    "data2_t2 = data2_t2*0.090792\n",
    "data3_t2 = data3_t2*0.090792\n",
    "data4_t2 = data4_t2*0.090792\n",
    "data5_t2 = data5_t2*0.090792"
   ]
  },
  {
   "cell_type": "code",
   "execution_count": 10,
   "id": "3f951534",
   "metadata": {},
   "outputs": [],
   "source": [
    "# Correction t3\n",
    "\n",
    "data1_t3 = data1_t3*0.090792\n",
    "data2_t3 = data2_t3*0.090792\n",
    "data3_t3 = data3_t3*0.090792\n",
    "data4_t3 = data4_t3*0.090792\n",
    "data5_t3 = data5_t3*0.090792"
   ]
  },
  {
   "cell_type": "code",
   "execution_count": 11,
   "id": "c366202c",
   "metadata": {},
   "outputs": [],
   "source": [
    "# Correction t4\n",
    "\n",
    "data1_t4 = data1_t4*0.090792\n",
    "data2_t4 = data2_t4*0.090792\n",
    "data3_t4 = data3_t4*0.090792\n",
    "data4_t4 = data4_t4*0.090792\n",
    "data5_t4 = data5_t4*0.090792"
   ]
  },
  {
   "cell_type": "code",
   "execution_count": 12,
   "id": "ed53b0ce",
   "metadata": {},
   "outputs": [],
   "source": [
    "# Correction t5\n",
    "\n",
    "data1_t5 = data1_t5*0.090792\n",
    "data2_t5 = data2_t5*0.090792\n",
    "data3_t5 = data3_t5*0.090792\n",
    "data4_t5 = data4_t5*0.090792\n",
    "data5_t5 = data5_t5*0.090792"
   ]
  },
  {
   "cell_type": "markdown",
   "id": "ea507c47",
   "metadata": {},
   "source": [
    "### t1"
   ]
  },
  {
   "cell_type": "code",
   "execution_count": 13,
   "id": "635948d4",
   "metadata": {},
   "outputs": [
    {
     "name": "stdout",
     "output_type": "stream",
     "text": [
      "1 - Intensidade inicial I0: 0.018144480218410492\n",
      "1 - Intensidade final If 0.012917539186120033\n",
      "  \n",
      "1 - Intensidade inicial I0: 0.01811107831656933\n",
      "1 - Intensidade final If 0.013002701927304268\n",
      "  \n",
      "1 - Intensidade inicial I0: 0.018052090252161025\n",
      "1 - Intensidade final If 0.013011842161774635\n",
      "  \n",
      "1 - Intensidade inicial I0: 0.018048065356135366\n",
      "1 - Intensidade final If 0.012939015219569206\n",
      "  \n",
      "1 - Intensidade inicial I0: 0.018122527961969375\n",
      "1 - Intensidade final If 0.012977259172797203\n",
      "  \n"
     ]
    }
   ],
   "source": [
    "# Print das intensidades inicial e final\n",
    "\n",
    "print('1 - Intensidade inicial I0:', data1_t1[49, 50, 50])\n",
    "print('1 - Intensidade final If', data1_t1[34,50,50])\n",
    "print('  ')\n",
    "\n",
    "print('1 - Intensidade inicial I0:', data2_t1[49, 50, 50])\n",
    "print('1 - Intensidade final If', data2_t1[34,50,50])\n",
    "print('  ')\n",
    "\n",
    "print('1 - Intensidade inicial I0:', data3_t1[49, 50, 50])\n",
    "print('1 - Intensidade final If', data3_t1[34,50,50])\n",
    "print('  ')\n",
    "\n",
    "print('1 - Intensidade inicial I0:', data4_t1[49, 50, 50])\n",
    "print('1 - Intensidade final If', data4_t1[34,50,50])\n",
    "print('  ')\n",
    "\n",
    "print('1 - Intensidade inicial I0:', data5_t1[49, 50, 50])\n",
    "print('1 - Intensidade final If', data5_t1[34,50,50])\n",
    "print('  ')"
   ]
  },
  {
   "cell_type": "code",
   "execution_count": 20,
   "id": "38fc45d0",
   "metadata": {},
   "outputs": [
    {
     "name": "stdout",
     "output_type": "stream",
     "text": [
      "Intensidades de corte [0.00245559 0.00245107 0.00244308 0.00244254 0.00245262]\n",
      "0.0024489797043898602\n"
     ]
    }
   ],
   "source": [
    "# Vetor com as intensidades de corte I0/e^2\n",
    "\n",
    "intensidade_cortet1 = np.zeros(5)\n",
    "intensidade_cortet1[0]=data1_t1[49, 50, 50]/7.389056099\n",
    "intensidade_cortet1[1]=data2_t1[49, 50, 50]/7.389056099\n",
    "intensidade_cortet1[2]=data3_t1[49, 50, 50]/7.389056099\n",
    "intensidade_cortet1[3]=data4_t1[49, 50, 50]/7.389056099\n",
    "intensidade_cortet1[4]=data5_t1[49, 50, 50]/7.389056099\n",
    "\n",
    "print('Intensidades de corte', intensidade_cortet1)\n",
    "\n",
    "soma =0\n",
    "for i in range(5):\n",
    "    soma = soma + intensidade_cortet1[i]\n",
    "intens_media_t1=soma/5\n",
    "\n",
    "print(intens_media_t1)"
   ]
  },
  {
   "cell_type": "code",
   "execution_count": 21,
   "id": "55084af5",
   "metadata": {},
   "outputs": [],
   "source": [
    "# Criação da Máscara\n",
    "\n",
    "mask1_t1 = data1_t1[34, :, :] >= intensidade_cortet1[0]\n",
    "mask2_t1 = data2_t1[34, :, :] >= intensidade_cortet1[1]\n",
    "mask3_t1 = data3_t1[34, :, :] >= intensidade_cortet1[2]\n",
    "mask4_t1 = data4_t1[34, :, :] >= intensidade_cortet1[3]\n",
    "mask5_t1 = data5_t1[34, :, :] >= intensidade_cortet1[4]"
   ]
  },
  {
   "cell_type": "code",
   "execution_count": 22,
   "id": "06666237",
   "metadata": {},
   "outputs": [
    {
     "name": "stdout",
     "output_type": "stream",
     "text": [
      "A área irradiada com pelo menos 0.0024555883695166533 J/cm² é 30.17 mm².\n",
      "A área irradiada com pelo menos 0.00245106791367038 J/cm² é 30.25 mm².\n",
      "A área irradiada com pelo menos 0.0024430847472661776 J/cm² é 30.400000000000002 mm².\n",
      "A área irradiada com pelo menos 0.0024425400368225524 J/cm² é 30.32 mm².\n",
      "A área irradiada com pelo menos 0.0024526174546735395 J/cm² é 30.2 mm².\n"
     ]
    }
   ],
   "source": [
    "# Cálculo e print da área irradiada\n",
    "\n",
    "area1_t1 = 0.01*mask1_t1.sum()\n",
    "print('A área irradiada com pelo menos',intensidade_cortet1[0],'J/cm² é',area1_t1,'mm².')\n",
    "\n",
    "area2_t1 = 0.01*mask2_t1.sum()\n",
    "print('A área irradiada com pelo menos',intensidade_cortet1[1],'J/cm² é',area2_t1,'mm².')\n",
    "\n",
    "area3_t1 = 0.01*mask3_t1.sum()\n",
    "print('A área irradiada com pelo menos',intensidade_cortet1[2],'J/cm² é',area3_t1,'mm².')\n",
    "\n",
    "area4_t1 = 0.01*mask4_t1.sum()\n",
    "print('A área irradiada com pelo menos',intensidade_cortet1[3],'J/cm² é',area4_t1,'mm².')\n",
    "\n",
    "area5_t1 = 0.01*mask5_t1.sum()\n",
    "print('A área irradiada com pelo menos',intensidade_cortet1[4],'J/cm² é',area5_t1,'mm².')"
   ]
  },
  {
   "cell_type": "code",
   "execution_count": 26,
   "id": "c5f61be3",
   "metadata": {},
   "outputs": [
    {
     "name": "stdout",
     "output_type": "stream",
     "text": [
      "0.006009643419135742 J/cm²\n",
      "0.005999506649177282 J/cm²\n",
      "0.005982105649369115 J/cm²\n",
      "0.005991129342955787 J/cm²\n",
      "0.006005893416217377 J/cm²\n"
     ]
    }
   ],
   "source": [
    "# Cálculo da fluência média subcutânea\n",
    "\n",
    "soma = 0\n",
    "for i in range(0,100):\n",
    "    for j in range(0,100):\n",
    "        if mask1_t1[i,j]==1:\n",
    "            soma = soma + data1_t1[34,i,j]\n",
    "print(soma/mask1_t1.sum(), 'J/cm²')\n",
    "\n",
    "soma = 0\n",
    "for i in range(0,100):\n",
    "    for j in range(0,100):\n",
    "        if mask2_t1[i,j]==1:\n",
    "            soma = soma + data2_t1[34,i,j]\n",
    "print(soma/mask2_t1.sum(), 'J/cm²')\n",
    "\n",
    "soma = 0\n",
    "for i in range(0,100):\n",
    "    for j in range(0,100):\n",
    "        if mask3_t1[i,j]==1:\n",
    "            soma = soma + data3_t1[34,i,j]\n",
    "print(soma/mask3_t1.sum(), 'J/cm²')\n",
    "\n",
    "soma = 0\n",
    "for i in range(0,100):\n",
    "    for j in range(0,100):\n",
    "        if mask4_t1[i,j]==1:\n",
    "            soma = soma + data4_t1[34,i,j]\n",
    "print(soma/mask4_t1.sum(), 'J/cm²')\n",
    "\n",
    "soma = 0\n",
    "for i in range(0,100):\n",
    "    for j in range(0,100):\n",
    "        if mask5_t1[i,j]==1:\n",
    "            soma = soma + data5_t1[34,i,j]\n",
    "print(soma/mask5_t1.sum(), 'J/cm²')"
   ]
  },
  {
   "cell_type": "markdown",
   "id": "444d78a9",
   "metadata": {},
   "source": [
    "### t2"
   ]
  },
  {
   "cell_type": "code",
   "execution_count": 27,
   "id": "7c070c4b",
   "metadata": {},
   "outputs": [
    {
     "name": "stdout",
     "output_type": "stream",
     "text": [
      "1 - Intensidade inicial I0: 0.01807512618649006\n",
      "1 - Intensidade final If 0.012895843981862068\n",
      "  \n",
      "1 - Intensidade inicial I0: 0.018208737852573393\n",
      "1 - Intensidade final If 0.012955655966162681\n",
      "  \n",
      "1 - Intensidade inicial I0: 0.018074816370964048\n",
      "1 - Intensidade final If 0.012909943970561027\n",
      "  \n",
      "1 - Intensidade inicial I0: 0.018133007573604584\n",
      "1 - Intensidade final If 0.012910372841835022\n",
      "  \n",
      "1 - Intensidade inicial I0: 0.018067961195111275\n",
      "1 - Intensidade final If 0.012923050926089287\n",
      "  \n"
     ]
    }
   ],
   "source": [
    "# Print das intensidades inicial e final\n",
    "\n",
    "print('1 - Intensidade inicial I0:', data1_t2[49, 50, 50])\n",
    "print('1 - Intensidade final If', data1_t2[34,50,50])\n",
    "print('  ')\n",
    "\n",
    "print('1 - Intensidade inicial I0:', data2_t2[49, 50, 50])\n",
    "print('1 - Intensidade final If', data2_t2[34,50,50])\n",
    "print('  ')\n",
    "\n",
    "print('1 - Intensidade inicial I0:', data3_t2[49, 50, 50])\n",
    "print('1 - Intensidade final If', data3_t2[34,50,50])\n",
    "print('  ')\n",
    "\n",
    "print('1 - Intensidade inicial I0:', data4_t2[49, 50, 50])\n",
    "print('1 - Intensidade final If', data4_t2[34,50,50])\n",
    "print('  ')\n",
    "\n",
    "print('1 - Intensidade inicial I0:', data5_t2[49, 50, 50])\n",
    "print('1 - Intensidade final If', data5_t2[34,50,50])\n",
    "print('  ')"
   ]
  },
  {
   "cell_type": "code",
   "execution_count": 28,
   "id": "05480cb6",
   "metadata": {},
   "outputs": [
    {
     "name": "stdout",
     "output_type": "stream",
     "text": [
      "Intensidades de corte [0.0024462  0.00246428 0.00244616 0.00245404 0.00244523]\n",
      "0.002451183154259697\n"
     ]
    }
   ],
   "source": [
    "# Vetor com as intensidades de corte I0/e^2\n",
    "\n",
    "intensidade_cortet2 = np.zeros(5)\n",
    "intensidade_cortet2[0]=data1_t2[49, 50, 50]/7.389056099\n",
    "intensidade_cortet2[1]=data2_t2[49, 50, 50]/7.389056099\n",
    "intensidade_cortet2[2]=data3_t2[49, 50, 50]/7.389056099\n",
    "intensidade_cortet2[3]=data4_t2[49, 50, 50]/7.389056099\n",
    "intensidade_cortet2[4]=data5_t2[49, 50, 50]/7.389056099\n",
    "\n",
    "print('Intensidades de corte', intensidade_cortet2)\n",
    "\n",
    "soma =0\n",
    "for i in range(5):\n",
    "    soma = soma + intensidade_cortet2[i]\n",
    "intens_media_t2=soma/5\n",
    "\n",
    "print(intens_media_t2)"
   ]
  },
  {
   "cell_type": "code",
   "execution_count": 29,
   "id": "bdb0b41c",
   "metadata": {},
   "outputs": [],
   "source": [
    "# Criação da Máscara\n",
    "\n",
    "mask1_t2 = data1_t2[34, :, :] >= intensidade_cortet2[0]\n",
    "mask2_t2 = data2_t2[34, :, :] >= intensidade_cortet2[1]\n",
    "mask3_t2 = data3_t2[34, :, :] >= intensidade_cortet2[2]\n",
    "mask4_t2 = data4_t2[34, :, :] >= intensidade_cortet2[3]\n",
    "mask5_t2 = data5_t2[34, :, :] >= intensidade_cortet2[4]"
   ]
  },
  {
   "cell_type": "code",
   "execution_count": 30,
   "id": "960d9c05",
   "metadata": {},
   "outputs": [
    {
     "name": "stdout",
     "output_type": "stream",
     "text": [
      "A área irradiada com pelo menos 0.0024462023219631885 J/cm² é 30.3 mm².\n",
      "A área irradiada com pelo menos 0.0024642846946361222 J/cm² é 30.13 mm².\n",
      "A área irradiada com pelo menos 0.002446160392991225 J/cm² é 30.35 mm².\n",
      "A área irradiada com pelo menos 0.002454035715882387 J/cm² é 30.22 mm².\n",
      "A área irradiada com pelo menos 0.0024452326458255617 J/cm² é 30.330000000000002 mm².\n"
     ]
    }
   ],
   "source": [
    "# Cálculo e print da área irradiada\n",
    "\n",
    "area1_t2 = 0.01*mask1_t2.sum()\n",
    "print('A área irradiada com pelo menos',intensidade_cortet2[0],'J/cm² é',area1_t2,'mm².')\n",
    "\n",
    "area2_t2 = 0.01*mask2_t2.sum()\n",
    "print('A área irradiada com pelo menos',intensidade_cortet2[1],'J/cm² é',area2_t2,'mm².')\n",
    "\n",
    "area3_t2 = 0.01*mask3_t2.sum()\n",
    "print('A área irradiada com pelo menos',intensidade_cortet2[2],'J/cm² é',area3_t2,'mm².')\n",
    "\n",
    "area4_t2 = 0.01*mask4_t2.sum()\n",
    "print('A área irradiada com pelo menos',intensidade_cortet2[3],'J/cm² é',area4_t2,'mm².')\n",
    "\n",
    "area5_t2 = 0.01*mask5_t2.sum()\n",
    "print('A área irradiada com pelo menos',intensidade_cortet2[4],'J/cm² é',area5_t2,'mm².')"
   ]
  },
  {
   "cell_type": "code",
   "execution_count": 31,
   "id": "56e6a5ee",
   "metadata": {},
   "outputs": [
    {
     "name": "stdout",
     "output_type": "stream",
     "text": [
      "0.005991451771032345 J/cm²\n",
      "0.006011249481778226 J/cm²\n",
      "0.005985235039647192 J/cm²\n",
      "0.005998698797020533 J/cm²\n",
      "0.005987371033275158 J/cm²\n"
     ]
    }
   ],
   "source": [
    "# Cálculo da fluência média subcutânea\n",
    "\n",
    "soma = 0\n",
    "for i in range(0,100):\n",
    "    for j in range(0,100):\n",
    "        if mask1_t2[i,j]==1:\n",
    "            soma = soma + data1_t2[34,i,j]\n",
    "print(soma/mask1_t2.sum(), 'J/cm²')\n",
    "\n",
    "soma = 0\n",
    "for i in range(0,100):\n",
    "    for j in range(0,100):\n",
    "        if mask2_t2[i,j]==1:\n",
    "            soma = soma + data2_t2[34,i,j]\n",
    "print(soma/mask2_t2.sum(), 'J/cm²')\n",
    "\n",
    "soma = 0\n",
    "for i in range(0,100):\n",
    "    for j in range(0,100):\n",
    "        if mask3_t2[i,j]==1:\n",
    "            soma = soma + data3_t2[34,i,j]\n",
    "print(soma/mask3_t2.sum(), 'J/cm²')\n",
    "\n",
    "soma = 0\n",
    "for i in range(0,100):\n",
    "    for j in range(0,100):\n",
    "        if mask4_t2[i,j]==1:\n",
    "            soma = soma + data4_t2[34,i,j]\n",
    "print(soma/mask4_t2.sum(), 'J/cm²')\n",
    "\n",
    "soma = 0\n",
    "for i in range(0,100):\n",
    "    for j in range(0,100):\n",
    "        if mask5_t2[i,j]==1:\n",
    "            soma = soma + data5_t2[34,i,j]\n",
    "print(soma/mask5_t2.sum(), 'J/cm²')"
   ]
  },
  {
   "cell_type": "markdown",
   "id": "51376764",
   "metadata": {},
   "source": [
    "### t3"
   ]
  },
  {
   "cell_type": "code",
   "execution_count": 32,
   "id": "0ba9bfa2",
   "metadata": {},
   "outputs": [
    {
     "name": "stdout",
     "output_type": "stream",
     "text": [
      "1 - Intensidade inicial I0: 0.01801754649746418\n",
      "1 - Intensidade final If 0.012844135905861854\n",
      "  \n",
      "1 - Intensidade inicial I0: 0.01807984782922268\n",
      "1 - Intensidade final If 0.012835382602572441\n",
      "  \n",
      "1 - Intensidade inicial I0: 0.018020200899481774\n",
      "1 - Intensidade final If 0.012878326552033425\n",
      "  \n",
      "1 - Intensidade inicial I0: 0.018087568865060806\n",
      "1 - Intensidade final If 0.012878206143379211\n",
      "  \n",
      "1 - Intensidade inicial I0: 0.01807855445086956\n",
      "1 - Intensidade final If 0.012880997188925743\n",
      "  \n"
     ]
    }
   ],
   "source": [
    "# Print das intensidades inicial e final\n",
    "\n",
    "print('1 - Intensidade inicial I0:', data1_t3[49, 50, 50])\n",
    "print('1 - Intensidade final If', data1_t3[34,50,50])\n",
    "print('  ')\n",
    "\n",
    "print('1 - Intensidade inicial I0:', data2_t3[49, 50, 50])\n",
    "print('1 - Intensidade final If', data2_t3[34,50,50])\n",
    "print('  ')\n",
    "\n",
    "print('1 - Intensidade inicial I0:', data3_t3[49, 50, 50])\n",
    "print('1 - Intensidade final If', data3_t3[34,50,50])\n",
    "print('  ')\n",
    "\n",
    "print('1 - Intensidade inicial I0:', data4_t3[49, 50, 50])\n",
    "print('1 - Intensidade final If', data4_t3[34,50,50])\n",
    "print('  ')\n",
    "\n",
    "print('1 - Intensidade inicial I0:', data5_t3[49, 50, 50])\n",
    "print('1 - Intensidade final If', data5_t3[34,50,50])\n",
    "print('  ')"
   ]
  },
  {
   "cell_type": "code",
   "execution_count": 33,
   "id": "0ca2cd9c",
   "metadata": {},
   "outputs": [
    {
     "name": "stdout",
     "output_type": "stream",
     "text": [
      "Intensidades de corte [0.00243841 0.00244684 0.00243877 0.00244789 0.00244667]\n",
      "0.0024437145240869826\n"
     ]
    }
   ],
   "source": [
    "# Vetor com as intensidades de corte I0/e^2\n",
    "\n",
    "intensidade_cortet3 = np.zeros(5)\n",
    "intensidade_cortet3[0]=data1_t3[49, 50, 50]/7.389056099\n",
    "intensidade_cortet3[1]=data2_t3[49, 50, 50]/7.389056099\n",
    "intensidade_cortet3[2]=data3_t3[49, 50, 50]/7.389056099\n",
    "intensidade_cortet3[3]=data4_t3[49, 50, 50]/7.389056099\n",
    "intensidade_cortet3[4]=data5_t3[49, 50, 50]/7.389056099\n",
    "\n",
    "print('Intensidades de corte', intensidade_cortet3)\n",
    "\n",
    "soma =0\n",
    "for i in range(5):\n",
    "    soma = soma + intensidade_cortet3[i]\n",
    "intens_media_t3=soma/5\n",
    "\n",
    "print(intens_media_t3)"
   ]
  },
  {
   "cell_type": "code",
   "execution_count": 34,
   "id": "b15eb1b0",
   "metadata": {},
   "outputs": [],
   "source": [
    "# Criação da Máscara\n",
    "\n",
    "mask1_t3 = data1_t3[34, :, :] >= intensidade_cortet3[0]\n",
    "mask2_t3 = data2_t3[34, :, :] >= intensidade_cortet3[1]\n",
    "mask3_t3 = data3_t3[34, :, :] >= intensidade_cortet3[2]\n",
    "mask4_t3 = data4_t3[34, :, :] >= intensidade_cortet3[3]\n",
    "mask5_t3 = data5_t3[34, :, :] >= intensidade_cortet3[4]"
   ]
  },
  {
   "cell_type": "code",
   "execution_count": 35,
   "id": "69da0ca2",
   "metadata": {},
   "outputs": [
    {
     "name": "stdout",
     "output_type": "stream",
     "text": [
      "A área irradiada com pelo menos 0.002438409758440268 J/cm² é 30.44 mm².\n",
      "A área irradiada com pelo menos 0.0024468413268197435 J/cm² é 30.400000000000002 mm².\n",
      "A área irradiada com pelo menos 0.0024387689926891397 J/cm² é 30.43 mm².\n",
      "A área irradiada com pelo menos 0.0024478862553917666 J/cm² é 30.330000000000002 mm².\n",
      "A área irradiada com pelo menos 0.0024466662870939937 J/cm² é 30.28 mm².\n"
     ]
    }
   ],
   "source": [
    "# Cálculo e print da área irradiada\n",
    "\n",
    "area1_t3 = 0.01*mask1_t3.sum()\n",
    "print('A área irradiada com pelo menos',intensidade_cortet3[0],'J/cm² é',area1_t3,'mm².')\n",
    "\n",
    "area2_t3 = 0.01*mask2_t3.sum()\n",
    "print('A área irradiada com pelo menos',intensidade_cortet3[1],'J/cm² é',area2_t3,'mm².')\n",
    "\n",
    "area3_t3 = 0.01*mask3_t3.sum()\n",
    "print('A área irradiada com pelo menos',intensidade_cortet3[2],'J/cm² é',area3_t3,'mm².')\n",
    "\n",
    "area4_t3 = 0.01*mask4_t3.sum()\n",
    "print('A área irradiada com pelo menos',intensidade_cortet3[3],'J/cm² é',area4_t3,'mm².')\n",
    "\n",
    "area5_t3 = 0.01*mask5_t3.sum()\n",
    "print('A área irradiada com pelo menos',intensidade_cortet3[4],'J/cm² é',area5_t3,'mm².')"
   ]
  },
  {
   "cell_type": "code",
   "execution_count": 36,
   "id": "fafcad07",
   "metadata": {},
   "outputs": [
    {
     "name": "stdout",
     "output_type": "stream",
     "text": [
      "0.005970985725180012 J/cm²\n",
      "0.005975633226264229 J/cm²\n",
      "0.005972001936554955 J/cm²\n",
      "0.005984692351319051 J/cm²\n",
      "0.005990911623223097 J/cm²\n"
     ]
    }
   ],
   "source": [
    "# Cálculo da fluência média subcutânea\n",
    "\n",
    "soma = 0\n",
    "for i in range(0,100):\n",
    "    for j in range(0,100):\n",
    "        if mask1_t3[i,j]==1:\n",
    "            soma = soma + data1_t3[34,i,j]\n",
    "print(soma/mask1_t3.sum(), 'J/cm²')\n",
    "\n",
    "soma = 0\n",
    "for i in range(0,100):\n",
    "    for j in range(0,100):\n",
    "        if mask2_t3[i,j]==1:\n",
    "            soma = soma + data2_t3[34,i,j]\n",
    "print(soma/mask2_t3.sum(), 'J/cm²')\n",
    "\n",
    "soma = 0\n",
    "for i in range(0,100):\n",
    "    for j in range(0,100):\n",
    "        if mask3_t3[i,j]==1:\n",
    "            soma = soma + data3_t3[34,i,j]\n",
    "print(soma/mask3_t3.sum(), 'J/cm²')\n",
    "\n",
    "soma = 0\n",
    "for i in range(0,100):\n",
    "    for j in range(0,100):\n",
    "        if mask4_t3[i,j]==1:\n",
    "            soma = soma + data4_t3[34,i,j]\n",
    "print(soma/mask4_t3.sum(), 'J/cm²')\n",
    "\n",
    "soma = 0\n",
    "for i in range(0,100):\n",
    "    for j in range(0,100):\n",
    "        if mask5_t3[i,j]==1:\n",
    "            soma = soma + data5_t3[34,i,j]\n",
    "print(soma/mask5_t3.sum(), 'J/cm²')"
   ]
  },
  {
   "cell_type": "markdown",
   "id": "8173097e",
   "metadata": {},
   "source": [
    "### t4"
   ]
  },
  {
   "cell_type": "code",
   "execution_count": 37,
   "id": "e5167666",
   "metadata": {},
   "outputs": [
    {
     "name": "stdout",
     "output_type": "stream",
     "text": [
      "1 - Intensidade inicial I0: 0.0181015957968235\n",
      "1 - Intensidade final If 0.012732153151631355\n",
      "  \n",
      "1 - Intensidade inicial I0: 0.018099828901290894\n",
      "1 - Intensidade final If 0.012760680532336234\n",
      "  \n",
      "1 - Intensidade inicial I0: 0.018016016360521317\n",
      "1 - Intensidade final If 0.012688695097804068\n",
      "  \n",
      "1 - Intensidade inicial I0: 0.018092427151322366\n",
      "1 - Intensidade final If 0.01277035516476631\n",
      "  \n",
      "1 - Intensidade inicial I0: 0.017994888023972512\n",
      "1 - Intensidade final If 0.012729356694459916\n",
      "  \n",
      "Intensidades de corte [0.00244978 0.00244955 0.0024382  0.00244854 0.00243534]\n",
      "0.0024442839524835116\n"
     ]
    }
   ],
   "source": [
    "# Print das intensidades inicial e final\n",
    "\n",
    "print('1 - Intensidade inicial I0:', data1_t4[49, 50, 50])\n",
    "print('1 - Intensidade final If', data1_t4[34,50,50])\n",
    "print('  ')\n",
    "\n",
    "print('1 - Intensidade inicial I0:', data2_t4[49, 50, 50])\n",
    "print('1 - Intensidade final If', data2_t4[34,50,50])\n",
    "print('  ')\n",
    "\n",
    "print('1 - Intensidade inicial I0:', data3_t4[49, 50, 50])\n",
    "print('1 - Intensidade final If', data3_t4[34,50,50])\n",
    "print('  ')\n",
    "\n",
    "print('1 - Intensidade inicial I0:', data4_t4[49, 50, 50])\n",
    "print('1 - Intensidade final If', data4_t4[34,50,50])\n",
    "print('  ')\n",
    "\n",
    "print('1 - Intensidade inicial I0:', data5_t4[49, 50, 50])\n",
    "print('1 - Intensidade final If', data5_t4[34,50,50])\n",
    "print('  ')\n",
    "\n",
    "# Vetor com as intensidades de corte I0/e^2\n",
    "\n",
    "intensidade_cortet4 = np.zeros(5)\n",
    "intensidade_cortet4[0]=data1_t4[49, 50, 50]/7.389056099\n",
    "intensidade_cortet4[1]=data2_t4[49, 50, 50]/7.389056099\n",
    "intensidade_cortet4[2]=data3_t4[49, 50, 50]/7.389056099\n",
    "intensidade_cortet4[3]=data4_t4[49, 50, 50]/7.389056099\n",
    "intensidade_cortet4[4]=data5_t4[49, 50, 50]/7.389056099\n",
    "\n",
    "print('Intensidades de corte', intensidade_cortet4)\n",
    "\n",
    "soma =0\n",
    "for i in range(5):\n",
    "    soma = soma + intensidade_cortet4[i]\n",
    "intens_media_t4=soma/5\n",
    "\n",
    "print(intens_media_t4)"
   ]
  },
  {
   "cell_type": "code",
   "execution_count": 38,
   "id": "571453a7",
   "metadata": {},
   "outputs": [
    {
     "name": "stdout",
     "output_type": "stream",
     "text": [
      "A área irradiada com pelo menos 0.002449784594174794 J/cm² é 30.35 mm².\n",
      "A área irradiada com pelo menos 0.0024495454708674414 J/cm² é 30.41 mm².\n",
      "A área irradiada com pelo menos 0.0024382026769237167 J/cm² é 30.51 mm².\n",
      "A área irradiada com pelo menos 0.0024485437529390133 J/cm² é 30.330000000000002 mm².\n",
      "A área irradiada com pelo menos 0.0024353432675125928 J/cm² é 30.57 mm².\n"
     ]
    }
   ],
   "source": [
    "# Criação da Máscara\n",
    "\n",
    "mask1_t4 = data1_t4[34, :, :] >= intensidade_cortet4[0]\n",
    "mask2_t4 = data2_t4[34, :, :] >= intensidade_cortet4[1]\n",
    "mask3_t4 = data3_t4[34, :, :] >= intensidade_cortet4[2]\n",
    "mask4_t4 = data4_t4[34, :, :] >= intensidade_cortet4[3]\n",
    "mask5_t4 = data5_t4[34, :, :] >= intensidade_cortet4[4]\n",
    "\n",
    "# Cálculo e print da área irradiada\n",
    "\n",
    "area1_t4 = 0.01*mask1_t4.sum()\n",
    "print('A área irradiada com pelo menos',intensidade_cortet4[0],'J/cm² é',area1_t4,'mm².')\n",
    "\n",
    "area2_t4 = 0.01*mask2_t4.sum()\n",
    "print('A área irradiada com pelo menos',intensidade_cortet4[1],'J/cm² é',area2_t4,'mm².')\n",
    "\n",
    "area3_t4 = 0.01*mask3_t4.sum()\n",
    "print('A área irradiada com pelo menos',intensidade_cortet4[2],'J/cm² é',area3_t4,'mm².')\n",
    "\n",
    "area4_t4 = 0.01*mask4_t4.sum()\n",
    "print('A área irradiada com pelo menos',intensidade_cortet4[3],'J/cm² é',area4_t4,'mm².')\n",
    "\n",
    "area5_t4 = 0.01*mask5_t4.sum()\n",
    "print('A área irradiada com pelo menos',intensidade_cortet4[4],'J/cm² é',area5_t4,'mm².')"
   ]
  },
  {
   "cell_type": "code",
   "execution_count": 40,
   "id": "bdbfa932",
   "metadata": {},
   "outputs": [
    {
     "name": "stdout",
     "output_type": "stream",
     "text": [
      "0.005975293440593866 J/cm²\n",
      "0.005969912160656317 J/cm²\n",
      "0.005959560897200452 J/cm²\n",
      "0.005979833648881585 J/cm²\n",
      "0.005952073041182433 J/cm²\n"
     ]
    }
   ],
   "source": [
    "# Cálculo da fluência média subcutânea\n",
    "\n",
    "soma = 0\n",
    "for i in range(0,100):\n",
    "    for j in range(0,100):\n",
    "        if mask1_t4[i,j]==1:\n",
    "            soma = soma + data1_t4[34,i,j]\n",
    "print(soma/mask1_t4.sum(), 'J/cm²')\n",
    "\n",
    "soma = 0\n",
    "for i in range(0,100):\n",
    "    for j in range(0,100):\n",
    "        if mask2_t4[i,j]==1:\n",
    "            soma = soma + data2_t4[34,i,j]\n",
    "print(soma/mask2_t4.sum(), 'J/cm²')\n",
    "\n",
    "soma = 0\n",
    "for i in range(0,100):\n",
    "    for j in range(0,100):\n",
    "        if mask3_t4[i,j]==1:\n",
    "            soma = soma + data3_t4[34,i,j]\n",
    "print(soma/mask3_t4.sum(), 'J/cm²')\n",
    "\n",
    "soma = 0\n",
    "for i in range(0,100):\n",
    "    for j in range(0,100):\n",
    "        if mask4_t4[i,j]==1:\n",
    "            soma = soma + data4_t4[34,i,j]\n",
    "print(soma/mask4_t4.sum(), 'J/cm²')\n",
    "\n",
    "soma = 0\n",
    "for i in range(0,100):\n",
    "    for j in range(0,100):\n",
    "        if mask5_t4[i,j]==1:\n",
    "            soma = soma + data5_t4[34,i,j]\n",
    "print(soma/mask5_t4.sum(), 'J/cm²')"
   ]
  },
  {
   "cell_type": "markdown",
   "id": "5ee85d6b",
   "metadata": {},
   "source": [
    "### t5"
   ]
  },
  {
   "cell_type": "code",
   "execution_count": 41,
   "id": "d7f8f956",
   "metadata": {},
   "outputs": [
    {
     "name": "stdout",
     "output_type": "stream",
     "text": [
      "1 - Intensidade inicial I0: 0.018001772963762284\n",
      "1 - Intensidade final If 0.012695649035811423\n",
      "  \n",
      "1 - Intensidade inicial I0: 0.018004565362215043\n",
      "1 - Intensidade final If 0.012690752868175507\n",
      "  \n",
      "1 - Intensidade inicial I0: 0.01804730502283573\n",
      "1 - Intensidade final If 0.012609819311857224\n",
      "  \n",
      "1 - Intensidade inicial I0: 0.01802634850537777\n",
      "1 - Intensidade final If 0.01263384151482582\n",
      "  \n",
      "1 - Intensidade inicial I0: 0.018035362919569014\n",
      "1 - Intensidade final If 0.012760451891183853\n",
      "  \n",
      "Intensidades de corte [0.00243628 0.00243665 0.00244244 0.0024396  0.00244082]\n",
      "0.0024391574124320325\n"
     ]
    }
   ],
   "source": [
    "# Print das intensidades inicial e final\n",
    "\n",
    "print('1 - Intensidade inicial I0:', data1_t5[49, 50, 50])\n",
    "print('1 - Intensidade final If', data1_t5[34,50,50])\n",
    "print('  ')\n",
    "\n",
    "print('1 - Intensidade inicial I0:', data2_t5[49, 50, 50])\n",
    "print('1 - Intensidade final If', data2_t5[34,50,50])\n",
    "print('  ')\n",
    "\n",
    "print('1 - Intensidade inicial I0:', data3_t5[49, 50, 50])\n",
    "print('1 - Intensidade final If', data3_t5[34,50,50])\n",
    "print('  ')\n",
    "\n",
    "print('1 - Intensidade inicial I0:', data4_t5[49, 50, 50])\n",
    "print('1 - Intensidade final If', data4_t5[34,50,50])\n",
    "print('  ')\n",
    "\n",
    "print('1 - Intensidade inicial I0:', data5_t5[49, 50, 50])\n",
    "print('1 - Intensidade final If', data5_t5[34,50,50])\n",
    "print('  ')\n",
    "\n",
    "# Vetor com as intensidades de corte I0/e^2\n",
    "\n",
    "intensidade_cortet5 = np.zeros(5)\n",
    "intensidade_cortet5[0]=data1_t5[49, 50, 50]/7.389056099\n",
    "intensidade_cortet5[1]=data2_t5[49, 50, 50]/7.389056099\n",
    "intensidade_cortet5[2]=data3_t5[49, 50, 50]/7.389056099\n",
    "intensidade_cortet5[3]=data4_t5[49, 50, 50]/7.389056099\n",
    "intensidade_cortet5[4]=data5_t5[49, 50, 50]/7.389056099\n",
    "\n",
    "print('Intensidades de corte', intensidade_cortet5)\n",
    "\n",
    "soma =0\n",
    "for i in range(5):\n",
    "    soma = soma + intensidade_cortet5[i]\n",
    "intens_media_t5=soma/5\n",
    "\n",
    "print(intens_media_t5)"
   ]
  },
  {
   "cell_type": "code",
   "execution_count": 42,
   "id": "8d30f504",
   "metadata": {},
   "outputs": [
    {
     "name": "stdout",
     "output_type": "stream",
     "text": [
      "A área irradiada com pelo menos 0.0024362750427891 J/cm² é 30.63 mm².\n",
      "A área irradiada com pelo menos 0.0024366529528246097 J/cm² é 30.560000000000002 mm².\n",
      "A área irradiada com pelo menos 0.002442437136900093 J/cm² é 30.45 mm².\n",
      "A área irradiada com pelo menos 0.002439600980674293 J/cm² é 30.46 mm².\n",
      "A área irradiada com pelo menos 0.002440820948972066 J/cm² é 30.52 mm².\n"
     ]
    }
   ],
   "source": [
    "# Criação da Máscara\n",
    "\n",
    "mask1_t5 = data1_t5[34, :, :] >= intensidade_cortet5[0]\n",
    "mask2_t5 = data2_t5[34, :, :] >= intensidade_cortet5[1]\n",
    "mask3_t5 = data3_t5[34, :, :] >= intensidade_cortet5[2]\n",
    "mask4_t5 = data4_t5[34, :, :] >= intensidade_cortet5[3]\n",
    "mask5_t5 = data5_t5[34, :, :] >= intensidade_cortet5[4]\n",
    "\n",
    "# Cálculo e print da área irradiada\n",
    "\n",
    "area1_t5 = 0.01*mask1_t5.sum()\n",
    "print('A área irradiada com pelo menos',intensidade_cortet5[0],'J/cm² é',area1_t5,'mm².')\n",
    "\n",
    "area2_t5 = 0.01*mask2_t5.sum()\n",
    "print('A área irradiada com pelo menos',intensidade_cortet5[1],'J/cm² é',area2_t5,'mm².')\n",
    "\n",
    "area3_t5 = 0.01*mask3_t5.sum()\n",
    "print('A área irradiada com pelo menos',intensidade_cortet5[2],'J/cm² é',area3_t5,'mm².')\n",
    "\n",
    "area4_t5 = 0.01*mask4_t5.sum()\n",
    "print('A área irradiada com pelo menos',intensidade_cortet5[3],'J/cm² é',area4_t5,'mm².')\n",
    "\n",
    "area5_t5 = 0.01*mask5_t5.sum()\n",
    "print('A área irradiada com pelo menos',intensidade_cortet5[4],'J/cm² é',area5_t5,'mm².')"
   ]
  },
  {
   "cell_type": "code",
   "execution_count": 43,
   "id": "0bc4c298",
   "metadata": {},
   "outputs": [
    {
     "name": "stdout",
     "output_type": "stream",
     "text": [
      "0.005941006026739972 J/cm²\n",
      "0.0059478204364992295 J/cm²\n",
      "0.005961217412142704 J/cm²\n",
      "0.00595981635896993 J/cm²\n",
      "0.005952739020094511 J/cm²\n"
     ]
    }
   ],
   "source": [
    "# Cálculo da fluência média subcutânea\n",
    "\n",
    "soma = 0\n",
    "for i in range(0,100):\n",
    "    for j in range(0,100):\n",
    "        if mask1_t5[i,j]==1:\n",
    "            soma = soma + data1_t5[34,i,j]\n",
    "print(soma/mask1_t5.sum(), 'J/cm²')\n",
    "\n",
    "soma = 0\n",
    "for i in range(0,100):\n",
    "    for j in range(0,100):\n",
    "        if mask2_t5[i,j]==1:\n",
    "            soma = soma + data2_t5[34,i,j]\n",
    "print(soma/mask2_t5.sum(), 'J/cm²')\n",
    "\n",
    "soma = 0\n",
    "for i in range(0,100):\n",
    "    for j in range(0,100):\n",
    "        if mask3_t5[i,j]==1:\n",
    "            soma = soma + data3_t5[34,i,j]\n",
    "print(soma/mask3_t5.sum(), 'J/cm²')\n",
    "\n",
    "soma = 0\n",
    "for i in range(0,100):\n",
    "    for j in range(0,100):\n",
    "        if mask4_t5[i,j]==1:\n",
    "            soma = soma + data4_t5[34,i,j]\n",
    "print(soma/mask4_t5.sum(), 'J/cm²')\n",
    "\n",
    "soma = 0\n",
    "for i in range(0,100):\n",
    "    for j in range(0,100):\n",
    "        if mask5_t5[i,j]==1:\n",
    "            soma = soma + data5_t5[34,i,j]\n",
    "print(soma/mask5_t5.sum(), 'J/cm²')"
   ]
  },
  {
   "cell_type": "code",
   "execution_count": null,
   "id": "8ec2a8c9",
   "metadata": {},
   "outputs": [],
   "source": []
  },
  {
   "cell_type": "code",
   "execution_count": null,
   "id": "2b528042",
   "metadata": {},
   "outputs": [],
   "source": []
  },
  {
   "cell_type": "code",
   "execution_count": null,
   "id": "c971f1b8",
   "metadata": {},
   "outputs": [],
   "source": []
  }
 ],
 "metadata": {
  "kernelspec": {
   "display_name": "Python 3 (ipykernel)",
   "language": "python",
   "name": "python3"
  },
  "language_info": {
   "codemirror_mode": {
    "name": "ipython",
    "version": 3
   },
   "file_extension": ".py",
   "mimetype": "text/x-python",
   "name": "python",
   "nbconvert_exporter": "python",
   "pygments_lexer": "ipython3",
   "version": "3.9.7"
  }
 },
 "nbformat": 4,
 "nbformat_minor": 5
}
