{
 "cells": [
  {
   "cell_type": "code",
   "execution_count": 6,
   "id": "4e2f2507",
   "metadata": {},
   "outputs": [],
   "source": [
    "# Import libraries\n",
    "\n",
    "import nibabel as nii\n",
    "import numpy as np\n",
    "import matplotlib.pyplot as plt\n",
    "import seaborn as sns\n",
    "import math\n"
   ]
  },
  {
   "cell_type": "markdown",
   "id": "6d5a748d",
   "metadata": {},
   "source": [
    "# Importação dos Dados"
   ]
  },
  {
   "cell_type": "code",
   "execution_count": 7,
   "id": "55815222",
   "metadata": {},
   "outputs": [],
   "source": [
    "# 660 nm\n",
    "\n",
    "image1_660 = nii.load(r'C:\\Users\\User\\Documents\\Raíssa\\Curso Monte Carlo\\pymcx-master\\pymcx\\March Weeks 1 and 2\\FR-660-e8-s1.nii')\n",
    "image2_660 = nii.load(r'C:\\Users\\User\\Documents\\Raíssa\\Curso Monte Carlo\\pymcx-master\\pymcx\\March Weeks 1 and 2\\FR-660-e8-s2.nii')\n",
    "image3_660 = nii.load(r'C:\\Users\\User\\Documents\\Raíssa\\Curso Monte Carlo\\pymcx-master\\pymcx\\March Weeks 1 and 2\\FR-660-e8-s3.nii')\n",
    "image4_660 = nii.load(r'C:\\Users\\User\\Documents\\Raíssa\\Curso Monte Carlo\\pymcx-master\\pymcx\\March Weeks 1 and 2\\FR-660-e8-s4.nii')\n",
    "image5_660 = nii.load(r'C:\\Users\\User\\Documents\\Raíssa\\Curso Monte Carlo\\pymcx-master\\pymcx\\March Weeks 1 and 2\\FR-660-e8-s5.nii')\n",
    "\n",
    "data1_660 = image1_660.get_fdata()\n",
    "data1_660 = np.squeeze(data1_660)\n",
    "data2_660 = image2_660.get_fdata()\n",
    "data2_660 = np.squeeze(data2_660)\n",
    "data3_660 = image3_660.get_fdata()\n",
    "data3_660 = np.squeeze(data3_660)\n",
    "data4_660 = image4_660.get_fdata()\n",
    "data4_660 = np.squeeze(data4_660)\n",
    "data5_660 = image5_660.get_fdata()\n",
    "data5_660 = np.squeeze(data5_660)\n"
   ]
  },
  {
   "cell_type": "code",
   "execution_count": 8,
   "id": "c95df5fd",
   "metadata": {},
   "outputs": [],
   "source": [
    "# 830 nm\n",
    "\n",
    "image1_830 = nii.load(r'C:\\Users\\User\\Documents\\Raíssa\\Curso Monte Carlo\\pymcx-master\\pymcx\\March Weeks 1 and 2\\FR-830-e8-s1.nii')\n",
    "image2_830 = nii.load(r'C:\\Users\\User\\Documents\\Raíssa\\Curso Monte Carlo\\pymcx-master\\pymcx\\March Weeks 1 and 2\\FR-830-e8-s2.nii')\n",
    "image3_830 = nii.load(r'C:\\Users\\User\\Documents\\Raíssa\\Curso Monte Carlo\\pymcx-master\\pymcx\\March Weeks 1 and 2\\FR-830-e8-s3.nii')\n",
    "image4_830 = nii.load(r'C:\\Users\\User\\Documents\\Raíssa\\Curso Monte Carlo\\pymcx-master\\pymcx\\March Weeks 1 and 2\\FR-830-e8-s4.nii')\n",
    "image5_830 = nii.load(r'C:\\Users\\User\\Documents\\Raíssa\\Curso Monte Carlo\\pymcx-master\\pymcx\\March Weeks 1 and 2\\FR-830-e8-s5.nii')\n",
    "\n",
    "data1_830 = image1_830.get_fdata()\n",
    "data1_830 = np.squeeze(data1_830)\n",
    "data2_830 = image2_830.get_fdata()\n",
    "data2_830 = np.squeeze(data2_830)\n",
    "data3_830 = image3_830.get_fdata()\n",
    "data3_830 = np.squeeze(data3_830)\n",
    "data4_830 = image4_830.get_fdata()\n",
    "data4_830 = np.squeeze(data4_830)\n",
    "data5_830 = image5_830.get_fdata()\n",
    "data5_830 = np.squeeze(data5_830)"
   ]
  },
  {
   "cell_type": "code",
   "execution_count": 9,
   "id": "84415a53",
   "metadata": {},
   "outputs": [],
   "source": [
    "# 904 nm\n",
    "\n",
    "image1_904 = nii.load(r'C:\\Users\\User\\Documents\\Raíssa\\Curso Monte Carlo\\pymcx-master\\pymcx\\March Weeks 1 and 2\\FR-904-e8-s1.nii')\n",
    "image2_904 = nii.load(r'C:\\Users\\User\\Documents\\Raíssa\\Curso Monte Carlo\\pymcx-master\\pymcx\\March Weeks 1 and 2\\FR-904-e8-s2.nii')\n",
    "image3_904 = nii.load(r'C:\\Users\\User\\Documents\\Raíssa\\Curso Monte Carlo\\pymcx-master\\pymcx\\March Weeks 1 and 2\\FR-904-e8-s3.nii')\n",
    "image4_904 = nii.load(r'C:\\Users\\User\\Documents\\Raíssa\\Curso Monte Carlo\\pymcx-master\\pymcx\\March Weeks 1 and 2\\FR-904-e8-s4.nii')\n",
    "image5_904 = nii.load(r'C:\\Users\\User\\Documents\\Raíssa\\Curso Monte Carlo\\pymcx-master\\pymcx\\March Weeks 1 and 2\\FR-904-e8-s5.nii')\n",
    "\n",
    "data1_904 = image1_904.get_fdata()\n",
    "data1_904 = np.squeeze(data1_904)\n",
    "data2_904 = image2_904.get_fdata()\n",
    "data2_904 = np.squeeze(data2_904)\n",
    "data3_904 = image3_904.get_fdata()\n",
    "data3_904 = np.squeeze(data3_904)\n",
    "data4_904 = image4_904.get_fdata()\n",
    "data4_904 = np.squeeze(data4_904)\n",
    "data5_904 = image5_904.get_fdata()\n",
    "data5_904 = np.squeeze(data5_904)"
   ]
  },
  {
   "cell_type": "markdown",
   "id": "7f0241d2",
   "metadata": {},
   "source": [
    "# Fluência Média no final da pele"
   ]
  },
  {
   "cell_type": "markdown",
   "id": "5f7f0545",
   "metadata": {},
   "source": [
    "## Máscaras"
   ]
  },
  {
   "cell_type": "markdown",
   "id": "cf7a61c0",
   "metadata": {},
   "source": [
    "### 660 nm"
   ]
  },
  {
   "cell_type": "code",
   "execution_count": 10,
   "id": "62febd7c",
   "metadata": {},
   "outputs": [],
   "source": [
    "# Correção da escala dos dados\n",
    "\n",
    "data1_660corr = 100*data1_660/31.83098865\n",
    "data2_660corr = 100*data2_660/31.83098865\n",
    "data3_660corr = 100*data3_660/31.83098865\n",
    "data4_660corr = 100*data4_660/31.83098865\n",
    "data5_660corr = 100*data5_660/31.83098865"
   ]
  },
  {
   "cell_type": "code",
   "execution_count": 11,
   "id": "bcb06023",
   "metadata": {},
   "outputs": [
    {
     "name": "stdout",
     "output_type": "stream",
     "text": [
      "1 - Intensidade inicial I0: 2.632782908252\n",
      "1 - Intensidade final If 0.700114626391775\n",
      "  \n",
      "2 - Intensidade inicial I0: 2.625198766429585\n",
      "2 - Intensidade final If 0.6955806570582572\n",
      "  \n",
      "3 - Intensidade inicial I0: 2.615580676938534\n",
      "3 - Intensidade final If 0.7036363500422026\n",
      "  \n",
      "4 - Intensidade inicial I0: 2.6603981202232774\n",
      "4 - Intensidade final If 0.7221279622394197\n",
      "  \n",
      "5 - Intensidade inicial I0: 2.614301735438186\n",
      "5 - Intensidade final If 0.718653800981538\n"
     ]
    }
   ],
   "source": [
    "# Print das intensidades inicial e final\n",
    "\n",
    "print('1 - Intensidade inicial I0:', data1_660corr[149,300,300])\n",
    "print('1 - Intensidade final If', data1_660corr[0,300,300])\n",
    "print('  ')\n",
    "print('2 - Intensidade inicial I0:', data2_660corr[149,300,300])\n",
    "print('2 - Intensidade final If', data2_660corr[0,300,300])\n",
    "print('  ')\n",
    "print('3 - Intensidade inicial I0:', data3_660corr[149,300,300])\n",
    "print('3 - Intensidade final If', data3_660corr[0,300,300])\n",
    "print('  ')\n",
    "print('4 - Intensidade inicial I0:', data4_660corr[149,300,300])\n",
    "print('4 - Intensidade final If', data4_660corr[0,300,300])\n",
    "print('  ')\n",
    "print('5 - Intensidade inicial I0:', data5_660corr[149,300,300])\n",
    "print('5 - Intensidade final If', data5_660corr[0,300,300])"
   ]
  },
  {
   "cell_type": "code",
   "execution_count": 12,
   "id": "e2727333",
   "metadata": {},
   "outputs": [
    {
     "name": "stdout",
     "output_type": "stream",
     "text": [
      "Intensidades de corte [0.35630842 0.35528202 0.35398035 0.36004573 0.35380727]\n"
     ]
    }
   ],
   "source": [
    "# Vetor com as intensidades de corte I0/e^2\n",
    "\n",
    "intensidade_corte660 = np.zeros(5)\n",
    "intensidade_corte660[0]=data1_660corr[149, 300, 300]/7.389056099\n",
    "intensidade_corte660[1]=data2_660corr[149, 300, 300]/7.389056099\n",
    "intensidade_corte660[2]=data3_660corr[149, 300, 300]/7.389056099\n",
    "intensidade_corte660[3]=data4_660corr[149, 300, 300]/7.389056099\n",
    "intensidade_corte660[4]=data5_660corr[149, 300, 300]/7.389056099\n",
    "print('Intensidades de corte', intensidade_corte660)"
   ]
  },
  {
   "cell_type": "code",
   "execution_count": 13,
   "id": "0683d794",
   "metadata": {},
   "outputs": [],
   "source": [
    "#Criação da Máscara\n",
    "\n",
    "mask1_6 = data1_660corr[0, :, :] >= intensidade_corte660[0]\n",
    "mask2_6 = data2_660corr[0, :, :] >= intensidade_corte660[1]\n",
    "mask3_6 = data3_660corr[0, :, :] >= intensidade_corte660[2]\n",
    "mask4_6 = data4_660corr[0, :, :] >= intensidade_corte660[3]\n",
    "mask5_6 = data5_660corr[0, :, :] >= intensidade_corte660[4]"
   ]
  },
  {
   "cell_type": "code",
   "execution_count": 14,
   "id": "ce04df6c",
   "metadata": {},
   "outputs": [
    {
     "name": "stdout",
     "output_type": "stream",
     "text": [
      "52957\n"
     ]
    }
   ],
   "source": [
    "print(mask1_6.sum())"
   ]
  },
  {
   "cell_type": "markdown",
   "id": "6b1f92bb",
   "metadata": {},
   "source": [
    "### 830 nm"
   ]
  },
  {
   "cell_type": "code",
   "execution_count": 15,
   "id": "362423f9",
   "metadata": {},
   "outputs": [],
   "source": [
    "# Correção da escala dos dados\n",
    "\n",
    "data1_830corr = 100*data1_830/31.83098865\n",
    "data2_830corr = 100*data2_830/31.83098865\n",
    "data3_830corr = 100*data3_830/31.83098865\n",
    "data4_830corr = 100*data4_830/31.83098865\n",
    "data5_830corr = 100*data5_830/31.83098865"
   ]
  },
  {
   "cell_type": "code",
   "execution_count": 16,
   "id": "bb712a71",
   "metadata": {},
   "outputs": [
    {
     "name": "stdout",
     "output_type": "stream",
     "text": [
      "1 - Intensidade inicial I0: 2.4474391928807013\n",
      "1 - Intensidade final If 0.7949920027782259\n",
      "  \n",
      "2 - Intensidade inicial I0: 2.4933503839404856\n",
      "2 - Intensidade final If 0.7761056601735807\n",
      "  \n",
      "3 - Intensidade inicial I0: 2.4082395422682774\n",
      "3 - Intensidade final If 0.7887978437899371\n",
      "  \n",
      "4 - Intensidade inicial I0: 2.456093675788913\n",
      "4 - Intensidade final If 0.8161745884111862\n",
      "  \n",
      "5 - Intensidade inicial I0: 2.4814204625660827\n",
      "5 - Intensidade final If 0.8231483774048481\n"
     ]
    }
   ],
   "source": [
    "# Print das intensidades inicial e final\n",
    "\n",
    "print('1 - Intensidade inicial I0:', data1_830corr[149,300,300])\n",
    "print('1 - Intensidade final If', data1_830corr[0,300,300])\n",
    "print('  ')\n",
    "print('2 - Intensidade inicial I0:', data2_830corr[149,300,300])\n",
    "print('2 - Intensidade final If', data2_830corr[0,300,300])\n",
    "print('  ')\n",
    "print('3 - Intensidade inicial I0:', data3_830corr[149,300,300])\n",
    "print('3 - Intensidade final If', data3_830corr[0,300,300])\n",
    "print('  ')\n",
    "print('4 - Intensidade inicial I0:', data4_830corr[149,300,300])\n",
    "print('4 - Intensidade final If', data4_830corr[0,300,300])\n",
    "print('  ')\n",
    "print('5 - Intensidade inicial I0:', data5_830corr[149,300,300])\n",
    "print('5 - Intensidade final If', data5_830corr[0,300,300])"
   ]
  },
  {
   "cell_type": "code",
   "execution_count": 17,
   "id": "193230b2",
   "metadata": {},
   "outputs": [
    {
     "name": "stdout",
     "output_type": "stream",
     "text": [
      "Intensidades de corte [0.33122488 0.33743828 0.32591978 0.33239613 0.33582374]\n"
     ]
    }
   ],
   "source": [
    "# Vetor com as intensidades de corte I0/e^2\n",
    "\n",
    "intensidade_corte830 = np.zeros(5)\n",
    "intensidade_corte830[0]=data1_830corr[149, 300, 300]/7.389056099\n",
    "intensidade_corte830[1]=data2_830corr[149, 300, 300]/7.389056099\n",
    "intensidade_corte830[2]=data3_830corr[149, 300, 300]/7.389056099\n",
    "intensidade_corte830[3]=data4_830corr[149, 300, 300]/7.389056099\n",
    "intensidade_corte830[4]=data5_830corr[149, 300, 300]/7.389056099\n",
    "print('Intensidades de corte', intensidade_corte830)"
   ]
  },
  {
   "cell_type": "code",
   "execution_count": 18,
   "id": "75f8979f",
   "metadata": {},
   "outputs": [],
   "source": [
    "#Criação da Máscara\n",
    "\n",
    "mask1_8 = data1_830corr[0, :, :] >= intensidade_corte830[0]\n",
    "mask2_8 = data2_830corr[0, :, :] >= intensidade_corte830[1]\n",
    "mask3_8 = data3_830corr[0, :, :] >= intensidade_corte830[2]\n",
    "mask4_8 = data4_830corr[0, :, :] >= intensidade_corte830[3]\n",
    "mask5_8 = data5_830corr[0, :, :] >= intensidade_corte830[4]"
   ]
  },
  {
   "cell_type": "markdown",
   "id": "7683377c",
   "metadata": {},
   "source": [
    "### 904 nm"
   ]
  },
  {
   "cell_type": "code",
   "execution_count": 19,
   "id": "3d573722",
   "metadata": {},
   "outputs": [],
   "source": [
    "# Correção da escala dos dados\n",
    "\n",
    "data1_904corr = 100*data1_904/31.83098865\n",
    "data2_904corr = 100*data2_904/31.83098865\n",
    "data3_904corr = 100*data3_904/31.83098865\n",
    "data4_904corr = 100*data4_904/31.83098865\n",
    "data5_904corr = 100*data5_904/31.83098865"
   ]
  },
  {
   "cell_type": "code",
   "execution_count": 20,
   "id": "2667517f",
   "metadata": {},
   "outputs": [
    {
     "name": "stdout",
     "output_type": "stream",
     "text": [
      "1 - Intensidade inicial I0: 2.2224767535327357\n",
      "1 - Intensidade final If 0.7949118582742509\n",
      "  \n",
      "2 - Intensidade inicial I0: 2.210077200345321\n",
      "2 - Intensidade final If 0.8401039958404284\n",
      "  \n",
      "3 - Intensidade inicial I0: 2.222308038116658\n",
      "3 - Intensidade final If 0.8069610601370465\n",
      "  \n",
      "4 - Intensidade inicial I0: 2.2826617182011626\n",
      "4 - Intensidade final If 0.8640339650302125\n",
      "  \n",
      "5 - Intensidade inicial I0: 2.174083329891895\n",
      "5 - Intensidade final If 0.807382193289943\n"
     ]
    }
   ],
   "source": [
    "# Print das intensidades inicial e final\n",
    "\n",
    "print('1 - Intensidade inicial I0:', data1_904corr[149,300,300])\n",
    "print('1 - Intensidade final If', data1_904corr[0,300,300])\n",
    "print('  ')\n",
    "print('2 - Intensidade inicial I0:', data2_904corr[149,300,300])\n",
    "print('2 - Intensidade final If', data2_904corr[0,300,300])\n",
    "print('  ')\n",
    "print('3 - Intensidade inicial I0:', data3_904corr[149,300,300])\n",
    "print('3 - Intensidade final If', data3_904corr[0,300,300])\n",
    "print('  ')\n",
    "print('4 - Intensidade inicial I0:', data4_904corr[149,300,300])\n",
    "print('4 - Intensidade final If', data4_904corr[0,300,300])\n",
    "print('  ')\n",
    "print('5 - Intensidade inicial I0:', data5_904corr[149,300,300])\n",
    "print('5 - Intensidade final If', data5_904corr[0,300,300])"
   ]
  },
  {
   "cell_type": "code",
   "execution_count": 21,
   "id": "04d06d92",
   "metadata": {},
   "outputs": [
    {
     "name": "stdout",
     "output_type": "stream",
     "text": [
      "Intensidades de corte [0.30077952 0.29910142 0.30075669 0.30892467 0.29423018]\n"
     ]
    }
   ],
   "source": [
    "# Vetor com as intensidades de corte I0/e^2\n",
    "\n",
    "intensidade_corte904 = np.zeros(5)\n",
    "intensidade_corte904[0]=data1_904corr[149, 300, 300]/7.389056099\n",
    "intensidade_corte904[1]=data2_904corr[149, 300, 300]/7.389056099\n",
    "intensidade_corte904[2]=data3_904corr[149, 300, 300]/7.389056099\n",
    "intensidade_corte904[3]=data4_904corr[149, 300, 300]/7.389056099\n",
    "intensidade_corte904[4]=data5_904corr[149, 300, 300]/7.389056099\n",
    "print('Intensidades de corte', intensidade_corte904)"
   ]
  },
  {
   "cell_type": "code",
   "execution_count": 22,
   "id": "37e24ed8",
   "metadata": {},
   "outputs": [],
   "source": [
    "#Criação da Máscara\n",
    "\n",
    "mask1_9 = data1_904corr[0, :, :] >= intensidade_corte904[0]\n",
    "mask2_9 = data2_904corr[0, :, :] >= intensidade_corte904[1]\n",
    "mask3_9 = data3_904corr[0, :, :] >= intensidade_corte904[2]\n",
    "mask4_9 = data4_904corr[0, :, :] >= intensidade_corte904[3]\n",
    "mask5_9 = data5_904corr[0, :, :] >= intensidade_corte904[4]"
   ]
  },
  {
   "cell_type": "markdown",
   "id": "50241294",
   "metadata": {},
   "source": [
    "### 660 nm"
   ]
  },
  {
   "cell_type": "code",
   "execution_count": 23,
   "id": "2e37a49a",
   "metadata": {},
   "outputs": [
    {
     "name": "stdout",
     "output_type": "stream",
     "text": [
      "0.5065843187822057 J/mm²\n",
      "0.5059225459187063 J/mm²\n",
      "0.505259508807484 J/mm²\n",
      "0.5095652903386821 J/mm²\n",
      "0.5053678390505812 J/mm²\n"
     ]
    }
   ],
   "source": [
    "soma = 0\n",
    "for i in range(0,600):\n",
    "    for j in range(0,600):\n",
    "        if mask1_6[i,j]==1:\n",
    "            soma =soma+data1_660corr[0,i,j]\n",
    "print(soma/mask1_6.sum(), 'J/mm²')\n",
    "\n",
    "soma = 0\n",
    "for i in range(0,600):\n",
    "    for j in range(0,600):\n",
    "        if mask2_6[i,j]==1:\n",
    "            soma =soma+data2_660corr[0,i,j]\n",
    "print(soma/mask2_6.sum(),'J/mm²')\n",
    "\n",
    "soma = 0\n",
    "for i in range(0,600):\n",
    "    for j in range(0,600):\n",
    "        if mask3_6[i,j]==1:\n",
    "            soma =soma+data3_660corr[0,i,j]\n",
    "print(soma/mask3_6.sum(),'J/mm²')\n",
    "\n",
    "soma = 0\n",
    "for i in range(0,600):\n",
    "    for j in range(0,600):\n",
    "        if mask4_6[i,j]==1:\n",
    "            soma =soma+data4_660corr[0,i,j]\n",
    "print(soma/mask4_6.sum(),'J/mm²')\n",
    "\n",
    "soma = 0\n",
    "for i in range(0,600):\n",
    "    for j in range(0,600):\n",
    "        if mask5_6[i,j]==1:\n",
    "            soma =soma+data5_660corr[0,i,j]\n",
    "print(soma/mask5_6.sum(), 'J/mm²')"
   ]
  },
  {
   "cell_type": "markdown",
   "id": "0beb5538",
   "metadata": {},
   "source": [
    "### 830 nm"
   ]
  },
  {
   "cell_type": "code",
   "execution_count": 24,
   "id": "4c493c68",
   "metadata": {},
   "outputs": [
    {
     "name": "stdout",
     "output_type": "stream",
     "text": [
      "0.5235177567395415 J/mm²\n",
      "0.5277874254109735 J/mm²\n",
      "0.5191656361086888 J/mm²\n",
      "0.524038166937168 J/mm²\n",
      "0.5264463105004776 J/mm²\n"
     ]
    }
   ],
   "source": [
    "soma = 0\n",
    "for i in range(0,600):\n",
    "    for j in range(0,600):\n",
    "        if mask1_8[i,j]==1:\n",
    "            soma =soma+data1_830corr[0,i,j]\n",
    "print(soma/mask1_8.sum(), 'J/mm²')\n",
    "\n",
    "soma = 0\n",
    "for i in range(0,600):\n",
    "    for j in range(0,600):\n",
    "        if mask2_8[i,j]==1:\n",
    "            soma =soma+data2_830corr[0,i,j]\n",
    "print(soma/mask2_8.sum(),'J/mm²')\n",
    "\n",
    "soma = 0\n",
    "for i in range(0,600):\n",
    "    for j in range(0,600):\n",
    "        if mask3_8[i,j]==1:\n",
    "            soma =soma+data3_830corr[0,i,j]\n",
    "print(soma/mask3_8.sum(),'J/mm²')\n",
    "\n",
    "soma = 0\n",
    "for i in range(0,600):\n",
    "    for j in range(0,600):\n",
    "        if mask4_8[i,j]==1:\n",
    "            soma =soma+data4_830corr[0,i,j]\n",
    "print(soma/mask4_8.sum(),'J/mm²')\n",
    "\n",
    "soma = 0\n",
    "for i in range(0,600):\n",
    "    for j in range(0,600):\n",
    "        if mask5_8[i,j]==1:\n",
    "            soma =soma+data5_830corr[0,i,j]\n",
    "print(soma/mask5_8.sum(), 'J/mm²')"
   ]
  },
  {
   "cell_type": "markdown",
   "id": "a823890b",
   "metadata": {},
   "source": [
    "### 904 nm"
   ]
  },
  {
   "cell_type": "code",
   "execution_count": 25,
   "id": "b2145181",
   "metadata": {},
   "outputs": [
    {
     "name": "stdout",
     "output_type": "stream",
     "text": [
      "0.5086750501147711 J/mm²\n",
      "0.5074475563175219 J/mm²\n",
      "0.508665261631843 J/mm²\n",
      "0.5156608933189789 J/mm²\n",
      "0.503140943920925 J/mm²\n"
     ]
    }
   ],
   "source": [
    "soma = 0\n",
    "for i in range(0,600):\n",
    "    for j in range(0,600):\n",
    "        if mask1_9[i,j]==1:\n",
    "            soma =soma+data1_904corr[0,i,j]\n",
    "print(soma/mask1_9.sum(), 'J/mm²')\n",
    "\n",
    "soma = 0\n",
    "for i in range(0,600):\n",
    "    for j in range(0,600):\n",
    "        if mask2_9[i,j]==1:\n",
    "            soma =soma+data2_904corr[0,i,j]\n",
    "print(soma/mask2_9.sum(),'J/mm²')\n",
    "\n",
    "soma = 0\n",
    "for i in range(0,600):\n",
    "    for j in range(0,600):\n",
    "        if mask3_9[i,j]==1:\n",
    "            soma =soma+data3_904corr[0,i,j]\n",
    "print(soma/mask3_9.sum(),'J/mm²')\n",
    "\n",
    "soma = 0\n",
    "for i in range(0,600):\n",
    "    for j in range(0,600):\n",
    "        if mask4_9[i,j]==1:\n",
    "            soma =soma+data4_904corr[0,i,j]\n",
    "print(soma/mask4_9.sum(),'J/mm²')\n",
    "\n",
    "soma = 0\n",
    "for i in range(0,600):\n",
    "    for j in range(0,600):\n",
    "        if mask5_9[i,j]==1:\n",
    "            soma =soma+data5_904corr[0,i,j]\n",
    "print(soma/mask5_9.sum(), 'J/mm²')"
   ]
  },
  {
   "cell_type": "markdown",
   "id": "d2d49653",
   "metadata": {},
   "source": [
    "# Fluência na Superfície da Pele"
   ]
  },
  {
   "cell_type": "markdown",
   "id": "d00b09e4",
   "metadata": {},
   "source": [
    "### 660 nm"
   ]
  },
  {
   "cell_type": "code",
   "execution_count": 26,
   "id": "67ddf5cc",
   "metadata": {},
   "outputs": [],
   "source": [
    "#Criação da Máscara\n",
    "\n",
    "mask1_6 = data1_660corr[149, :, :] >= intensidade_corte660[0]\n",
    "mask2_6 = data2_660corr[149, :, :] >= intensidade_corte660[1]\n",
    "mask3_6 = data3_660corr[149, :, :] >= intensidade_corte660[2]\n",
    "mask4_6 = data4_660corr[149, :, :] >= intensidade_corte660[3]\n",
    "mask5_6 = data5_660corr[149, :, :] >= intensidade_corte660[4]"
   ]
  },
  {
   "cell_type": "code",
   "execution_count": 27,
   "id": "af6d7fdb",
   "metadata": {},
   "outputs": [
    {
     "name": "stdout",
     "output_type": "stream",
     "text": [
      "0.44322170940536276 J/mm²\n",
      "0.4426563595448986 J/mm²\n",
      "0.44212783823346674 J/mm²\n",
      "0.4448467406313945 J/mm²\n",
      "0.441899178894017 J/mm²\n"
     ]
    }
   ],
   "source": [
    "soma = 0\n",
    "for i in range(0,600):\n",
    "    for j in range(0,600):\n",
    "        if mask1_6[i,j]==1:\n",
    "            soma =soma+data1_660corr[0,i,j]\n",
    "print(soma/mask1_6.sum(), 'J/mm²')\n",
    "\n",
    "soma = 0\n",
    "for i in range(0,600):\n",
    "    for j in range(0,600):\n",
    "        if mask2_6[i,j]==1:\n",
    "            soma =soma+data2_660corr[0,i,j]\n",
    "print(soma/mask2_6.sum(),'J/mm²')\n",
    "\n",
    "soma = 0\n",
    "for i in range(0,600):\n",
    "    for j in range(0,600):\n",
    "        if mask3_6[i,j]==1:\n",
    "            soma =soma+data3_660corr[0,i,j]\n",
    "print(soma/mask3_6.sum(),'J/mm²')\n",
    "\n",
    "soma = 0\n",
    "for i in range(0,600):\n",
    "    for j in range(0,600):\n",
    "        if mask4_6[i,j]==1:\n",
    "            soma =soma+data4_660corr[0,i,j]\n",
    "print(soma/mask4_6.sum(),'J/mm²')\n",
    "\n",
    "soma = 0\n",
    "for i in range(0,600):\n",
    "    for j in range(0,600):\n",
    "        if mask5_6[i,j]==1:\n",
    "            soma =soma+data5_660corr[0,i,j]\n",
    "print(soma/mask5_6.sum(), 'J/mm²')"
   ]
  },
  {
   "cell_type": "markdown",
   "id": "9312ef46",
   "metadata": {},
   "source": [
    "### 830 nm"
   ]
  },
  {
   "cell_type": "code",
   "execution_count": 28,
   "id": "88542127",
   "metadata": {},
   "outputs": [],
   "source": [
    "#Criação da Máscara\n",
    "\n",
    "mask1_8 = data1_830corr[149, :, :] >= intensidade_corte830[0]\n",
    "mask2_8 = data2_830corr[149, :, :] >= intensidade_corte830[1]\n",
    "mask3_8 = data3_830corr[149, :, :] >= intensidade_corte830[2]\n",
    "mask4_8 = data4_830corr[149, :, :] >= intensidade_corte830[3]\n",
    "mask5_8 = data5_830corr[149, :, :] >= intensidade_corte830[4]"
   ]
  },
  {
   "cell_type": "code",
   "execution_count": 29,
   "id": "cc0277ec",
   "metadata": {},
   "outputs": [
    {
     "name": "stdout",
     "output_type": "stream",
     "text": [
      "0.48722785809994573 J/mm²\n",
      "0.49055618236025783 J/mm²\n",
      "0.48412875102646324 J/mm²\n",
      "0.4877023017258527 J/mm²\n",
      "0.48986635298185444 J/mm²\n"
     ]
    }
   ],
   "source": [
    "soma = 0\n",
    "for i in range(0,600):\n",
    "    for j in range(0,600):\n",
    "        if mask1_8[i,j]==1:\n",
    "            soma =soma+data1_830corr[0,i,j]\n",
    "print(soma/mask1_8.sum(), 'J/mm²')\n",
    "\n",
    "soma = 0\n",
    "for i in range(0,600):\n",
    "    for j in range(0,600):\n",
    "        if mask2_8[i,j]==1:\n",
    "            soma =soma+data2_830corr[0,i,j]\n",
    "print(soma/mask2_8.sum(),'J/mm²')\n",
    "\n",
    "soma = 0\n",
    "for i in range(0,600):\n",
    "    for j in range(0,600):\n",
    "        if mask3_8[i,j]==1:\n",
    "            soma =soma+data3_830corr[0,i,j]\n",
    "print(soma/mask3_8.sum(),'J/mm²')\n",
    "\n",
    "soma = 0\n",
    "for i in range(0,600):\n",
    "    for j in range(0,600):\n",
    "        if mask4_8[i,j]==1:\n",
    "            soma =soma+data4_830corr[0,i,j]\n",
    "print(soma/mask4_8.sum(),'J/mm²')\n",
    "\n",
    "soma = 0\n",
    "for i in range(0,600):\n",
    "    for j in range(0,600):\n",
    "        if mask5_8[i,j]==1:\n",
    "            soma =soma+data5_830corr[0,i,j]\n",
    "print(soma/mask5_8.sum(), 'J/mm²')"
   ]
  },
  {
   "cell_type": "markdown",
   "id": "df14f399",
   "metadata": {},
   "source": [
    "### 904 nm"
   ]
  },
  {
   "cell_type": "code",
   "execution_count": 30,
   "id": "a3aa269c",
   "metadata": {},
   "outputs": [],
   "source": [
    "#Criação da Máscara\n",
    "\n",
    "mask1_9 = data1_904corr[149, :, :] >= intensidade_corte904[0]\n",
    "mask2_9 = data2_904corr[149, :, :] >= intensidade_corte904[1]\n",
    "mask3_9 = data3_904corr[149, :, :] >= intensidade_corte904[2]\n",
    "mask4_9 = data4_904corr[149, :, :] >= intensidade_corte904[3]\n",
    "mask5_9 = data5_904corr[149, :, :] >= intensidade_corte904[4]"
   ]
  },
  {
   "cell_type": "code",
   "execution_count": 31,
   "id": "1e5380e2",
   "metadata": {},
   "outputs": [
    {
     "name": "stdout",
     "output_type": "stream",
     "text": [
      "0.49652271200613124 J/mm²\n",
      "0.49501180483777646 J/mm²\n",
      "0.49606825728173654 J/mm²\n",
      "0.502166524151572 J/mm²\n",
      "0.4911885552630876 J/mm²\n"
     ]
    }
   ],
   "source": [
    "soma = 0\n",
    "for i in range(0,600):\n",
    "    for j in range(0,600):\n",
    "        if mask1_9[i,j]==1:\n",
    "            soma =soma+data1_904corr[0,i,j]\n",
    "print(soma/mask1_9.sum(), 'J/mm²')\n",
    "\n",
    "soma = 0\n",
    "for i in range(0,600):\n",
    "    for j in range(0,600):\n",
    "        if mask2_9[i,j]==1:\n",
    "            soma =soma+data2_904corr[0,i,j]\n",
    "print(soma/mask2_9.sum(),'J/mm²')\n",
    "\n",
    "soma = 0\n",
    "for i in range(0,600):\n",
    "    for j in range(0,600):\n",
    "        if mask3_9[i,j]==1:\n",
    "            soma =soma+data3_904corr[0,i,j]\n",
    "print(soma/mask3_9.sum(),'J/mm²')\n",
    "\n",
    "soma = 0\n",
    "for i in range(0,600):\n",
    "    for j in range(0,600):\n",
    "        if mask4_9[i,j]==1:\n",
    "            soma =soma+data4_904corr[0,i,j]\n",
    "print(soma/mask4_9.sum(),'J/mm²')\n",
    "\n",
    "soma = 0\n",
    "for i in range(0,600):\n",
    "    for j in range(0,600):\n",
    "        if mask5_9[i,j]==1:\n",
    "            soma =soma+data5_904corr[0,i,j]\n",
    "print(soma/mask5_9.sum(), 'J/mm²')"
   ]
  },
  {
   "cell_type": "code",
   "execution_count": null,
   "id": "d28d7ae2",
   "metadata": {},
   "outputs": [],
   "source": []
  }
 ],
 "metadata": {
  "kernelspec": {
   "display_name": "Python 3 (ipykernel)",
   "language": "python",
   "name": "python3"
  },
  "language_info": {
   "codemirror_mode": {
    "name": "ipython",
    "version": 3
   },
   "file_extension": ".py",
   "mimetype": "text/x-python",
   "name": "python",
   "nbconvert_exporter": "python",
   "pygments_lexer": "ipython3",
   "version": "3.9.7"
  }
 },
 "nbformat": 4,
 "nbformat_minor": 5
}
