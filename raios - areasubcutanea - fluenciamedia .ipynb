{
 "cells": [
  {
   "cell_type": "markdown",
   "id": "fa6a490e",
   "metadata": {},
   "source": [
    "# Cálculo da Área Irradiada"
   ]
  },
  {
   "cell_type": "code",
   "execution_count": 3,
   "id": "655188e3",
   "metadata": {},
   "outputs": [],
   "source": [
    "# Import libraries\n",
    "\n",
    "import nibabel as nii\n",
    "import numpy as np\n",
    "import matplotlib.pyplot as plt\n",
    "import seaborn as sns\n",
    "import math\n"
   ]
  },
  {
   "cell_type": "markdown",
   "id": "6d5a748d",
   "metadata": {},
   "source": [
    "# Importação dos Dados"
   ]
  },
  {
   "cell_type": "markdown",
   "id": "e314d8b8",
   "metadata": {},
   "source": [
    "## Comparação de Comprimentos de Onda"
   ]
  },
  {
   "cell_type": "code",
   "execution_count": 8,
   "id": "55815222",
   "metadata": {},
   "outputs": [],
   "source": [
    "# # 660 nm\n",
    "\n",
    "# image1_660 = nii.load(r'C:\\Users\\User\\Documents\\Raíssa\\Curso Monte Carlo\\pymcx-master\\pymcx\\March Weeks 1 and 2\\FR-660-e8-s1.nii')\n",
    "# image2_660 = nii.load(r'C:\\Users\\User\\Documents\\Raíssa\\Curso Monte Carlo\\pymcx-master\\pymcx\\March Weeks 1 and 2\\FR-660-e8-s2.nii')\n",
    "# image3_660 = nii.load(r'C:\\Users\\User\\Documents\\Raíssa\\Curso Monte Carlo\\pymcx-master\\pymcx\\March Weeks 1 and 2\\FR-660-e8-s3.nii')\n",
    "# image4_660 = nii.load(r'C:\\Users\\User\\Documents\\Raíssa\\Curso Monte Carlo\\pymcx-master\\pymcx\\March Weeks 1 and 2\\FR-660-e8-s4.nii')\n",
    "# image5_660 = nii.load(r'C:\\Users\\User\\Documents\\Raíssa\\Curso Monte Carlo\\pymcx-master\\pymcx\\March Weeks 1 and 2\\FR-660-e8-s5.nii')\n",
    "\n",
    "# data1_660 = image1_660.get_fdata()\n",
    "# data1_660 = np.squeeze(data1_660)\n",
    "# data2_660 = image2_660.get_fdata()\n",
    "# data2_660 = np.squeeze(data2_660)\n",
    "# data3_660 = image3_660.get_fdata()\n",
    "# data3_660 = np.squeeze(data3_660)\n",
    "# data4_660 = image4_660.get_fdata()\n",
    "# data4_660 = np.squeeze(data4_660)\n",
    "# data5_660 = image5_660.get_fdata()\n",
    "# data5_660 = np.squeeze(data5_660)\n"
   ]
  },
  {
   "cell_type": "code",
   "execution_count": 9,
   "id": "c95df5fd",
   "metadata": {},
   "outputs": [],
   "source": [
    "# # 830 nm\n",
    "\n",
    "# image1_830 = nii.load(r'C:\\Users\\User\\Documents\\Raíssa\\Curso Monte Carlo\\pymcx-master\\pymcx\\March Weeks 1 and 2\\FR-830-e8-s1.nii')\n",
    "# image2_830 = nii.load(r'C:\\Users\\User\\Documents\\Raíssa\\Curso Monte Carlo\\pymcx-master\\pymcx\\March Weeks 1 and 2\\FR-830-e8-s2.nii')\n",
    "# image3_830 = nii.load(r'C:\\Users\\User\\Documents\\Raíssa\\Curso Monte Carlo\\pymcx-master\\pymcx\\March Weeks 1 and 2\\FR-830-e8-s3.nii')\n",
    "# image4_830 = nii.load(r'C:\\Users\\User\\Documents\\Raíssa\\Curso Monte Carlo\\pymcx-master\\pymcx\\March Weeks 1 and 2\\FR-830-e8-s4.nii')\n",
    "# image5_830 = nii.load(r'C:\\Users\\User\\Documents\\Raíssa\\Curso Monte Carlo\\pymcx-master\\pymcx\\March Weeks 1 and 2\\FR-830-e8-s5.nii')\n",
    "\n",
    "# data1_830 = image1_830.get_fdata()\n",
    "# data1_830 = np.squeeze(data1_830)\n",
    "# data2_830 = image2_830.get_fdata()\n",
    "# data2_830 = np.squeeze(data2_830)\n",
    "# data3_830 = image3_830.get_fdata()\n",
    "# data3_830 = np.squeeze(data3_830)\n",
    "# data4_830 = image4_830.get_fdata()\n",
    "# data4_830 = np.squeeze(data4_830)\n",
    "# data5_830 = image5_830.get_fdata()\n",
    "# data5_830 = np.squeeze(data5_830)"
   ]
  },
  {
   "cell_type": "code",
   "execution_count": 10,
   "id": "84415a53",
   "metadata": {},
   "outputs": [],
   "source": [
    "# # 904 nm\n",
    "\n",
    "# image1_904 = nii.load(r'C:\\Users\\User\\Documents\\Raíssa\\Curso Monte Carlo\\pymcx-master\\pymcx\\March Weeks 1 and 2\\FR-904-e8-s1.nii')\n",
    "# image2_904 = nii.load(r'C:\\Users\\User\\Documents\\Raíssa\\Curso Monte Carlo\\pymcx-master\\pymcx\\March Weeks 1 and 2\\FR-904-e8-s2.nii')\n",
    "# image3_904 = nii.load(r'C:\\Users\\User\\Documents\\Raíssa\\Curso Monte Carlo\\pymcx-master\\pymcx\\March Weeks 1 and 2\\FR-904-e8-s3.nii')\n",
    "# image4_904 = nii.load(r'C:\\Users\\User\\Documents\\Raíssa\\Curso Monte Carlo\\pymcx-master\\pymcx\\March Weeks 1 and 2\\FR-904-e8-s4.nii')\n",
    "# image5_904 = nii.load(r'C:\\Users\\User\\Documents\\Raíssa\\Curso Monte Carlo\\pymcx-master\\pymcx\\March Weeks 1 and 2\\FR-904-e8-s5.nii')\n",
    "\n",
    "# data1_904 = image1_904.get_fdata()\n",
    "# data1_904 = np.squeeze(data1_904)\n",
    "# data2_904 = image2_904.get_fdata()\n",
    "# data2_904 = np.squeeze(data2_904)\n",
    "# data3_904 = image3_904.get_fdata()\n",
    "# data3_904 = np.squeeze(data3_904)\n",
    "# data4_904 = image4_904.get_fdata()\n",
    "# data4_904 = np.squeeze(data4_904)\n",
    "# data5_904 = image5_904.get_fdata()\n",
    "# data5_904 = np.squeeze(data5_904)"
   ]
  },
  {
   "cell_type": "code",
   "execution_count": 11,
   "id": "536b4d88",
   "metadata": {},
   "outputs": [],
   "source": [
    "# # Teste pro cálculo da área irradiada\n",
    "\n",
    "# intensidade_e = np.zeros(3)\n",
    "# print('Intensidade máxima:', 100*data1_660[149,300,300]/31.83098865)\n",
    "# print('Intensidade final', 100*data1_660[0,300,300]/31.83098865)\n",
    "# print('Intensidade de corte', 100*data1_660[149,300, 300]/86.525598) #86.525598=31,83098865*e\n",
    "# data1_660corr = 100*data1_660/31.83098865\n",
    "# mask_teste = data1_660corr[0,:,:] >= data1_660corr[149,300,300]/7.389056\n",
    "# areairradiada_teste = 0.000001*mask_teste.sum()\n",
    "# print('A área irradiada com pelo menos',data1_660corr[149,300,300]/7.389056,'W/cm^2 é',areairradiada_teste,'cm^2.')\n",
    "\n",
    "# # Conclusão, não dá pra usar a curva de intensidade limitante como sento I0/e"
   ]
  },
  {
   "cell_type": "markdown",
   "id": "cf7a61c0",
   "metadata": {},
   "source": [
    "### 660 nm"
   ]
  },
  {
   "cell_type": "code",
   "execution_count": 12,
   "id": "62febd7c",
   "metadata": {},
   "outputs": [],
   "source": [
    "# # Correção da escala dos dados\n",
    "\n",
    "# data1_660corr = 100*data1_660/31.83098865\n",
    "# data2_660corr = 100*data2_660/31.83098865\n",
    "# data3_660corr = 100*data3_660/31.83098865\n",
    "# data4_660corr = 100*data4_660/31.83098865\n",
    "# data5_660corr = 100*data5_660/31.83098865"
   ]
  },
  {
   "cell_type": "code",
   "execution_count": 13,
   "id": "bcb06023",
   "metadata": {},
   "outputs": [],
   "source": [
    "# # Print das intensidades inicial e final\n",
    "\n",
    "# print('1 - Intensidade inicial I0:', data1_660corr[149,300,300])\n",
    "# print('1 - Intensidade final If', data1_660corr[0,300,300])\n",
    "# print('  ')\n",
    "# print('2 - Intensidade inicial I0:', data2_660corr[149,300,300])\n",
    "# print('2 - Intensidade final If', data2_660corr[0,300,300])\n",
    "# print('  ')\n",
    "# print('3 - Intensidade inicial I0:', data3_660corr[149,300,300])\n",
    "# print('3 - Intensidade final If', data3_660corr[0,300,300])\n",
    "# print('  ')\n",
    "# print('4 - Intensidade inicial I0:', data4_660corr[149,300,300])\n",
    "# print('4 - Intensidade final If', data4_660corr[0,300,300])\n",
    "# print('  ')\n",
    "# print('5 - Intensidade inicial I0:', data5_660corr[149,300,300])\n",
    "# print('5 - Intensidade final If', data5_660corr[0,300,300])"
   ]
  },
  {
   "cell_type": "code",
   "execution_count": 14,
   "id": "e2727333",
   "metadata": {},
   "outputs": [],
   "source": [
    "# # Vetor com as intensidades de corte I0/e^2\n",
    "\n",
    "# intensidade_corte660 = np.zeros(5)\n",
    "# intensidade_corte660[0]=data1_660corr[149, 300, 300]/7.389056099\n",
    "# intensidade_corte660[1]=data2_660corr[149, 300, 300]/7.389056099\n",
    "# intensidade_corte660[2]=data3_660corr[149, 300, 300]/7.389056099\n",
    "# intensidade_corte660[3]=data4_660corr[149, 300, 300]/7.389056099\n",
    "# intensidade_corte660[4]=data5_660corr[149, 300, 300]/7.389056099\n",
    "# print('Intensidades de corte', intensidade_corte660)"
   ]
  },
  {
   "cell_type": "code",
   "execution_count": 15,
   "id": "0683d794",
   "metadata": {},
   "outputs": [],
   "source": [
    "# #Criação da Máscara\n",
    "\n",
    "# mask1_6 = data1_660corr[0, :, :] >= intensidade_corte660[0]\n",
    "# mask2_6 = data2_660corr[0, :, :] >= intensidade_corte660[1]\n",
    "# mask3_6 = data3_660corr[0, :, :] >= intensidade_corte660[2]\n",
    "# mask4_6 = data4_660corr[0, :, :] >= intensidade_corte660[3]\n",
    "# mask5_6 = data5_660corr[0, :, :] >= intensidade_corte660[4]"
   ]
  },
  {
   "cell_type": "code",
   "execution_count": 16,
   "id": "ce04df6c",
   "metadata": {},
   "outputs": [],
   "source": [
    "# print(mask1_6.sum())"
   ]
  },
  {
   "cell_type": "code",
   "execution_count": 17,
   "id": "b7ccb852",
   "metadata": {},
   "outputs": [],
   "source": [
    "# soma = 0\n",
    "# for i in range(0,600):\n",
    "#     for j in range(0,600):\n",
    "#         if mask1_6[i,j]==1:\n",
    "#             soma =soma+data1_660corr[0,i,j]\n",
    "# print(soma/52957)"
   ]
  },
  {
   "cell_type": "code",
   "execution_count": 18,
   "id": "bb29cc0b",
   "metadata": {},
   "outputs": [],
   "source": [
    "# # Cálculo e print da área irradiada\n",
    "\n",
    "# areairradiada1 = 0.0001*mask1_6.sum()\n",
    "# print('A área irradiada com pelo menos',intensidade_corte660[0],'J/cm^2 é',areairradiada1,'mm^2.')\n",
    "# areairradiada2 = 0.0001*mask2_6.sum()\n",
    "# print('A área irradiada com pelo menos',intensidade_corte660[1],'J/cm^2 é',areairradiada2,'mm^2.')\n",
    "# areairradiada3 = 0.0001*mask3_6.sum()\n",
    "# print('A área irradiada com pelo menos',intensidade_corte660[2],'J/cm^2 é',areairradiada3,'mm^2.')\n",
    "# areairradiada4 = 0.0001*mask4_6.sum()\n",
    "# print('A área irradiada com pelo menos',intensidade_corte660[3],'J/cm^2 é',areairradiada4,'mm^2.')\n",
    "# areairradiada5 = 0.0001*mask5_6.sum()\n",
    "# print('A área irradiada com pelo menos',intensidade_corte660[4],'J/cm^2 é',areairradiada5,'mm^2.')"
   ]
  },
  {
   "cell_type": "markdown",
   "id": "6b1f92bb",
   "metadata": {},
   "source": [
    "### 830 nm"
   ]
  },
  {
   "cell_type": "code",
   "execution_count": 19,
   "id": "362423f9",
   "metadata": {},
   "outputs": [],
   "source": [
    "# # Correção da escala dos dados\n",
    "\n",
    "# data1_830corr = 100*data1_830/31.83098865\n",
    "# data2_830corr = 100*data2_830/31.83098865\n",
    "# data3_830corr = 100*data3_830/31.83098865\n",
    "# data4_830corr = 100*data4_830/31.83098865\n",
    "# data5_830corr = 100*data5_830/31.83098865"
   ]
  },
  {
   "cell_type": "code",
   "execution_count": 20,
   "id": "bb712a71",
   "metadata": {},
   "outputs": [],
   "source": [
    "# # Print das intensidades inicial e final\n",
    "\n",
    "# print('1 - Intensidade inicial I0:', data1_830corr[149,300,300])\n",
    "# print('1 - Intensidade final If', data1_830corr[0,300,300])\n",
    "# print('  ')\n",
    "# print('2 - Intensidade inicial I0:', data2_830corr[149,300,300])\n",
    "# print('2 - Intensidade final If', data2_830corr[0,300,300])\n",
    "# print('  ')\n",
    "# print('3 - Intensidade inicial I0:', data3_830corr[149,300,300])\n",
    "# print('3 - Intensidade final If', data3_830corr[0,300,300])\n",
    "# print('  ')\n",
    "# print('4 - Intensidade inicial I0:', data4_830corr[149,300,300])\n",
    "# print('4 - Intensidade final If', data4_830corr[0,300,300])\n",
    "# print('  ')\n",
    "# print('5 - Intensidade inicial I0:', data5_830corr[149,300,300])\n",
    "# print('5 - Intensidade final If', data5_830corr[0,300,300])"
   ]
  },
  {
   "cell_type": "code",
   "execution_count": 21,
   "id": "193230b2",
   "metadata": {},
   "outputs": [],
   "source": [
    "# # Vetor com as intensidades de corte I0/e^2\n",
    "\n",
    "# intensidade_corte830 = np.zeros(5)\n",
    "# intensidade_corte830[0]=data1_830corr[149, 300, 300]/7.389056099\n",
    "# intensidade_corte830[1]=data2_830corr[149, 300, 300]/7.389056099\n",
    "# intensidade_corte830[2]=data3_830corr[149, 300, 300]/7.389056099\n",
    "# intensidade_corte830[3]=data4_830corr[149, 300, 300]/7.389056099\n",
    "# intensidade_corte830[4]=data5_830corr[149, 300, 300]/7.389056099\n",
    "# print('Intensidades de corte', intensidade_corte830)"
   ]
  },
  {
   "cell_type": "code",
   "execution_count": 22,
   "id": "75f8979f",
   "metadata": {},
   "outputs": [],
   "source": [
    "# #Criação da Máscara\n",
    "\n",
    "# mask1_8 = data1_830corr[0, :, :] >= intensidade_corte830[0]\n",
    "# mask2_8 = data2_830corr[0, :, :] >= intensidade_corte830[1]\n",
    "# mask3_8 = data3_830corr[0, :, :] >= intensidade_corte830[2]\n",
    "# mask4_8 = data4_830corr[0, :, :] >= intensidade_corte830[3]\n",
    "# mask5_8 = data5_830corr[0, :, :] >= intensidade_corte830[4]"
   ]
  },
  {
   "cell_type": "code",
   "execution_count": 23,
   "id": "a61d6021",
   "metadata": {},
   "outputs": [],
   "source": [
    "# # Cálculo e print da área irradiada\n",
    "\n",
    "# areairradiada1 = 0.0001*mask1_8.sum()\n",
    "# print('A área irradiada com pelo menos',intensidade_corte830[0],'J/cm^2 é',areairradiada1,'mm^2.')\n",
    "# areairradiada2 = 0.0001*mask2_8.sum()\n",
    "# print('A área irradiada com pelo menos',intensidade_corte830[1],'J/cm^2 é',areairradiada2,'mm^2.')\n",
    "# areairradiada3 = 0.0001*mask3_8.sum()\n",
    "# print('A área irradiada com pelo menos',intensidade_corte830[2],'J/cm^2 é',areairradiada3,'mm^2.')\n",
    "# areairradiada4 = 0.0001*mask4_8.sum()\n",
    "# print('A área irradiada com pelo menos',intensidade_corte830[3],'J/cm^2 é',areairradiada4,'mm^2.')\n",
    "# areairradiada5 = 0.0001*mask5_8.sum()\n",
    "# print('A área irradiada com pelo menos',intensidade_corte830[4],'J/cm^2 é',areairradiada5,'mm^2.')"
   ]
  },
  {
   "cell_type": "markdown",
   "id": "7683377c",
   "metadata": {},
   "source": [
    "### 904 nm"
   ]
  },
  {
   "cell_type": "code",
   "execution_count": 24,
   "id": "3d573722",
   "metadata": {},
   "outputs": [],
   "source": [
    "# # Correção da escala dos dados\n",
    "\n",
    "# data1_904corr = 100*data1_904/31.83098865\n",
    "# data2_904corr = 100*data2_904/31.83098865\n",
    "# data3_904corr = 100*data3_904/31.83098865\n",
    "# data4_904corr = 100*data4_904/31.83098865\n",
    "# data5_904corr = 100*data5_904/31.83098865"
   ]
  },
  {
   "cell_type": "code",
   "execution_count": 26,
   "id": "2667517f",
   "metadata": {},
   "outputs": [],
   "source": [
    "# # Print das intensidades inicial e final\n",
    "\n",
    "# print('1 - Intensidade inicial I0:', data1_904corr[149,300,300])\n",
    "# print('1 - Intensidade final If', data1_904corr[0,300,300])\n",
    "# print('  ')\n",
    "# print('2 - Intensidade inicial I0:', data2_904corr[149,300,300])\n",
    "# print('2 - Intensidade final If', data2_904corr[0,300,300])\n",
    "# print('  ')\n",
    "# print('3 - Intensidade inicial I0:', data3_904corr[149,300,300])\n",
    "# print('3 - Intensidade final If', data3_904corr[0,300,300])\n",
    "# print('  ')\n",
    "# print('4 - Intensidade inicial I0:', data4_904corr[149,300,300])\n",
    "# print('4 - Intensidade final If', data4_904corr[0,300,300])\n",
    "# print('  ')\n",
    "# print('5 - Intensidade inicial I0:', data5_904corr[149,300,300])\n",
    "# print('5 - Intensidade final If', data5_904corr[0,300,300])"
   ]
  },
  {
   "cell_type": "code",
   "execution_count": 27,
   "id": "04d06d92",
   "metadata": {},
   "outputs": [],
   "source": [
    "# # Vetor com as intensidades de corte I0/e^2\n",
    "\n",
    "# intensidade_corte904 = np.zeros(5)\n",
    "# intensidade_corte904[0]=data1_904corr[149, 300, 300]/7.389056099\n",
    "# intensidade_corte904[1]=data2_904corr[149, 300, 300]/7.389056099\n",
    "# intensidade_corte904[2]=data3_904corr[149, 300, 300]/7.389056099\n",
    "# intensidade_corte904[3]=data4_904corr[149, 300, 300]/7.389056099\n",
    "# intensidade_corte904[4]=data5_904corr[149, 300, 300]/7.389056099\n",
    "# print('Intensidades de corte', intensidade_corte904)"
   ]
  },
  {
   "cell_type": "code",
   "execution_count": 28,
   "id": "37e24ed8",
   "metadata": {},
   "outputs": [],
   "source": [
    "# #Criação da Máscara\n",
    "\n",
    "# mask1_9 = data1_904corr[0, :, :] >= intensidade_corte904[0]\n",
    "# mask2_9 = data2_904corr[0, :, :] >= intensidade_corte904[1]\n",
    "# mask3_9 = data3_904corr[0, :, :] >= intensidade_corte904[2]\n",
    "# mask4_9 = data4_904corr[0, :, :] >= intensidade_corte904[3]\n",
    "# mask5_9 = data5_904corr[0, :, :] >= intensidade_corte904[4]"
   ]
  },
  {
   "cell_type": "code",
   "execution_count": 29,
   "id": "0d30e7ee",
   "metadata": {},
   "outputs": [],
   "source": [
    "# # Cálculo e print da área irradiada\n",
    "\n",
    "# areairradiada1 = 0.0001*mask1_9.sum()\n",
    "# print('A área irradiada com pelo menos',intensidade_corte904[0],'J/cm^2 é',areairradiada1,'mm^2.')\n",
    "# areairradiada2 = 0.0001*mask2_9.sum()\n",
    "# print('A área irradiada com pelo menos',intensidade_corte904[1],'J/cm^2 é',areairradiada2,'mm^2.')\n",
    "# areairradiada3 = 0.0001*mask3_9.sum()\n",
    "# print('A área irradiada com pelo menos',intensidade_corte904[2],'J/cm^2 é',areairradiada3,'mm^2.')\n",
    "# areairradiada4 = 0.0001*mask4_9.sum()\n",
    "# print('A área irradiada com pelo menos',intensidade_corte904[3],'J/cm^2 é',areairradiada4,'mm^2.')\n",
    "# areairradiada5 = 0.0001*mask5_9.sum()\n",
    "# print('A área irradiada com pelo menos',intensidade_corte904[4],'J/cm^2 é',areairradiada5,'mm^2.')"
   ]
  },
  {
   "cell_type": "markdown",
   "id": "e2c963a0",
   "metadata": {},
   "source": [
    "        "
   ]
  },
  {
   "cell_type": "markdown",
   "id": "4c15987e",
   "metadata": {},
   "source": [
    "## Comparativo de Raios Teóricos e Reais"
   ]
  },
  {
   "cell_type": "markdown",
   "id": "53349754",
   "metadata": {},
   "source": [
    "### 0.5 mm"
   ]
  },
  {
   "cell_type": "code",
   "execution_count": 2,
   "id": "bdbdcd87",
   "metadata": {},
   "outputs": [],
   "source": [
    "# # Importação\n",
    "\n",
    "# # 0,5mm\n",
    "\n",
    "# image1_50 = nii.load(r'C:\\Users\\User\\Documents\\Raíssa\\Curso Monte Carlo\\pymcx-master\\pymcx\\F-904-R0.5-s1.nii')\n",
    "# image2_50 = nii.load(r'C:\\Users\\User\\Documents\\Raíssa\\Curso Monte Carlo\\pymcx-master\\pymcx\\F-904-R0.5-s2.nii')\n",
    "# image3_50 = nii.load(r'C:\\Users\\User\\Documents\\Raíssa\\Curso Monte Carlo\\pymcx-master\\pymcx\\F-904-R0.5-s3.nii')\n",
    "# image4_50 = nii.load(r'C:\\Users\\User\\Documents\\Raíssa\\Curso Monte Carlo\\pymcx-master\\pymcx\\F-904-R0.5-s4.nii')\n",
    "# image5_50 = nii.load(r'C:\\Users\\User\\Documents\\Raíssa\\Curso Monte Carlo\\pymcx-master\\pymcx\\F-904-R0.5-s5.nii')\n",
    "\n",
    "# data1_50 = image1_50.get_fdata()\n",
    "# data1_50 = np.squeeze(data1_50)\n",
    "# data2_50 = image2_50.get_fdata()\n",
    "# data2_50 = np.squeeze(data2_50)\n",
    "# data3_50 = image3_50.get_fdata()\n",
    "# data3_50 = np.squeeze(data3_50)\n",
    "# data4_50 = image4_50.get_fdata()\n",
    "# data4_50 = np.squeeze(data4_50)\n",
    "# data5_50 = image5_50.get_fdata()\n",
    "# data5_50 = np.squeeze(data5_50)"
   ]
  },
  {
   "cell_type": "code",
   "execution_count": 3,
   "id": "a703716c",
   "metadata": {},
   "outputs": [],
   "source": [
    "# # Correção da Escala dos Dados\n",
    "\n",
    "# data1_50_corr = data1_50*0.00785398\n",
    "# data2_50_corr = data2_50*0.00785398\n",
    "# data3_50_corr = data3_50*0.00785398\n",
    "# data4_50_corr = data4_50*0.00785398\n",
    "# data5_50_corr = data5_50*0.00785398"
   ]
  },
  {
   "cell_type": "code",
   "execution_count": 4,
   "id": "1be50056",
   "metadata": {},
   "outputs": [
    {
     "name": "stdout",
     "output_type": "stream",
     "text": [
      "1 - Intensidade inicial I0: 0.012249869554686547\n",
      "1 - Intensidade final If 0.003920137225008607\n",
      "  \n",
      "2 - Intensidade inicial I0: 0.011992968085668087\n",
      "2 - Intensidade final If 0.003900717401163578\n",
      "  \n",
      "3 - Intensidade inicial I0: 0.011981186097009182\n",
      "3 - Intensidade final If 0.003944688262207508\n",
      "  \n",
      "4 - Intensidade inicial I0: 0.011908975539371968\n",
      "4 - Intensidade final If 0.003906343665892481\n",
      "  \n",
      "5 - Intensidade inicial I0: 0.011990614309484959\n",
      "5 - Intensidade final If 0.003909619899507761\n"
     ]
    }
   ],
   "source": [
    "# # Print das intensidades inicial e final\n",
    "\n",
    "# print('1 - Intensidade inicial I0:', data1_50_corr[399,400,400])\n",
    "# print('1 - Intensidade final If', data1_50_corr[249,400,400])\n",
    "# print('  ')\n",
    "# print('2 - Intensidade inicial I0:', data2_50_corr[399,400,400])\n",
    "# print('2 - Intensidade final If', data2_50_corr[249,400,400])\n",
    "# print('  ')\n",
    "# print('3 - Intensidade inicial I0:', data3_50_corr[399,400,400])\n",
    "# print('3 - Intensidade final If', data3_50_corr[249,400,400])\n",
    "# print('  ')\n",
    "# print('4 - Intensidade inicial I0:', data4_50_corr[399,400,400])\n",
    "# print('4 - Intensidade final If', data4_50_corr[249,400,400])\n",
    "# print('  ')\n",
    "# print('5 - Intensidade inicial I0:', data5_50_corr[399,400,400])\n",
    "# print('5 - Intensidade final If', data5_50_corr[249,400,400])"
   ]
  },
  {
   "cell_type": "code",
   "execution_count": 5,
   "id": "91ec54fd",
   "metadata": {},
   "outputs": [
    {
     "name": "stdout",
     "output_type": "stream",
     "text": [
      "Intensidades de corte [0.00165784 0.00162307 0.00162148 0.0016117  0.00162275]\n"
     ]
    }
   ],
   "source": [
    "# # Vetor com as intensidades de corte I0/e^2\n",
    "\n",
    "# intensidade_corte50 = np.zeros(5)\n",
    "# intensidade_corte50[0]=data1_50_corr[399, 400, 400]/7.389056099\n",
    "# intensidade_corte50[1]=data2_50_corr[399, 400, 400]/7.389056099\n",
    "# intensidade_corte50[2]=data3_50_corr[399, 400, 400]/7.389056099\n",
    "# intensidade_corte50[3]=data4_50_corr[399, 400, 400]/7.389056099\n",
    "# intensidade_corte50[4]=data5_50_corr[399, 400, 400]/7.389056099\n",
    "# print('Intensidades de corte', intensidade_corte50)"
   ]
  },
  {
   "cell_type": "code",
   "execution_count": 6,
   "id": "f66f23d3",
   "metadata": {},
   "outputs": [],
   "source": [
    "# #Criação da Máscara\n",
    "\n",
    "# mask1_50 = data1_50_corr[249, :, :] >= intensidade_corte50[0]\n",
    "# mask2_50 = data2_50_corr[249, :, :] >= intensidade_corte50[1]\n",
    "# mask3_50 = data3_50_corr[249, :, :] >= intensidade_corte50[2]\n",
    "# mask4_50 = data4_50_corr[249, :, :] >= intensidade_corte50[3]\n",
    "# mask5_50 = data5_50_corr[249, :, :] >= intensidade_corte50[4]"
   ]
  },
  {
   "cell_type": "code",
   "execution_count": 43,
   "id": "dcec3631",
   "metadata": {},
   "outputs": [
    {
     "name": "stdout",
     "output_type": "stream",
     "text": [
      "A área irradiada com pelo menos 0.0016578395657795028 J/cm² é 1.6898000000000002 mm².\n",
      "A área irradiada com pelo menos 0.0016230717327063138 J/cm² é 1.7436 mm².\n",
      "A área irradiada com pelo menos 0.0016214772139340854 J/cm² é 1.7463000000000002 mm².\n",
      "A área irradiada com pelo menos 0.001611704577663671 J/cm² é 1.7653 mm².\n",
      "A área irradiada com pelo menos 0.0016227531837398976 J/cm² é 1.7503000000000002 mm².\n"
     ]
    }
   ],
   "source": [
    "# Cálculo e print da área irradiada\n",
    "\n",
    "# area1_50 = 0.0001*mask1_50.sum()\n",
    "# print('A área irradiada com pelo menos',intensidade_corte50[0],'J/cm² é',area1_50,'mm².')\n",
    "# area2_50 = 0.0001*mask2_50.sum()\n",
    "# print('A área irradiada com pelo menos',intensidade_corte50[1],'J/cm² é',area2_50,'mm².')\n",
    "# area3_50 = 0.0001*mask3_50.sum()\n",
    "# print('A área irradiada com pelo menos',intensidade_corte50[2],'J/cm² é',area3_50,'mm².')\n",
    "# area4_50 = 0.0001*mask4_50.sum()\n",
    "# print('A área irradiada com pelo menos',intensidade_corte50[3],'J/cm² é',area4_50,'mm².')\n",
    "# area5_50 = 0.0001*mask5_50.sum()\n",
    "# print('A área irradiada com pelo menos',intensidade_corte50[4],'J/cm² é',area5_50,'mm².')"
   ]
  },
  {
   "cell_type": "markdown",
   "id": "ea8ac093",
   "metadata": {},
   "source": [
    "## # Cálculo da Fluência"
   ]
  },
  {
   "cell_type": "code",
   "execution_count": 10,
   "id": "af294082",
   "metadata": {},
   "outputs": [
    {
     "name": "stdout",
     "output_type": "stream",
     "text": [
      "0.0025936369250169023 J/cm²\n",
      "0.00256378493558884 J/cm²\n",
      "0.0025636110993577494 J/cm²\n",
      "0.002553419024256083 J/cm²\n",
      "0.002561070075355605 J/cm²\n"
     ]
    }
   ],
   "source": [
    "# soma = 0\n",
    "# for i in range(0,800):\n",
    "#     for j in range(0,800):\n",
    "#         if mask1_50[i,j]==1:\n",
    "#             soma = soma + data1_50_corr[249,i,j]\n",
    "# print(soma/mask1_50.sum(), 'J/cm²')\n",
    "\n",
    "# soma = 0\n",
    "# for i in range(0,800):\n",
    "#     for j in range(0,800):\n",
    "#         if mask2_50[i,j]==1:\n",
    "#             soma = soma + data2_50_corr[249,i,j]\n",
    "# print(soma/mask2_50.sum(), 'J/cm²')\n",
    "\n",
    "# soma = 0\n",
    "# for i in range(0,800):\n",
    "#     for j in range(0,800):\n",
    "#         if mask3_50[i,j]==1:\n",
    "#             soma = soma + data3_50_corr[249,i,j]\n",
    "# print(soma/mask3_50.sum(), 'J/cm²')\n",
    "\n",
    "# soma = 0\n",
    "# for i in range(0,800):\n",
    "#     for j in range(0,800):\n",
    "#         if mask4_50[i,j]==1:\n",
    "#             soma = soma + data4_50_corr[249,i,j]\n",
    "# print(soma/mask4_50.sum(), 'J/cm²')\n",
    "\n",
    "# soma = 0\n",
    "# for i in range(0,800):\n",
    "#     for j in range(0,800):\n",
    "#         if mask5_50[i,j]==1:\n",
    "#             soma = soma + data5_50_corr[249,i,j]\n",
    "# print(soma/mask5_50.sum(), 'J/cm²')"
   ]
  },
  {
   "cell_type": "markdown",
   "id": "c6310904",
   "metadata": {},
   "source": [
    "### 1.0 mm"
   ]
  },
  {
   "cell_type": "code",
   "execution_count": 2,
   "id": "9d9ed39c",
   "metadata": {},
   "outputs": [],
   "source": [
    "# # 1,0mm\n",
    "\n",
    "# image1_100 = nii.load(r'C:\\Users\\User\\Documents\\Raíssa\\Curso Monte Carlo\\pymcx-master\\pymcx\\F-904-R1.0-s1.nii')\n",
    "# image2_100 = nii.load(r'C:\\Users\\User\\Documents\\Raíssa\\Curso Monte Carlo\\pymcx-master\\pymcx\\F-904-R1.0-s2.nii')\n",
    "# image3_100 = nii.load(r'C:\\Users\\User\\Documents\\Raíssa\\Curso Monte Carlo\\pymcx-master\\pymcx\\F-904-R1.0-s3.nii')\n",
    "# image4_100 = nii.load(r'C:\\Users\\User\\Documents\\Raíssa\\Curso Monte Carlo\\pymcx-master\\pymcx\\F-904-R1.0-s4.nii')\n",
    "# image5_100 = nii.load(r'C:\\Users\\User\\Documents\\Raíssa\\Curso Monte Carlo\\pymcx-master\\pymcx\\F-904-R1.0-s5.nii')\n",
    "\n",
    "# data1_100 = image1_100.get_fdata()\n",
    "# data1_100 = np.squeeze(data1_100)\n",
    "# data2_100 = image2_100.get_fdata()\n",
    "# data2_100 = np.squeeze(data2_100)\n",
    "# data3_100 = image3_100.get_fdata()\n",
    "# data3_100 = np.squeeze(data3_100)\n",
    "# data4_100 = image4_100.get_fdata()\n",
    "# data4_100 = np.squeeze(data4_100)\n",
    "# data5_100 = image5_100.get_fdata()\n",
    "# data5_100 = np.squeeze(data5_100)"
   ]
  },
  {
   "cell_type": "code",
   "execution_count": 3,
   "id": "57aaaae4",
   "metadata": {},
   "outputs": [],
   "source": [
    "# # Correção da Escala dos Dados\n",
    "\n",
    "# data1_100_corr = data1_100*0.03141592\n",
    "# data2_100_corr = data2_100*0.03141592\n",
    "# data3_100_corr = data3_100*0.03141592\n",
    "# data4_100_corr = data4_100*0.03141592\n",
    "# data5_100_corr = data5_100*0.03141592"
   ]
  },
  {
   "cell_type": "code",
   "execution_count": 46,
   "id": "0b4fc96b",
   "metadata": {},
   "outputs": [
    {
     "name": "stdout",
     "output_type": "stream",
     "text": [
      "1 - Intensidade inicial I0: 0.014513378327565192\n",
      "1 - Intensidade final If 0.00862320604086876\n",
      "  \n",
      "2 - Intensidade inicial I0: 0.014347492346429824\n",
      "2 - Intensidade final If 0.008345427681901454\n",
      "  \n",
      "3 - Intensidade inicial I0: 0.014383474974222182\n",
      "3 - Intensidade final If 0.008455583283751011\n",
      "  \n",
      "4 - Intensidade inicial I0: 0.014365597884945869\n",
      "4 - Intensidade final If 0.008413239655406475\n",
      "  \n",
      "5 - Intensidade inicial I0: 0.014028066942045688\n",
      "5 - Intensidade final If 0.008501878896689415\n"
     ]
    }
   ],
   "source": [
    "# # Print das intensidades inicial e final\n",
    "\n",
    "# print('1 - Intensidade inicial I0:', data1_100_corr[399,400,400])\n",
    "# print('1 - Intensidade final If', data1_100_corr[249,400,400])\n",
    "# print('  ')\n",
    "# print('2 - Intensidade inicial I0:', data2_100_corr[399,400,400])\n",
    "# print('2 - Intensidade final If', data2_100_corr[249,400,400])\n",
    "# print('  ')\n",
    "# print('3 - Intensidade inicial I0:', data3_100_corr[399,400,400])\n",
    "# print('3 - Intensidade final If', data3_100_corr[249,400,400])\n",
    "# print('  ')\n",
    "# print('4 - Intensidade inicial I0:', data4_100_corr[399,400,400])\n",
    "# print('4 - Intensidade final If', data4_100_corr[249,400,400])\n",
    "# print('  ')\n",
    "# print('5 - Intensidade inicial I0:', data5_100_corr[399,400,400])\n",
    "# print('5 - Intensidade final If', data5_100_corr[249,400,400])"
   ]
  },
  {
   "cell_type": "code",
   "execution_count": 4,
   "id": "a019ce02",
   "metadata": {},
   "outputs": [
    {
     "name": "stdout",
     "output_type": "stream",
     "text": [
      "Intensidades de corte [0.00196417 0.00194172 0.00194659 0.00194417 0.00189849]\n"
     ]
    }
   ],
   "source": [
    "# # Vetor com as intensidades de corte I0/e^2\n",
    "\n",
    "# intensidade_corte100 = np.zeros(5)\n",
    "# intensidade_corte100[0]=data1_100_corr[399, 400, 400]/7.389056099\n",
    "# intensidade_corte100[1]=data2_100_corr[399, 400, 400]/7.389056099\n",
    "# intensidade_corte100[2]=data3_100_corr[399, 400, 400]/7.389056099\n",
    "# intensidade_corte100[3]=data4_100_corr[399, 400, 400]/7.389056099\n",
    "# intensidade_corte100[4]=data5_100_corr[399, 400, 400]/7.389056099\n",
    "\n",
    "# print('Intensidades de corte', intensidade_corte100)"
   ]
  },
  {
   "cell_type": "code",
   "execution_count": 5,
   "id": "5de9ce1a",
   "metadata": {},
   "outputs": [],
   "source": [
    "# #Criação da Máscara\n",
    "\n",
    "# mask1_100 = data1_100_corr[249, :, :] >= intensidade_corte100[0]\n",
    "# mask2_100 = data2_100_corr[249, :, :] >= intensidade_corte100[1]\n",
    "# mask3_100 = data3_100_corr[249, :, :] >= intensidade_corte100[2]\n",
    "# mask4_100 = data4_100_corr[249, :, :] >= intensidade_corte100[3]\n",
    "# mask5_100 = data5_100_corr[249, :, :] >= intensidade_corte100[4]"
   ]
  },
  {
   "cell_type": "code",
   "execution_count": 64,
   "id": "6216e381",
   "metadata": {},
   "outputs": [
    {
     "name": "stdout",
     "output_type": "stream",
     "text": [
      "A área irradiada com pelo menos 0.0019641721666627168 J/cm² é 9.788400000000001 mm².\n",
      "A área irradiada com pelo menos 0.001941721940420989 J/cm² é 9.914200000000001 mm².\n",
      "A área irradiada com pelo menos 0.0019465916595448197 J/cm² é 9.8843 mm².\n",
      "A área irradiada com pelo menos 0.0019441722586041863 J/cm² é 9.8948 mm².\n",
      "A área irradiada com pelo menos 0.0018984924128460981 J/cm² é 10.1986 mm².\n"
     ]
    }
   ],
   "source": [
    "# # Cálculo e print da área irradiada\n",
    "\n",
    "# area1_100 = 0.0001*mask1_100.sum()\n",
    "# print('A área irradiada com pelo menos',intensidade_corte100[0],'J/cm² é',area1_100,'mm².')\n",
    "# area2_100 = 0.0001*mask2_100.sum()\n",
    "# print('A área irradiada com pelo menos',intensidade_corte100[1],'J/cm² é',area2_100,'mm².')\n",
    "# area3_100 = 0.0001*mask3_100.sum()\n",
    "# print('A área irradiada com pelo menos',intensidade_corte100[2],'J/cm² é',area3_100,'mm².')\n",
    "# area4_100 = 0.0001*mask4_100.sum()\n",
    "# print('A área irradiada com pelo menos',intensidade_corte100[3],'J/cm² é',area4_100,'mm².')\n",
    "# area5_100 = 0.0001*mask5_100.sum()\n",
    "# print('A área irradiada com pelo menos',intensidade_corte100[4],'J/cm² é',area5_100,'mm².')"
   ]
  },
  {
   "cell_type": "markdown",
   "id": "0bc0f20a",
   "metadata": {},
   "source": [
    "## # Cálculo da Fluência Média"
   ]
  },
  {
   "cell_type": "code",
   "execution_count": 6,
   "id": "d53f3baf",
   "metadata": {},
   "outputs": [
    {
     "name": "stdout",
     "output_type": "stream",
     "text": [
      "0.00420484263721936 J/cm²\n",
      "0.004174865383661683 J/cm²\n",
      "0.004182664897455053 J/cm²\n",
      "0.004180332312931865 J/cm²\n",
      "0.004112843727861474 J/cm²\n"
     ]
    }
   ],
   "source": [
    "# soma = 0\n",
    "# for i in range(0,800):\n",
    "#     for j in range(0,800):\n",
    "#         if mask1_100[i,j]==1:\n",
    "#             soma = soma + data1_100_corr[249,i,j]\n",
    "# print(soma/mask1_100.sum(), 'J/cm²')\n",
    "\n",
    "# soma = 0\n",
    "# for i in range(0,800):\n",
    "#     for j in range(0,800):\n",
    "#         if mask2_100[i,j]==1:\n",
    "#             soma = soma + data2_100_corr[249,i,j]\n",
    "# print(soma/mask2_100.sum(), 'J/cm²')\n",
    "\n",
    "# soma = 0\n",
    "# for i in range(0,800):\n",
    "#     for j in range(0,800):\n",
    "#         if mask3_100[i,j]==1:\n",
    "#             soma = soma + data3_100_corr[249,i,j]\n",
    "# print(soma/mask3_100.sum(), 'J/cm²')\n",
    "\n",
    "# soma = 0\n",
    "# for i in range(0,800):\n",
    "#     for j in range(0,800):\n",
    "#         if mask4_100[i,j]==1:\n",
    "#             soma = soma + data4_100_corr[249,i,j]\n",
    "# print(soma/mask4_100.sum(), 'J/cm²')\n",
    "\n",
    "# soma = 0\n",
    "# for i in range(0,800):\n",
    "#     for j in range(0,800):\n",
    "#         if mask5_100[i,j]==1:\n",
    "#             soma = soma + data5_100_corr[249,i,j]\n",
    "# print(soma/mask5_100.sum(), 'J/cm²')"
   ]
  },
  {
   "cell_type": "markdown",
   "id": "8090c719",
   "metadata": {},
   "source": [
    "### 2.0 mm"
   ]
  },
  {
   "cell_type": "code",
   "execution_count": 2,
   "id": "6a0940a5",
   "metadata": {},
   "outputs": [],
   "source": [
    "# # 2,0mm\n",
    "\n",
    "# image1_200 = nii.load(r'C:\\Users\\User\\Documents\\Raíssa\\Curso Monte Carlo\\pymcx-master\\pymcx\\F-904-R2.0-s1.nii')\n",
    "# image2_200 = nii.load(r'C:\\Users\\User\\Documents\\Raíssa\\Curso Monte Carlo\\pymcx-master\\pymcx\\F-904-R2.0-s2.nii')\n",
    "# image3_200 = nii.load(r'C:\\Users\\User\\Documents\\Raíssa\\Curso Monte Carlo\\pymcx-master\\pymcx\\F-904-R2.0-s3.nii')\n",
    "# image4_200 = nii.load(r'C:\\Users\\User\\Documents\\Raíssa\\Curso Monte Carlo\\pymcx-master\\pymcx\\F-904-R2.0-s4.nii')\n",
    "# image5_200 = nii.load(r'C:\\Users\\User\\Documents\\Raíssa\\Curso Monte Carlo\\pymcx-master\\pymcx\\F-904-R2.0-s5.nii')\n",
    "\n",
    "# data1_200 = image1_200.get_fdata()\n",
    "# data1_200 = np.squeeze(data1_200)\n",
    "# data2_200 = image2_200.get_fdata()\n",
    "# data2_200 = np.squeeze(data2_200)\n",
    "# data3_200 = image3_200.get_fdata()\n",
    "# data3_200 = np.squeeze(data3_200)\n",
    "# data4_200 = image4_200.get_fdata()\n",
    "# data4_200 = np.squeeze(data4_200)\n",
    "# data5_200 = image5_200.get_fdata()\n",
    "# data5_200 = np.squeeze(data5_200)"
   ]
  },
  {
   "cell_type": "code",
   "execution_count": 3,
   "id": "102316b0",
   "metadata": {},
   "outputs": [],
   "source": [
    "# # Correção dos dados\n",
    "\n",
    "# data1_200_corr = data1_200*0.12566370\n",
    "# data2_200_corr = data2_200*0.12566370\n",
    "# data3_200_corr = data3_200*0.12566370\n",
    "# data4_200_corr = data4_200*0.12566370\n",
    "# data5_200_corr = data5_200*0.12566370"
   ]
  },
  {
   "cell_type": "code",
   "execution_count": 58,
   "id": "c968148e",
   "metadata": {},
   "outputs": [
    {
     "name": "stdout",
     "output_type": "stream",
     "text": [
      "1 - Intensidade inicial I0: 0.020211630254182218\n",
      "1 - Intensidade final If 0.015313433408995717\n",
      "  \n",
      "2 - Intensidade inicial I0: 0.01992232920657545\n",
      "2 - Intensidade final If 0.015202422977364061\n",
      "  \n",
      "3 - Intensidade inicial I0: 0.020779133834154903\n",
      "3 - Intensidade final If 0.014882599608443675\n",
      "  \n",
      "4 - Intensidade inicial I0: 0.019764579363830387\n",
      "4 - Intensidade final If 0.014992139163793623\n",
      "  \n",
      "5 - Intensidade inicial I0: 0.01967201433870792\n",
      "5 - Intensidade final If 0.015683603627803175\n"
     ]
    }
   ],
   "source": [
    "# # Print das intensidades inicial e final\n",
    "\n",
    "# print('1 - Intensidade inicial I0:', data1_200_corr[399,400,400])\n",
    "# print('1 - Intensidade final If', data1_200_corr[249,400,400])\n",
    "# print('  ')\n",
    "# print('2 - Intensidade inicial I0:', data2_200_corr[399,400,400])\n",
    "# print('2 - Intensidade final If', data2_200_corr[249,400,400])\n",
    "# print('  ')\n",
    "# print('3 - Intensidade inicial I0:', data3_200_corr[399,400,400])\n",
    "# print('3 - Intensidade final If', data3_200_corr[249,400,400])\n",
    "# print('  ')\n",
    "# print('4 - Intensidade inicial I0:', data4_200_corr[399,400,400])\n",
    "# print('4 - Intensidade final If', data4_200_corr[249,400,400])\n",
    "# print('  ')\n",
    "# print('5 - Intensidade inicial I0:', data5_200_corr[399,400,400])\n",
    "# print('5 - Intensidade final If', data5_200_corr[249,400,400])"
   ]
  },
  {
   "cell_type": "code",
   "execution_count": 4,
   "id": "8829e6bd",
   "metadata": {},
   "outputs": [
    {
     "name": "stdout",
     "output_type": "stream",
     "text": [
      "Intensidades de corte [0.00273535 0.00269619 0.00281215 0.00267484 0.00266232]\n"
     ]
    }
   ],
   "source": [
    "# # Vetor com as intensidades de corte I0/e^2\n",
    "\n",
    "# intensidade_corte200 = np.zeros(5)\n",
    "# intensidade_corte200[0]=data1_200_corr[399, 400, 400]/7.389056099\n",
    "# intensidade_corte200[1]=data2_200_corr[399, 400, 400]/7.389056099\n",
    "# intensidade_corte200[2]=data3_200_corr[399, 400, 400]/7.389056099\n",
    "# intensidade_corte200[3]=data4_200_corr[399, 400, 400]/7.389056099\n",
    "# intensidade_corte200[4]=data5_200_corr[399, 400, 400]/7.389056099\n",
    "\n",
    "# print('Intensidades de corte', intensidade_corte200)"
   ]
  },
  {
   "cell_type": "code",
   "execution_count": 5,
   "id": "f7d6a62a",
   "metadata": {},
   "outputs": [],
   "source": [
    "# #Criação da Máscara\n",
    "\n",
    "# mask1_200 = data1_200_corr[249, :, :] >= intensidade_corte200[0]\n",
    "# mask2_200 = data2_200_corr[249, :, :] >= intensidade_corte200[1]\n",
    "# mask3_200 = data3_200_corr[249, :, :] >= intensidade_corte200[2]\n",
    "# mask4_200 = data4_200_corr[249, :, :] >= intensidade_corte200[3]\n",
    "# mask5_200 = data5_200_corr[249, :, :] >= intensidade_corte200[4]"
   ]
  },
  {
   "cell_type": "code",
   "execution_count": 61,
   "id": "13791b4c",
   "metadata": {},
   "outputs": [
    {
     "name": "stdout",
     "output_type": "stream",
     "text": [
      "A área irradiada com pelo menos 0.002735346705097768 J/cm² é 39.9834 mm².\n",
      "A área irradiada com pelo menos 0.002696194065879625 J/cm² é 40.7757 mm².\n",
      "A área irradiada com pelo menos 0.002812149962830442 J/cm² é 38.630700000000004 mm².\n",
      "A área irradiada com pelo menos 0.002674844946231391 J/cm² é 41.154 mm².\n",
      "A área irradiada com pelo menos 0.0026623176323387556 J/cm² é 41.3753 mm².\n"
     ]
    }
   ],
   "source": [
    "# # Cálculo e print da área irradiada\n",
    "\n",
    "# area1_200 = 0.0001*mask1_200.sum()\n",
    "# print('A área irradiada com pelo menos',intensidade_corte200[0],'J/cm² é',area1_200,'mm².')\n",
    "# area2_200 = 0.0001*mask2_200.sum()\n",
    "# print('A área irradiada com pelo menos',intensidade_corte200[1],'J/cm² é',area2_200,'mm².')\n",
    "# area3_200 = 0.0001*mask3_200.sum()\n",
    "# print('A área irradiada com pelo menos',intensidade_corte200[2],'J/cm² é',area3_200,'mm².')\n",
    "# area4_200 = 0.0001*mask4_200.sum()\n",
    "# print('A área irradiada com pelo menos',intensidade_corte200[3],'J/cm² é',area4_200,'mm².')\n",
    "# area5_200 = 0.0001*mask5_200.sum()\n",
    "# print('A área irradiada com pelo menos',intensidade_corte200[4],'J/cm² é',area5_200,'mm².')"
   ]
  },
  {
   "cell_type": "markdown",
   "id": "5f0b4773",
   "metadata": {},
   "source": [
    "## # Cálculo da Fluência Média"
   ]
  },
  {
   "cell_type": "code",
   "execution_count": 6,
   "id": "1c09a4cf",
   "metadata": {},
   "outputs": [
    {
     "name": "stdout",
     "output_type": "stream",
     "text": [
      "0.006967574706873013 J/cm²\n",
      "0.006882201238255665 J/cm²\n",
      "0.007113066599147074 J/cm²\n",
      "0.0068441284056663595 J/cm²\n",
      "0.0068197014408752435 J/cm²\n"
     ]
    }
   ],
   "source": [
    "# soma = 0\n",
    "# for i in range(0,800):\n",
    "#     for j in range(0,800):\n",
    "#         if mask1_200[i,j]==1:\n",
    "#             soma = soma + data1_200_corr[249,i,j]\n",
    "# print(soma/mask1_200.sum(), 'J/cm²')\n",
    "\n",
    "# soma = 0\n",
    "# for i in range(0,800):\n",
    "#     for j in range(0,800):\n",
    "#         if mask2_200[i,j]==1:\n",
    "#             soma = soma + data2_200_corr[249,i,j]\n",
    "# print(soma/mask2_200.sum(), 'J/cm²')\n",
    "\n",
    "# soma = 0\n",
    "# for i in range(0,800):\n",
    "#     for j in range(0,800):\n",
    "#         if mask3_200[i,j]==1:\n",
    "#             soma = soma + data3_200_corr[249,i,j]\n",
    "# print(soma/mask3_200.sum(), 'J/cm²')\n",
    "\n",
    "# soma = 0\n",
    "# for i in range(0,800):\n",
    "#     for j in range(0,800):\n",
    "#         if mask4_200[i,j]==1:\n",
    "#             soma = soma + data4_200_corr[249,i,j]\n",
    "# print(soma/mask4_200.sum(), 'J/cm²')\n",
    "\n",
    "# soma = 0\n",
    "# for i in range(0,800):\n",
    "#     for j in range(0,800):\n",
    "#         if mask5_200[i,j]==1:\n",
    "#             soma = soma + data5_200_corr[249,i,j]\n",
    "# print(soma/mask5_200.sum(), 'J/cm²')"
   ]
  },
  {
   "cell_type": "markdown",
   "id": "b0b53e5e",
   "metadata": {},
   "source": [
    "### 1.59 mm"
   ]
  },
  {
   "cell_type": "code",
   "execution_count": 2,
   "id": "d7f92794",
   "metadata": {},
   "outputs": [],
   "source": [
    "# Importação - Reais\n",
    "\n",
    "# 1,59mm\n",
    "\n",
    "image1_159 = nii.load(r'C:\\Users\\User\\Documents\\Raíssa\\Curso Monte Carlo\\pymcx-master\\pymcx\\F-904-R1.59-extra-s1.nii')\n",
    "image2_159 = nii.load(r'C:\\Users\\User\\Documents\\Raíssa\\Curso Monte Carlo\\pymcx-master\\pymcx\\F-904-R1.59-extra-s2.nii')\n",
    "image3_159 = nii.load(r'C:\\Users\\User\\Documents\\Raíssa\\Curso Monte Carlo\\pymcx-master\\pymcx\\F-904-R1.59-extra-s3.nii')\n",
    "image4_159 = nii.load(r'C:\\Users\\User\\Documents\\Raíssa\\Curso Monte Carlo\\pymcx-master\\pymcx\\F-904-R1.59-extra-s4.nii')\n",
    "image5_159 = nii.load(r'C:\\Users\\User\\Documents\\Raíssa\\Curso Monte Carlo\\pymcx-master\\pymcx\\F-904-R1.59-extra-s5.nii')\n",
    "\n",
    "data1_159 = image1_159.get_fdata()\n",
    "data1_159 = np.squeeze(data1_159)\n",
    "data2_159 = image2_159.get_fdata()\n",
    "data2_159 = np.squeeze(data2_159)\n",
    "data3_159 = image3_159.get_fdata()\n",
    "data3_159 = np.squeeze(data3_159)\n",
    "data4_159 = image4_159.get_fdata()\n",
    "data4_159 = np.squeeze(data4_159)\n",
    "data5_159 = image5_159.get_fdata()\n",
    "data5_159 = np.squeeze(data5_159)"
   ]
  },
  {
   "cell_type": "code",
   "execution_count": 3,
   "id": "9630987a",
   "metadata": {},
   "outputs": [],
   "source": [
    "#Correção dos dados\n",
    "\n",
    "data1_159_corr = data1_159*0.07942260\n",
    "data2_159_corr = data2_159*0.07942260\n",
    "data3_159_corr = data3_159*0.07942260\n",
    "data4_159_corr = data4_159*0.07942260\n",
    "data5_159_corr = data5_159*0.07942260"
   ]
  },
  {
   "cell_type": "code",
   "execution_count": 4,
   "id": "600e95a7",
   "metadata": {},
   "outputs": [
    {
     "name": "stdout",
     "output_type": "stream",
     "text": [
      "1 - Intensidade inicial I0: 0.01697120098788142\n",
      "1 - Intensidade final If 0.009760190889036655\n",
      "  \n",
      "2 - Intensidade inicial I0: 0.016985329479146005\n",
      "2 - Intensidade final If 0.00972084461490512\n",
      "  \n",
      "3 - Intensidade inicial I0: 0.016895688474467395\n",
      "3 - Intensidade final If 0.009722526352724432\n",
      "  \n",
      "4 - Intensidade inicial I0: 0.01694404228311181\n",
      "4 - Intensidade final If 0.009766691202177108\n",
      "  \n",
      "5 - Intensidade inicial I0: 0.016968914487200976\n",
      "5 - Intensidade final If 0.009773588575865327\n"
     ]
    }
   ],
   "source": [
    "# Print das intensidades inicial e final\n",
    "\n",
    "print('1 - Intensidade inicial I0:', data1_159_corr[49,50,50])\n",
    "print('1 - Intensidade final If', data1_159_corr[34,50,50])\n",
    "print('  ')\n",
    "print('2 - Intensidade inicial I0:', data2_159_corr[49,50,50])\n",
    "print('2 - Intensidade final If', data2_159_corr[34,50,50])\n",
    "print('  ')\n",
    "print('3 - Intensidade inicial I0:', data3_159_corr[49,50,50])\n",
    "print('3 - Intensidade final If', data3_159_corr[34,50,50])\n",
    "print('  ')\n",
    "print('4 - Intensidade inicial I0:', data4_159_corr[49,50,50])\n",
    "print('4 - Intensidade final If', data4_159_corr[34,50,50])\n",
    "print('  ')\n",
    "print('5 - Intensidade inicial I0:', data5_159_corr[49,50,50])\n",
    "print('5 - Intensidade final If', data5_159_corr[34,50,50])"
   ]
  },
  {
   "cell_type": "code",
   "execution_count": 5,
   "id": "8eb76474",
   "metadata": {},
   "outputs": [
    {
     "name": "stdout",
     "output_type": "stream",
     "text": [
      "Intensidades de corte [0.0022968  0.00229871 0.00228658 0.00229313 0.00229649]\n"
     ]
    }
   ],
   "source": [
    "# Vetor com as intensidades de corte I0/e^2\n",
    "\n",
    "intensidade_corte159 = np.zeros(5)\n",
    "intensidade_corte159[0]=data1_159_corr[49,50,50]/7.389056099\n",
    "intensidade_corte159[1]=data2_159_corr[49,50,50]/7.389056099\n",
    "intensidade_corte159[2]=data3_159_corr[49,50,50]/7.389056099\n",
    "intensidade_corte159[3]=data4_159_corr[49,50,50]/7.389056099\n",
    "intensidade_corte159[4]=data5_159_corr[49,50,50]/7.389056099\n",
    "\n",
    "print('Intensidades de corte', intensidade_corte159)"
   ]
  },
  {
   "cell_type": "code",
   "execution_count": 6,
   "id": "bf0b3273",
   "metadata": {},
   "outputs": [],
   "source": [
    "#Criação da Máscara\n",
    "\n",
    "mask1_159 = data1_159_corr[34, :, :] >= intensidade_corte159[0]\n",
    "mask2_159 = data2_159_corr[34, :, :] >= intensidade_corte159[1]\n",
    "mask3_159 = data3_159_corr[34, :, :] >= intensidade_corte159[2]\n",
    "mask4_159 = data4_159_corr[34, :, :] >= intensidade_corte159[3]\n",
    "mask5_159 = data5_159_corr[34, :, :] >= intensidade_corte159[4]"
   ]
  },
  {
   "cell_type": "code",
   "execution_count": 7,
   "id": "1069fa44",
   "metadata": {},
   "outputs": [
    {
     "name": "stdout",
     "output_type": "stream",
     "text": [
      "A área irradiada com pelo menos 0.0022968022925388566 J/cm² é 19.76 mm².\n",
      "A área irradiada com pelo menos 0.002298714375905837 J/cm² é 19.75 mm².\n",
      "A área irradiada com pelo menos 0.0022865827851481567 J/cm² é 19.8 mm².\n",
      "A área irradiada com pelo menos 0.0022931267615365564 J/cm² é 19.8 mm².\n",
      "A área irradiada com pelo menos 0.0022964928483216506 J/cm² é 19.77 mm².\n"
     ]
    }
   ],
   "source": [
    "# Cálculo e print da área irradiada\n",
    "\n",
    "area1_159 = 0.01*mask1_159.sum()\n",
    "print('A área irradiada com pelo menos',intensidade_corte159[0],'J/cm² é',area1_159,'mm².')\n",
    "area2_159 = 0.01*mask2_159.sum()\n",
    "print('A área irradiada com pelo menos',intensidade_corte159[1],'J/cm² é',area2_159,'mm².')\n",
    "area3_159 = 0.01*mask3_159.sum()\n",
    "print('A área irradiada com pelo menos',intensidade_corte159[2],'J/cm² é',area3_159,'mm².')\n",
    "area4_159 = 0.01*mask4_159.sum()\n",
    "print('A área irradiada com pelo menos',intensidade_corte159[3],'J/cm² é',area4_159,'mm².')\n",
    "area5_159 = 0.01*mask5_159.sum()\n",
    "print('A área irradiada com pelo menos',intensidade_corte159[4],'J/cm² é',area5_159,'mm².')"
   ]
  },
  {
   "cell_type": "markdown",
   "id": "98641240",
   "metadata": {},
   "source": [
    "## # Cálculo da Fluência Média"
   ]
  },
  {
   "cell_type": "code",
   "execution_count": 8,
   "id": "e646b1b5",
   "metadata": {},
   "outputs": [
    {
     "name": "stdout",
     "output_type": "stream",
     "text": [
      "0.005203553803977713 J/cm²\n",
      "0.005206652896808705 J/cm²\n",
      "0.0051990086990579285 J/cm²\n",
      "0.005197647903347544 J/cm²\n",
      "0.005203637850014099 J/cm²\n"
     ]
    }
   ],
   "source": [
    "soma = 0\n",
    "for i in range(0,100):\n",
    "    for j in range(0,100):\n",
    "        if mask1_159[i,j]==1:\n",
    "            soma = soma + data1_159_corr[34,i,j]\n",
    "print(soma/mask1_159.sum(), 'J/cm²')\n",
    "\n",
    "soma = 0\n",
    "for i in range(0,100):\n",
    "    for j in range(0,100):\n",
    "        if mask2_159[i,j]==1:\n",
    "            soma = soma + data2_159_corr[34,i,j]\n",
    "print(soma/mask2_159.sum(), 'J/cm²')\n",
    "\n",
    "soma = 0\n",
    "for i in range(0,100):\n",
    "    for j in range(0,100):\n",
    "        if mask3_159[i,j]==1:\n",
    "            soma = soma + data3_159_corr[34,i,j]\n",
    "print(soma/mask3_159.sum(), 'J/cm²')\n",
    "\n",
    "soma = 0\n",
    "for i in range(0,100):\n",
    "    for j in range(0,100):\n",
    "        if mask4_159[i,j]==1:\n",
    "            soma = soma + data4_159_corr[34,i,j]\n",
    "print(soma/mask4_159.sum(), 'J/cm²')\n",
    "\n",
    "soma = 0\n",
    "for i in range(0,100):\n",
    "    for j in range(0,100):\n",
    "        if mask5_159[i,j]==1:\n",
    "            soma = soma + data5_159_corr[34,i,j]\n",
    "print(soma/mask5_159.sum(), 'J/cm²')"
   ]
  },
  {
   "cell_type": "markdown",
   "id": "59f0110a",
   "metadata": {},
   "source": [
    "### 2.08 mm"
   ]
  },
  {
   "cell_type": "code",
   "execution_count": 9,
   "id": "5837e445",
   "metadata": {},
   "outputs": [],
   "source": [
    "# 2,08mm\n",
    "\n",
    "image1_208 = nii.load(r'C:\\Users\\User\\Documents\\Raíssa\\Curso Monte Carlo\\pymcx-master\\pymcx\\F-904-R2.08-extra-s1.nii')\n",
    "image2_208 = nii.load(r'C:\\Users\\User\\Documents\\Raíssa\\Curso Monte Carlo\\pymcx-master\\pymcx\\F-904-R2.08-extra-s2.nii')\n",
    "image3_208 = nii.load(r'C:\\Users\\User\\Documents\\Raíssa\\Curso Monte Carlo\\pymcx-master\\pymcx\\F-904-R2.08-extra-s3.nii')\n",
    "image4_208 = nii.load(r'C:\\Users\\User\\Documents\\Raíssa\\Curso Monte Carlo\\pymcx-master\\pymcx\\F-904-R2.08-extra-s4.nii')\n",
    "image5_208 = nii.load(r'C:\\Users\\User\\Documents\\Raíssa\\Curso Monte Carlo\\pymcx-master\\pymcx\\F-904-R2.08-extra-s5.nii')\n",
    "\n",
    "data1_208 = image1_208.get_fdata()\n",
    "data1_208 = np.squeeze(data1_208)\n",
    "data2_208 = image2_208.get_fdata()\n",
    "data2_208 = np.squeeze(data2_208)\n",
    "data3_208 = image3_208.get_fdata()\n",
    "data3_208 = np.squeeze(data3_208)\n",
    "data4_208 = image4_208.get_fdata()\n",
    "data4_208 = np.squeeze(data4_208)\n",
    "data5_208 = image5_208.get_fdata()\n",
    "data5_208 = np.squeeze(data5_208)"
   ]
  },
  {
   "cell_type": "code",
   "execution_count": 10,
   "id": "c0eaa641",
   "metadata": {},
   "outputs": [],
   "source": [
    "data1_208_corr = data1_208*0.13591786\n",
    "data2_208_corr = data2_208*0.13591786\n",
    "data3_208_corr = data3_208*0.13591786\n",
    "data4_208_corr = data4_208*0.13591786\n",
    "data5_208_corr = data5_208*0.13591786"
   ]
  },
  {
   "cell_type": "code",
   "execution_count": 11,
   "id": "2c4c58b5",
   "metadata": {},
   "outputs": [
    {
     "name": "stdout",
     "output_type": "stream",
     "text": [
      "1 - Intensidade inicial I0: 0.01820994151542574\n",
      "1 - Intensidade final If 0.01233468572937265\n",
      "  \n",
      "2 - Intensidade inicial I0: 0.018322922743989528\n",
      "2 - Intensidade final If 0.012331503929751367\n",
      "  \n",
      "3 - Intensidade inicial I0: 0.018295278961029053\n",
      "3 - Intensidade final If 0.012297823638979792\n",
      "  \n",
      "4 - Intensidade inicial I0: 0.01819417226536125\n",
      "4 - Intensidade final If 0.012383623873388618\n",
      "  \n",
      "5 - Intensidade inicial I0: 0.01822974118003279\n",
      "5 - Intensidade final If 0.012404537471663207\n"
     ]
    }
   ],
   "source": [
    "# Print das intensidades inicial e final\n",
    "\n",
    "print('1 - Intensidade inicial I0:', data1_208_corr[49,50,50])\n",
    "print('1 - Intensidade final If', data1_208_corr[34,50,50])\n",
    "print('  ')\n",
    "print('2 - Intensidade inicial I0:', data2_208_corr[49,50,50])\n",
    "print('2 - Intensidade final If', data2_208_corr[34,50,50])\n",
    "print('  ')\n",
    "print('3 - Intensidade inicial I0:', data3_208_corr[49,50,50])\n",
    "print('3 - Intensidade final If', data3_208_corr[34,50,50])\n",
    "print('  ')\n",
    "print('4 - Intensidade inicial I0:', data4_208_corr[49,50,50])\n",
    "print('4 - Intensidade final If', data4_208_corr[34,50,50])\n",
    "print('  ')\n",
    "print('5 - Intensidade inicial I0:', data5_208_corr[49,50,50])\n",
    "print('5 - Intensidade final If', data5_208_corr[34,50,50])"
   ]
  },
  {
   "cell_type": "code",
   "execution_count": 12,
   "id": "7eae4732",
   "metadata": {},
   "outputs": [
    {
     "name": "stdout",
     "output_type": "stream",
     "text": [
      "Intensidades de corte [0.00246445 0.00247974 0.002476   0.00246231 0.00246713]\n"
     ]
    }
   ],
   "source": [
    "# Vetor com as intensidades de corte I0/e^2\n",
    "\n",
    "intensidade_corte208 = np.zeros(5)\n",
    "intensidade_corte208[0]=data1_208_corr[49,50,50]/7.389056099\n",
    "intensidade_corte208[1]=data2_208_corr[49,50,50]/7.389056099\n",
    "intensidade_corte208[2]=data3_208_corr[49,50,50]/7.389056099\n",
    "intensidade_corte208[3]=data4_208_corr[49,50,50]/7.389056099\n",
    "intensidade_corte208[4]=data5_208_corr[49,50,50]/7.389056099\n",
    "\n",
    "print('Intensidades de corte', intensidade_corte208)"
   ]
  },
  {
   "cell_type": "code",
   "execution_count": 13,
   "id": "71129e59",
   "metadata": {},
   "outputs": [],
   "source": [
    "#Criação da Máscara\n",
    "\n",
    "mask1_208 = data1_208_corr[34, :, :] >= intensidade_corte208[0]\n",
    "mask2_208 = data2_208_corr[34, :, :] >= intensidade_corte208[1]\n",
    "mask3_208 = data3_208_corr[34, :, :] >= intensidade_corte208[2]\n",
    "mask4_208 = data4_208_corr[34, :, :] >= intensidade_corte208[3]\n",
    "mask5_208 = data5_208_corr[34, :, :] >= intensidade_corte208[4]"
   ]
  },
  {
   "cell_type": "code",
   "execution_count": 14,
   "id": "d07ffb29",
   "metadata": {},
   "outputs": [
    {
     "name": "stdout",
     "output_type": "stream",
     "text": [
      "A área irradiada com pelo menos 0.0024644475926891645 J/cm² é 30.810000000000002 mm².\n",
      "A área irradiada com pelo menos 0.002479737939257122 J/cm² é 30.76 mm².\n",
      "A área irradiada com pelo menos 0.0024759967600604697 J/cm² é 30.8 mm².\n",
      "A área irradiada com pelo menos 0.0024623134567652778 J/cm² é 30.91 mm².\n",
      "A área irradiada com pelo menos 0.002467127185906725 J/cm² é 30.84 mm².\n"
     ]
    }
   ],
   "source": [
    "# Cálculo e print da área irradiada\n",
    "\n",
    "area1_208 = 0.01*mask1_208.sum()\n",
    "print('A área irradiada com pelo menos',intensidade_corte208[0],'J/cm² é',area1_208,'mm².')\n",
    "area2_208 = 0.01*mask2_208.sum()\n",
    "print('A área irradiada com pelo menos',intensidade_corte208[1],'J/cm² é',area2_208,'mm².')\n",
    "area3_208 = 0.01*mask3_208.sum()\n",
    "print('A área irradiada com pelo menos',intensidade_corte208[2],'J/cm² é',area3_208,'mm².')\n",
    "area4_208 = 0.01*mask4_208.sum()\n",
    "print('A área irradiada com pelo menos',intensidade_corte208[3],'J/cm² é',area4_208,'mm².')\n",
    "area5_208 = 0.01*mask5_208.sum()\n",
    "print('A área irradiada com pelo menos',intensidade_corte208[4],'J/cm² é',area5_208,'mm².')"
   ]
  },
  {
   "cell_type": "markdown",
   "id": "ffa11422",
   "metadata": {},
   "source": [
    "## # Cálculo da Fluência Média"
   ]
  },
  {
   "cell_type": "code",
   "execution_count": 15,
   "id": "23da2155",
   "metadata": {},
   "outputs": [
    {
     "name": "stdout",
     "output_type": "stream",
     "text": [
      "0.006481909780860505 J/cm²\n",
      "0.006488471588836265 J/cm²\n",
      "0.006482158978934288 J/cm²\n",
      "0.006469362750038451 J/cm²\n",
      "0.006478716999124076 J/cm²\n"
     ]
    }
   ],
   "source": [
    "soma = 0\n",
    "for i in range(0,100):\n",
    "    for j in range(0,100):\n",
    "        if mask1_208[i,j]==1:\n",
    "            soma = soma + data1_208_corr[34,i,j]\n",
    "print(soma/mask1_208.sum(), 'J/cm²')\n",
    "\n",
    "soma = 0\n",
    "for i in range(0,100):\n",
    "    for j in range(0,100):\n",
    "        if mask2_208[i,j]==1:\n",
    "            soma = soma + data2_208_corr[34,i,j]\n",
    "print(soma/mask2_208.sum(), 'J/cm²')\n",
    "\n",
    "soma = 0\n",
    "for i in range(0,100):\n",
    "    for j in range(0,100):\n",
    "        if mask3_208[i,j]==1:\n",
    "            soma = soma + data3_208_corr[34,i,j]\n",
    "print(soma/mask3_208.sum(), 'J/cm²')\n",
    "\n",
    "soma = 0\n",
    "for i in range(0,100):\n",
    "    for j in range(0,100):\n",
    "        if mask4_208[i,j]==1:\n",
    "            soma = soma + data4_208_corr[34,i,j]\n",
    "print(soma/mask4_208.sum(), 'J/cm²')\n",
    "\n",
    "soma = 0\n",
    "for i in range(0,100):\n",
    "    for j in range(0,100):\n",
    "        if mask5_208[i,j]==1:\n",
    "            soma = soma + data5_208_corr[34,i,j]\n",
    "print(soma/mask5_208.sum(), 'J/cm²')"
   ]
  },
  {
   "cell_type": "markdown",
   "id": "bdf7b9ac",
   "metadata": {},
   "source": [
    "### 3.46 mm"
   ]
  },
  {
   "cell_type": "code",
   "execution_count": 8,
   "id": "77ff97ac",
   "metadata": {},
   "outputs": [],
   "source": [
    "# # 3,46mm\n",
    "\n",
    "# image1_346 = nii.load(r'C:\\Users\\User\\Documents\\Raíssa\\Curso Monte Carlo\\pymcx-master\\pymcx\\F-904-R.346-extra-s1.nii')\n",
    "# image2_346 = nii.load(r'C:\\Users\\User\\Documents\\Raíssa\\Curso Monte Carlo\\pymcx-master\\pymcx\\F-904-R.346-extra-s2.nii')\n",
    "# image3_346 = nii.load(r'C:\\Users\\User\\Documents\\Raíssa\\Curso Monte Carlo\\pymcx-master\\pymcx\\F-904-R.346-extra-s3.nii')\n",
    "# image4_346 = nii.load(r'C:\\Users\\User\\Documents\\Raíssa\\Curso Monte Carlo\\pymcx-master\\pymcx\\F-904-R.346-extra-s4.nii')\n",
    "# image5_346 = nii.load(r'C:\\Users\\User\\Documents\\Raíssa\\Curso Monte Carlo\\pymcx-master\\pymcx\\F-904-R.346-extra-s5.nii')\n",
    "\n",
    "# data1_346 = image1_346.get_fdata()\n",
    "# data1_346 = np.squeeze(data1_346)\n",
    "# data2_346 = image2_346.get_fdata()\n",
    "# data2_346 = np.squeeze(data2_346)\n",
    "# data3_346 = image3_346.get_fdata()\n",
    "# data3_346 = np.squeeze(data3_346)\n",
    "# data4_346 = image4_346.get_fdata()\n",
    "# data4_346 = np.squeeze(data4_346)\n",
    "# data5_346 = image5_346.get_fdata()\n",
    "# data5_346 = np.squeeze(data5_346)\n"
   ]
  },
  {
   "cell_type": "code",
   "execution_count": 9,
   "id": "b1dea96e",
   "metadata": {},
   "outputs": [],
   "source": [
    "# data1_346_corr = data1_346*0.37609890\n",
    "# data2_346_corr = data2_346*0.37609890\n",
    "# data3_346_corr = data3_346*0.37609890\n",
    "# data4_346_corr = data4_346*0.37609890\n",
    "# data5_346_corr = data5_346*0.37609890"
   ]
  },
  {
   "cell_type": "code",
   "execution_count": 10,
   "id": "c20df875",
   "metadata": {},
   "outputs": [
    {
     "name": "stdout",
     "output_type": "stream",
     "text": [
      "1 - Intensidade inicial I0: 0.020442436491843314\n",
      "1 - Intensidade final If 0.016986472673903033\n",
      "  \n",
      "2 - Intensidade inicial I0: 0.020233810435359927\n",
      "2 - Intensidade final If 0.017090469058610874\n",
      "  \n",
      "3 - Intensidade inicial I0: 0.020348735225218535\n",
      "3 - Intensidade final If 0.017062100039701537\n",
      "  \n",
      "4 - Intensidade inicial I0: 0.020405717050536724\n",
      "4 - Intensidade final If 0.017109194460513445\n",
      "  \n",
      "5 - Intensidade inicial I0: 0.02039210978504643\n",
      "5 - Intensidade final If 0.0170799974047523\n"
     ]
    }
   ],
   "source": [
    "# # Print das intensidades inicial e final\n",
    "\n",
    "# print('1 - Intensidade inicial I0:', data1_346_corr[49,100,100])\n",
    "# print('1 - Intensidade final If', data1_346_corr[34,100,100])\n",
    "# print('  ')\n",
    "# print('2 - Intensidade inicial I0:', data2_346_corr[49,100,100])\n",
    "# print('2 - Intensidade final If', data2_346_corr[34,100,100])\n",
    "# print('  ')\n",
    "# print('3 - Intensidade inicial I0:', data3_346_corr[49,100,100])\n",
    "# print('3 - Intensidade final If', data3_346_corr[34,100,100])\n",
    "# print('  ')\n",
    "# print('4 - Intensidade inicial I0:', data4_346_corr[49,100,100])\n",
    "# print('4 - Intensidade final If', data4_346_corr[34,100,100])\n",
    "# print('  ')\n",
    "# print('5 - Intensidade inicial I0:', data5_346_corr[49,100,100])\n",
    "# print('5 - Intensidade final If', data5_346_corr[34,100,100])"
   ]
  },
  {
   "cell_type": "code",
   "execution_count": 11,
   "id": "229e819d",
   "metadata": {},
   "outputs": [
    {
     "name": "stdout",
     "output_type": "stream",
     "text": [
      "Intensidades de corte [0.00276658 0.00273835 0.0027539  0.00276161 0.00275977]\n"
     ]
    }
   ],
   "source": [
    "# # Vetor com as intensidades de corte I0/e^2\n",
    "\n",
    "# intensidade_corte346 = np.zeros(5)\n",
    "# intensidade_corte346[0]=data1_346_corr[49,100,100]/7.389056099\n",
    "# intensidade_corte346[1]=data2_346_corr[49,100,100]/7.389056099\n",
    "# intensidade_corte346[2]=data3_346_corr[49,100,100]/7.389056099\n",
    "# intensidade_corte346[3]=data4_346_corr[49,100,100]/7.389056099\n",
    "# intensidade_corte346[4]=data5_346_corr[49,100,100]/7.389056099\n",
    "\n",
    "# print('Intensidades de corte', intensidade_corte346)"
   ]
  },
  {
   "cell_type": "code",
   "execution_count": 12,
   "id": "9e5590b6",
   "metadata": {},
   "outputs": [],
   "source": [
    "# #Criação da Máscara\n",
    "\n",
    "# mask1_346 = data1_346_corr[34, :, :] >= intensidade_corte346[0]\n",
    "# mask2_346 = data2_346_corr[34, :, :] >= intensidade_corte346[1]\n",
    "# mask3_346 = data3_346_corr[34, :, :] >= intensidade_corte346[2]\n",
    "# mask4_346 = data4_346_corr[34, :, :] >= intensidade_corte346[3]\n",
    "# mask5_346 = data5_346_corr[34, :, :] >= intensidade_corte346[4]"
   ]
  },
  {
   "cell_type": "code",
   "execution_count": 13,
   "id": "1e6e55cc",
   "metadata": {},
   "outputs": [
    {
     "name": "stdout",
     "output_type": "stream",
     "text": [
      "A área irradiada com pelo menos 0.002766582932644116 J/cm² é 70.57000000000001 mm².\n",
      "A área irradiada com pelo menos 0.0027383484661996646 J/cm² é 71.01 mm².\n",
      "A área irradiada com pelo menos 0.002753901845185941 J/cm² é 70.73 mm².\n",
      "A área irradiada com pelo menos 0.0027616134966546454 J/cm² é 70.66 mm².\n",
      "A área irradiada com pelo menos 0.0027597719535254576 J/cm² é 70.60000000000001 mm².\n"
     ]
    }
   ],
   "source": [
    "# # Cálculo e print da área irradiada\n",
    "\n",
    "# area1_346 = 0.01*mask1_346.sum()\n",
    "# print('A área irradiada com pelo menos',intensidade_corte346[0],'J/cm² é',area1_346,'mm².')\n",
    "# area2_346 = 0.01*mask2_346.sum()\n",
    "# print('A área irradiada com pelo menos',intensidade_corte346[1],'J/cm² é',area2_346,'mm².')\n",
    "# area3_346 = 0.01*mask3_346.sum()\n",
    "# print('A área irradiada com pelo menos',intensidade_corte346[2],'J/cm² é',area3_346,'mm².')\n",
    "# area4_346 = 0.01*mask4_346.sum()\n",
    "# print('A área irradiada com pelo menos',intensidade_corte346[3],'J/cm² é',area4_346,'mm².')\n",
    "# area5_346 = 0.01*mask5_346.sum()\n",
    "# print('A área irradiada com pelo menos',intensidade_corte346[4],'J/cm² é',area5_346,'mm².')"
   ]
  },
  {
   "cell_type": "markdown",
   "id": "62972b17",
   "metadata": {},
   "source": [
    "## # Cálculo da Fluência Média"
   ]
  },
  {
   "cell_type": "code",
   "execution_count": 14,
   "id": "2ac5c8b8",
   "metadata": {},
   "outputs": [
    {
     "name": "stdout",
     "output_type": "stream",
     "text": [
      "0.009273929921321604 J/cm²\n",
      "0.009235352907688638 J/cm²\n",
      "0.009260110847689679 J/cm²\n",
      "0.00926936873986796 J/cm²\n",
      "0.009268648009747025 J/cm²\n"
     ]
    }
   ],
   "source": [
    "# soma = 0\n",
    "# for i in range(0,200):\n",
    "#     for j in range(0,200):\n",
    "#         if mask1_346[i,j]==1:\n",
    "#             soma = soma + data1_346_corr[34,i,j]\n",
    "# print(soma/mask1_346.sum(), 'J/cm²')\n",
    "\n",
    "# soma = 0\n",
    "# for i in range(0,200):\n",
    "#     for j in range(0,200):\n",
    "#         if mask2_346[i,j]==1:\n",
    "#             soma = soma + data2_346_corr[34,i,j]\n",
    "# print(soma/mask2_346.sum(), 'J/cm²')\n",
    "\n",
    "# soma = 0\n",
    "# for i in range(0,200):\n",
    "#     for j in range(0,200):\n",
    "#         if mask3_346[i,j]==1:\n",
    "#             soma = soma + data3_346_corr[34,i,j]\n",
    "# print(soma/mask3_346.sum(), 'J/cm²')\n",
    "\n",
    "# soma = 0\n",
    "# for i in range(0,200):\n",
    "#     for j in range(0,200):\n",
    "#         if mask4_346[i,j]==1:\n",
    "#             soma = soma + data4_346_corr[34,i,j]\n",
    "# print(soma/mask4_346.sum(), 'J/cm²')\n",
    "\n",
    "# soma = 0\n",
    "# for i in range(0,200):\n",
    "#     for j in range(0,200):\n",
    "#         if mask5_346[i,j]==1:\n",
    "#             soma = soma + data5_346_corr[34,i,j]\n",
    "# print(soma/mask5_346.sum(), 'J/cm²')"
   ]
  },
  {
   "cell_type": "markdown",
   "id": "8153c6ca",
   "metadata": {},
   "source": [
    "## Comparativo entre Fontes Reais"
   ]
  },
  {
   "cell_type": "markdown",
   "id": "157cd32e",
   "metadata": {},
   "source": [
    "### Ibramed Laser Pulse 1 - 660 nm"
   ]
  },
  {
   "cell_type": "code",
   "execution_count": 2,
   "id": "ca8a64ef",
   "metadata": {},
   "outputs": [],
   "source": [
    "#ibm1\n",
    "\n",
    "image1_ibm1 = nii.load(r'C:\\Users\\User\\Documents\\Raíssa\\Curso Monte Carlo\\pymcx-master\\pymcx\\F-ILP1-e8-s1.nii')\n",
    "image2_ibm1 = nii.load(r'C:\\Users\\User\\Documents\\Raíssa\\Curso Monte Carlo\\pymcx-master\\pymcx\\F-ILP1-e8-s2.nii')\n",
    "image3_ibm1 = nii.load(r'C:\\Users\\User\\Documents\\Raíssa\\Curso Monte Carlo\\pymcx-master\\pymcx\\F-ILP1-e8-s3.nii')\n",
    "image4_ibm1 = nii.load(r'C:\\Users\\User\\Documents\\Raíssa\\Curso Monte Carlo\\pymcx-master\\pymcx\\F-ILP1-e8-s4.nii')\n",
    "image5_ibm1 = nii.load(r'C:\\Users\\User\\Documents\\Raíssa\\Curso MonteCarlo\\pymcx-master\\pymcx\\F-ILP1-e8-s5.nii')\n",
    "\n",
    "data1_ibm1 = image1_ibm1.get_fdata()\n",
    "data1_ibm1 = np.squeeze(data1_ibm1)\n",
    "data2_ibm1 = image2_ibm1.get_fdata()\n",
    "data2_ibm1 = np.squeeze(data2_ibm1)\n",
    "data3_ibm1 = image3_ibm1.get_fdata()\n",
    "data3_ibm1 = np.squeeze(data3_ibm1)\n",
    "data4_ibm1 = image4_ibm1.get_fdata()\n",
    "data4_ibm1 = np.squeeze(data4_ibm1)\n",
    "data5_ibm1 = image5_ibm1.get_fdata()\n",
    "data5_ibm1 = np.squeeze(data5_ibm1)"
   ]
  },
  {
   "cell_type": "code",
   "execution_count": 3,
   "id": "7e8610c4",
   "metadata": {},
   "outputs": [],
   "source": [
    "data1_ibm1_corr = data1_ibm1*0.0784267\n",
    "data2_ibm1_corr = data2_ibm1*0.0784267\n",
    "data3_ibm1_corr = data3_ibm1*0.0784267\n",
    "data4_ibm1_corr = data4_ibm1*0.0784267\n",
    "data5_ibm1_corr = data5_ibm1*0.0784267"
   ]
  },
  {
   "cell_type": "code",
   "execution_count": 4,
   "id": "cf554ff4",
   "metadata": {},
   "outputs": [
    {
     "name": "stdout",
     "output_type": "stream",
     "text": [
      "1 - Intensidade inicial I0: 0.015866564955733718\n",
      "1 - Intensidade final If 0.004352862170187756\n",
      "  \n",
      "2 - Intensidade inicial I0: 0.015186799288181962\n",
      "2 - Intensidade final If 0.004147007296159118\n",
      "  \n",
      "3 - Intensidade inicial I0: 0.01564113258319348\n",
      "3 - Intensidade final If 0.004180850491775945\n",
      "  \n",
      "4 - Intensidade inicial I0: 0.0160251856707409\n",
      "4 - Intensidade final If 0.004417492836713791\n",
      "  \n",
      "5 - Intensidade inicial I0: 0.016105933466389777\n",
      "5 - Intensidade final If 0.004167372464028374\n"
     ]
    }
   ],
   "source": [
    "# # # Print das intensidades inicial e final\n",
    "\n",
    "# print('1 - Intensidade inicial I0:', data1_ibm1_corr[399, 400, 400])\n",
    "# print('1 - Intensidade final If', data1_ibm1_corr[249,400,400])\n",
    "# print('  ')\n",
    "# print('2 - Intensidade inicial I0:', data2_ibm1_corr[399, 400, 400])\n",
    "# print('2 - Intensidade final If', data2_ibm1_corr[249,400,400])\n",
    "# print('  ')\n",
    "# print('3 - Intensidade inicial I0:', data3_ibm1_corr[399, 400, 400])\n",
    "# print('3 - Intensidade final If', data3_ibm1_corr[249,400,400])\n",
    "# print('  ')\n",
    "# print('4 - Intensidade inicial I0:', data4_ibm1_corr[399, 400, 400])\n",
    "# print('4 - Intensidade final If', data4_ibm1_corr[249,400,400])\n",
    "# print('  ')\n",
    "# print('5 - Intensidade inicial I0:', data5_ibm1_corr[399, 400, 400])\n",
    "# print('5 - Intensidade final If', data5_ibm1_corr[249,400,400])"
   ]
  },
  {
   "cell_type": "code",
   "execution_count": 4,
   "id": "769155a4",
   "metadata": {},
   "outputs": [
    {
     "name": "stdout",
     "output_type": "stream",
     "text": [
      "Intensidades de corte [0.00214731 0.00205531 0.0021168  0.00216877 0.0021797 ]\n"
     ]
    }
   ],
   "source": [
    "# # Vetor com as intensidades de corte I0/e^2\n",
    "\n",
    "# intensidade_corteibm1 = np.zeros(5)\n",
    "# intensidade_corteibm1[0]=data1_ibm1_corr[399,400,400]/7.389056099\n",
    "# intensidade_corteibm1[1]=data2_ibm1_corr[399,400,400]/7.389056099\n",
    "# intensidade_corteibm1[2]=data3_ibm1_corr[399,400,400]/7.389056099\n",
    "# intensidade_corteibm1[3]=data4_ibm1_corr[399,400,400]/7.389056099\n",
    "# intensidade_corteibm1[4]=data5_ibm1_corr[399,400,400]/7.389056099\n",
    "\n",
    "# print('Intensidades de corte', intensidade_corteibm1)"
   ]
  },
  {
   "cell_type": "code",
   "execution_count": 5,
   "id": "7260b8cc",
   "metadata": {},
   "outputs": [],
   "source": [
    "# #Criação da Máscara\n",
    "\n",
    "# mask1_ibm1 = data1_ibm1_corr[249, :, :] >= intensidade_corteibm1[0]\n",
    "# mask2_ibm1 = data2_ibm1_corr[249, :, :] >= intensidade_corteibm1[1]\n",
    "# mask3_ibm1 = data3_ibm1_corr[249, :, :] >= intensidade_corteibm1[2]\n",
    "# mask4_ibm1 = data4_ibm1_corr[249, :, :] >= intensidade_corteibm1[3]\n",
    "# mask5_ibm1 = data5_ibm1_corr[249, :, :] >= intensidade_corteibm1[4]"
   ]
  },
  {
   "cell_type": "code",
   "execution_count": 9,
   "id": "17fd0825",
   "metadata": {},
   "outputs": [
    {
     "name": "stdout",
     "output_type": "stream",
     "text": [
      "A área irradiada com pelo menos 0.0021473060622561823 J/cm² é 30.7252 mm².\n",
      "A área irradiada com pelo menos 0.0020553097831044038 J/cm² é 32.2941 mm².\n",
      "A área irradiada com pelo menos 0.002116797108268034 J/cm² é 31.244 mm².\n",
      "A área irradiada com pelo menos 0.002168773041648672 J/cm² é 30.3293 mm².\n",
      "A área irradiada com pelo menos 0.002179701067443442 J/cm² é 30.141000000000002 mm².\n"
     ]
    }
   ],
   "source": [
    "# # Cálculo e print da área irradiada\n",
    "\n",
    "# area1_ibm1 = 0.0001*mask1_ibm1.sum()\n",
    "# print('A área irradiada com pelo menos',intensidade_corteibm1[0],'J/cm² é',area1_ibm1,'mm².')\n",
    "# area2_ibm1 = 0.0001*mask2_ibm1.sum()\n",
    "# print('A área irradiada com pelo menos',intensidade_corteibm1[1],'J/cm² é',area2_ibm1,'mm².')\n",
    "# area3_ibm1 = 0.0001*mask3_ibm1.sum()\n",
    "# print('A área irradiada com pelo menos',intensidade_corteibm1[2],'J/cm² é',area3_ibm1,'mm².')\n",
    "# area4_ibm1 = 0.0001*mask4_ibm1.sum()\n",
    "# print('A área irradiada com pelo menos',intensidade_corteibm1[3],'J/cm² é',area4_ibm1,'mm².')\n",
    "# area5_ibm1 = 0.0001*mask5_ibm1.sum()\n",
    "# print('A área irradiada com pelo menos',intensidade_corteibm1[4],'J/cm² é',area5_ibm1,'mm².')"
   ]
  },
  {
   "cell_type": "markdown",
   "id": "57d24241",
   "metadata": {},
   "source": [
    "## # Cálculo da Fluência Média Subcutânea"
   ]
  },
  {
   "cell_type": "code",
   "execution_count": 6,
   "id": "b8848d32",
   "metadata": {},
   "outputs": [
    {
     "name": "stdout",
     "output_type": "stream",
     "text": [
      "0.0008482861417337572 J/cm²\n",
      "0.0008344994236777413 J/cm²\n",
      "0.0008439962329581537 J/cm²\n",
      "0.0008532068705187319 J/cm²\n",
      "0.0008546198165819282 J/cm²\n"
     ]
    }
   ],
   "source": [
    "# soma = 0\n",
    "# for i in range(0,400):\n",
    "#     for j in range(0,400):\n",
    "#         if mask1_ibm1[i,j]==1:\n",
    "#             soma = soma + data1_ibm1_corr[259,i,j]\n",
    "# print(soma/mask1_ibm1.sum(), 'J/cm²')\n",
    "\n",
    "# soma = 0\n",
    "# for i in range(0,400):\n",
    "#     for j in range(0,400):\n",
    "#         if mask2_ibm1[i,j]==1:\n",
    "#             soma = soma + data2_ibm1_corr[259,i,j]\n",
    "# print(soma/mask2_ibm1.sum(), 'J/cm²')\n",
    "\n",
    "# soma = 0\n",
    "# for i in range(0,400):\n",
    "#     for j in range(0,400):\n",
    "#         if mask3_ibm1[i,j]==1:\n",
    "#             soma = soma + data3_ibm1_corr[259,i,j]\n",
    "# print(soma/mask3_ibm1.sum(), 'J/cm²')\n",
    "\n",
    "# soma = 0\n",
    "# for i in range(0,400):\n",
    "#     for j in range(0,400):\n",
    "#         if mask4_ibm1[i,j]==1:\n",
    "#             soma = soma + data4_ibm1_corr[259,i,j]\n",
    "# print(soma/mask4_ibm1.sum(), 'J/cm²')\n",
    "\n",
    "# soma = 0\n",
    "# for i in range(0,400):\n",
    "#     for j in range(0,400):\n",
    "#         if mask5_ibm1[i,j]==1:\n",
    "#             soma = soma + data5_ibm1_corr[259,i,j]\n",
    "# print(soma/mask5_ibm1.sum(), 'J/cm²')"
   ]
  },
  {
   "cell_type": "markdown",
   "id": "7d5d477a",
   "metadata": {},
   "source": [
    "## # Cálculo da Fluência Média Superficial"
   ]
  },
  {
   "cell_type": "code",
   "execution_count": 7,
   "id": "f30eb6b9",
   "metadata": {},
   "outputs": [
    {
     "name": "stdout",
     "output_type": "stream",
     "text": [
      "0.0031483209613444416 J/cm²\n",
      "0.003033013473949095 J/cm²\n",
      "0.0031096370475806445 J/cm²\n",
      "0.0031795044300328796 J/cm²\n",
      "0.0031942424585805515 J/cm²\n"
     ]
    }
   ],
   "source": [
    "# soma = 0\n",
    "# for i in range(0,400):\n",
    "#     for j in range(0,400):\n",
    "#         if mask1_ibm1[i,j]==1:\n",
    "#             soma = soma + data1_ibm1_corr[399,i,j]\n",
    "# print(soma/mask1_ibm1.sum(), 'J/cm²')\n",
    "\n",
    "# soma = 0\n",
    "# for i in range(0,400):\n",
    "#     for j in range(0,400):\n",
    "#         if mask2_ibm1[i,j]==1:\n",
    "#             soma = soma + data2_ibm1_corr[399,i,j]\n",
    "# print(soma/mask2_ibm1.sum(), 'J/cm²')\n",
    "\n",
    "# soma = 0\n",
    "# for i in range(0,400):\n",
    "#     for j in range(0,400):\n",
    "#         if mask3_ibm1[i,j]==1:\n",
    "#             soma = soma + data3_ibm1_corr[399,i,j]\n",
    "# print(soma/mask3_ibm1.sum(), 'J/cm²')\n",
    "\n",
    "# soma = 0\n",
    "# for i in range(0,400):\n",
    "#     for j in range(0,400):\n",
    "#         if mask4_ibm1[i,j]==1:\n",
    "#             soma = soma + data4_ibm1_corr[399,i,j]\n",
    "# print(soma/mask4_ibm1.sum(), 'J/cm²')\n",
    "\n",
    "# soma = 0\n",
    "# for i in range(0,400):\n",
    "#     for j in range(0,400):\n",
    "#         if mask5_ibm1[i,j]==1:\n",
    "#             soma = soma + data5_ibm1_corr[399,i,j]\n",
    "# print(soma/mask5_ibm1.sum(), 'J/cm²')"
   ]
  },
  {
   "cell_type": "markdown",
   "id": "92630371",
   "metadata": {},
   "source": [
    "### Ibramed Antares 2 - 830nm"
   ]
  },
  {
   "cell_type": "code",
   "execution_count": 2,
   "id": "4b2d705c",
   "metadata": {},
   "outputs": [],
   "source": [
    "#ia2\n",
    "\n",
    "image1_ia2 = nii.load(r'C:\\Users\\User\\Documents\\Raíssa\\Curso Monte Carlo\\pymcx-master\\pymcx\\F-IA2-extra-s1.nii')\n",
    "image2_ia2 = nii.load(r'C:\\Users\\User\\Documents\\Raíssa\\Curso Monte Carlo\\pymcx-master\\pymcx\\F-IA2-extra-s2.nii')\n",
    "image3_ia2 = nii.load(r'C:\\Users\\User\\Documents\\Raíssa\\Curso Monte Carlo\\pymcx-master\\pymcx\\F-IA2-extra-s3.nii')\n",
    "image4_ia2 = nii.load(r'C:\\Users\\User\\Documents\\Raíssa\\Curso Monte Carlo\\pymcx-master\\pymcx\\F-IA2-extra-s4.nii')\n",
    "image5_ia2 = nii.load(r'C:\\Users\\User\\Documents\\Raíssa\\Curso Monte Carlo\\pymcx-master\\pymcx\\F-IA2-extra-s5.nii')\n",
    "\n",
    "data1_ia2 = image1_ia2.get_fdata()\n",
    "data1_ia2 = np.squeeze(data1_ia2)\n",
    "data2_ia2 = image2_ia2.get_fdata()\n",
    "data2_ia2 = np.squeeze(data2_ia2)\n",
    "data3_ia2 = image3_ia2.get_fdata()\n",
    "data3_ia2 = np.squeeze(data3_ia2)\n",
    "data4_ia2 = image4_ia2.get_fdata()\n",
    "data4_ia2 = np.squeeze(data4_ia2)\n",
    "data5_ia2 = image5_ia2.get_fdata()\n",
    "data5_ia2 = np.squeeze(data5_ia2)"
   ]
  },
  {
   "cell_type": "code",
   "execution_count": 3,
   "id": "38acbc85",
   "metadata": {},
   "outputs": [],
   "source": [
    "data1_ia2_corr = data1_ia2*0.22732878\n",
    "data2_ia2_corr = data2_ia2*0.22732878\n",
    "data3_ia2_corr = data3_ia2*0.22732878\n",
    "data4_ia2_corr = data4_ia2*0.22732878\n",
    "data5_ia2_corr = data5_ia2*0.22732878"
   ]
  },
  {
   "cell_type": "code",
   "execution_count": 12,
   "id": "eadf9fad",
   "metadata": {},
   "outputs": [
    {
     "name": "stdout",
     "output_type": "stream",
     "text": [
      "1 - Intensidade inicial I0: 0.017423546996003687\n",
      "1 - Intensidade final If 0.011307339799723998\n",
      "  \n",
      "2 - Intensidade inicial I0: 0.017390121206876188\n",
      "2 - Intensidade final If 0.0113240188196598\n",
      "  \n",
      "3 - Intensidade inicial I0: 0.017445011654002817\n",
      "3 - Intensidade final If 0.011406535719609262\n",
      "  \n",
      "4 - Intensidade inicial I0: 0.017337112495332062\n",
      "4 - Intensidade final If 0.011290311024254636\n",
      "  \n",
      "5 - Intensidade inicial I0: 0.017506853174784332\n",
      "5 - Intensidade final If 0.011327435922754035\n"
     ]
    }
   ],
   "source": [
    "# # Print das intensidades inicial e final\n",
    "\n",
    "# print('1 - Intensidade inicial I0:', data1_ia2_corr[49, 50, 50])\n",
    "# print('1 - Intensidade final If', data1_ia2_corr[34,50,50])\n",
    "# print('  ')\n",
    "# print('2 - Intensidade inicial I0:', data2_ia2_corr[49, 50, 50])\n",
    "# print('2 - Intensidade final If', data2_ia2_corr[34,50,50])\n",
    "# print('  ')\n",
    "# print('3 - Intensidade inicial I0:', data3_ia2_corr[49, 50, 50])\n",
    "# print('3 - Intensidade final If', data3_ia2_corr[34,50,50])\n",
    "# print('  ')\n",
    "# print('4 - Intensidade inicial I0:', data4_ia2_corr[49, 50, 50])\n",
    "# print('4 - Intensidade final If', data4_ia2_corr[34,50,50])\n",
    "# print('  ')\n",
    "# print('5 - Intensidade inicial I0:', data5_ia2_corr[49, 50, 50])\n",
    "# print('5 - Intensidade final If', data5_ia2_corr[34,50,50])"
   ]
  },
  {
   "cell_type": "code",
   "execution_count": 4,
   "id": "22792427",
   "metadata": {},
   "outputs": [
    {
     "name": "stdout",
     "output_type": "stream",
     "text": [
      "Intensidades de corte [0.00235802 0.0023535  0.00236093 0.00234632 0.00236929]\n"
     ]
    }
   ],
   "source": [
    "# Vetor com as intensidades de corte I0/e^2\n",
    "\n",
    "intensidade_corteia2 = np.zeros(5)\n",
    "intensidade_corteia2[0]=data1_ia2_corr[49, 50, 50]/7.389056099\n",
    "intensidade_corteia2[1]=data2_ia2_corr[49, 50, 50]/7.389056099\n",
    "intensidade_corteia2[2]=data3_ia2_corr[49, 50, 50]/7.389056099\n",
    "intensidade_corteia2[3]=data4_ia2_corr[49, 50, 50]/7.389056099\n",
    "intensidade_corteia2[4]=data5_ia2_corr[49, 50, 50]/7.389056099\n",
    "\n",
    "print('Intensidades de corte', intensidade_corteia2)"
   ]
  },
  {
   "cell_type": "code",
   "execution_count": 5,
   "id": "0ccd4075",
   "metadata": {},
   "outputs": [],
   "source": [
    "#Criação da Máscara\n",
    "\n",
    "mask1_ia2 = data1_ia2_corr[34, :, :] >= intensidade_corteia2[0]\n",
    "mask2_ia2 = data2_ia2_corr[34, :, :] >= intensidade_corteia2[1]\n",
    "mask3_ia2 = data3_ia2_corr[34, :, :] >= intensidade_corteia2[2]\n",
    "mask4_ia2 = data4_ia2_corr[34, :, :] >= intensidade_corteia2[3]\n",
    "mask5_ia2 = data5_ia2_corr[34, :, :] >= intensidade_corteia2[4]"
   ]
  },
  {
   "cell_type": "code",
   "execution_count": 15,
   "id": "f78faf6b",
   "metadata": {},
   "outputs": [
    {
     "name": "stdout",
     "output_type": "stream",
     "text": [
      "A área irradiada com pelo menos 0.00235802066766846 J/cm² é 52.84 mm².\n",
      "A área irradiada com pelo menos 0.002353496979029525 J/cm² é 52.93 mm².\n",
      "A área irradiada com pelo menos 0.002360925593238322 J/cm² é 52.77 mm².\n",
      "A área irradiada com pelo menos 0.00234632303003876 J/cm² é 52.96 mm².\n",
      "A área irradiada com pelo menos 0.0023692949329689925 J/cm² é 52.59 mm².\n"
     ]
    }
   ],
   "source": [
    "# # Cálculo e print da área irradiada\n",
    "\n",
    "# area1_ia2 = 0.01*mask1_ia2.sum()\n",
    "# print('A área irradiada com pelo menos',intensidade_corteia2[0],'J/cm² é',area1_ia2,'mm².')\n",
    "# area2_ia2 = 0.01*mask2_ia2.sum()\n",
    "# print('A área irradiada com pelo menos',intensidade_corteia2[1],'J/cm² é',area2_ia2,'mm².')\n",
    "# area3_ia2 = 0.01*mask3_ia2.sum()\n",
    "# print('A área irradiada com pelo menos',intensidade_corteia2[2],'J/cm² é',area3_ia2,'mm².')\n",
    "# area4_ia2 = 0.01*mask4_ia2.sum()\n",
    "# print('A área irradiada com pelo menos',intensidade_corteia2[3],'J/cm² é',area4_ia2,'mm².')\n",
    "# area5_ia2 = 0.01*mask5_ia2.sum()\n",
    "# print('A área irradiada com pelo menos',intensidade_corteia2[4],'J/cm² é',area5_ia2,'mm².')"
   ]
  },
  {
   "cell_type": "markdown",
   "id": "7d399151",
   "metadata": {},
   "source": [
    "## # Cálculo da Fluência Média Subcutânea"
   ]
  },
  {
   "cell_type": "code",
   "execution_count": 6,
   "id": "baabe806",
   "metadata": {},
   "outputs": [
    {
     "name": "stdout",
     "output_type": "stream",
     "text": [
      "0.00655700701180083 J/cm²\n",
      "0.006545656920018308 J/cm²\n",
      "0.0065597995888599684 J/cm²\n",
      "0.006543171280184879 J/cm²\n",
      "0.006573630343489043 J/cm²\n"
     ]
    }
   ],
   "source": [
    "soma = 0\n",
    "for i in range(0,100):\n",
    "    for j in range(0,100):\n",
    "        if mask1_ia2[i,j]==1:\n",
    "            soma = soma + data1_ia2_corr[34,i,j]\n",
    "print(soma/mask1_ia2.sum(), 'J/cm²')\n",
    "\n",
    "soma = 0\n",
    "for i in range(0,100):\n",
    "    for j in range(0,100):\n",
    "        if mask2_ia2[i,j]==1:\n",
    "            soma = soma + data2_ia2_corr[34,i,j]\n",
    "print(soma/mask2_ia2.sum(), 'J/cm²')\n",
    "\n",
    "soma = 0\n",
    "for i in range(0,100):\n",
    "    for j in range(0,100):\n",
    "        if mask3_ia2[i,j]==1:\n",
    "            soma = soma + data3_ia2_corr[34,i,j]\n",
    "print(soma/mask3_ia2.sum(), 'J/cm²')\n",
    "\n",
    "soma = 0\n",
    "for i in range(0,100):\n",
    "    for j in range(0,100):\n",
    "        if mask4_ia2[i,j]==1:\n",
    "            soma = soma + data4_ia2_corr[34,i,j]\n",
    "print(soma/mask4_ia2.sum(), 'J/cm²')\n",
    "\n",
    "soma = 0\n",
    "for i in range(0,100):\n",
    "    for j in range(0,100):\n",
    "        if mask5_ia2[i,j]==1:\n",
    "            soma = soma + data5_ia2_corr[34,i,j]\n",
    "print(soma/mask5_ia2.sum(), 'J/cm²')"
   ]
  },
  {
   "cell_type": "markdown",
   "id": "503a3c66",
   "metadata": {},
   "source": [
    "## # Cálculo da Fluência Média Superficial"
   ]
  },
  {
   "cell_type": "code",
   "execution_count": 7,
   "id": "e6a9dd88",
   "metadata": {},
   "outputs": [
    {
     "name": "stdout",
     "output_type": "stream",
     "text": [
      "0.009056197423739329 J/cm²\n",
      "0.009042532080570827 J/cm²\n",
      "0.0090676997979554 J/cm²\n",
      "0.009038721585686565 J/cm²\n",
      "0.009094401181736746 J/cm²\n"
     ]
    }
   ],
   "source": [
    "soma = 0\n",
    "for i in range(0,100):\n",
    "    for j in range(0,100):\n",
    "        if mask1_ia2[i,j]==1:\n",
    "            soma = soma + data1_ia2_corr[49,i,j]\n",
    "print(soma/mask1_ia2.sum(), 'J/cm²')\n",
    "\n",
    "soma = 0\n",
    "for i in range(0,100):\n",
    "    for j in range(0,100):\n",
    "        if mask2_ia2[i,j]==1:\n",
    "            soma = soma + data2_ia2_corr[49,i,j]\n",
    "print(soma/mask2_ia2.sum(), 'J/cm²')\n",
    "\n",
    "soma = 0\n",
    "for i in range(0,100):\n",
    "    for j in range(0,100):\n",
    "        if mask3_ia2[i,j]==1:\n",
    "            soma = soma + data3_ia2_corr[49,i,j]\n",
    "print(soma/mask3_ia2.sum(), 'J/cm²')\n",
    "\n",
    "soma = 0\n",
    "for i in range(0,100):\n",
    "    for j in range(0,100):\n",
    "        if mask4_ia2[i,j]==1:\n",
    "            soma = soma + data4_ia2_corr[49,i,j]\n",
    "print(soma/mask4_ia2.sum(), 'J/cm²')\n",
    "\n",
    "soma = 0\n",
    "for i in range(0,100):\n",
    "    for j in range(0,100):\n",
    "        if mask5_ia2[i,j]==1:\n",
    "            soma = soma + data5_ia2_corr[49,i,j]\n",
    "print(soma/mask5_ia2.sum(), 'J/cm²')"
   ]
  },
  {
   "cell_type": "markdown",
   "id": "a9c6b882",
   "metadata": {},
   "source": [
    "### HTM Fluence - 904 nm"
   ]
  },
  {
   "cell_type": "code",
   "execution_count": 8,
   "id": "6c1019fa",
   "metadata": {},
   "outputs": [],
   "source": [
    "#htmf\n",
    "\n",
    "image1_htmf = nii.load(r'C:\\Users\\User\\Documents\\Raíssa\\Curso Monte Carlo\\pymcx-master\\pymcx\\F-HTMF-extra-s1.nii')\n",
    "image2_htmf = nii.load(r'C:\\Users\\User\\Documents\\Raíssa\\Curso Monte Carlo\\pymcx-master\\pymcx\\F-HTMF-extra-s2.nii')\n",
    "image3_htmf = nii.load(r'C:\\Users\\User\\Documents\\Raíssa\\Curso Monte Carlo\\pymcx-master\\pymcx\\F-HTMF-extra-s3.nii')\n",
    "image4_htmf = nii.load(r'C:\\Users\\User\\Documents\\Raíssa\\Curso Monte Carlo\\pymcx-master\\pymcx\\F-HTMF-extra-s4.nii')\n",
    "image5_htmf = nii.load(r'C:\\Users\\User\\Documents\\Raíssa\\Curso Monte Carlo\\pymcx-master\\pymcx\\F-HTMF-extra-s5.nii')\n",
    "\n",
    "data1_htmf = image1_htmf.get_fdata()\n",
    "data1_htmf = np.squeeze(data1_htmf)\n",
    "data2_htmf = image2_htmf.get_fdata()\n",
    "data2_htmf = np.squeeze(data2_htmf)\n",
    "data3_htmf = image3_htmf.get_fdata()\n",
    "data3_htmf = np.squeeze(data3_htmf)\n",
    "data4_htmf = image4_htmf.get_fdata()\n",
    "data4_htmf = np.squeeze(data4_htmf)\n",
    "data5_htmf = image5_htmf.get_fdata()\n",
    "data5_htmf = np.squeeze(data5_htmf)"
   ]
  },
  {
   "cell_type": "code",
   "execution_count": 9,
   "id": "503b4228",
   "metadata": {},
   "outputs": [],
   "source": [
    "data1_htmf_corr = data1_htmf*0.37609890\n",
    "data2_htmf_corr = data2_htmf*0.37609890\n",
    "data3_htmf_corr = data3_htmf*0.37609890\n",
    "data4_htmf_corr = data4_htmf*0.37609890\n",
    "data5_htmf_corr = data5_htmf*0.37609890"
   ]
  },
  {
   "cell_type": "code",
   "execution_count": 10,
   "id": "09fb7a91",
   "metadata": {},
   "outputs": [
    {
     "name": "stdout",
     "output_type": "stream",
     "text": [
      "1 - Intensidade inicial I0: 0.019111453418832646\n",
      "1 - Intensidade final If 0.014591002692871169\n",
      "  \n",
      "2 - Intensidade inicial I0: 0.018989895927694067\n",
      "2 - Intensidade final If 0.014678582651533932\n",
      "  \n",
      "3 - Intensidade inicial I0: 0.019028890718996154\n",
      "3 - Intensidade final If 0.014695389978224784\n",
      "  \n",
      "4 - Intensidade inicial I0: 0.01896171745533608\n",
      "4 - Intensidade final If 0.014645882901814207\n",
      "  \n",
      "5 - Intensidade inicial I0: 0.01901666071277037\n",
      "5 - Intensidade final If 0.014663848919666558\n"
     ]
    }
   ],
   "source": [
    "# Print das intensidades inicial e final\n",
    "\n",
    "print('1 - Intensidade inicial I0:', data1_htmf_corr[49, 100, 100])\n",
    "print('1 - Intensidade final If', data1_htmf_corr[34,100,100])\n",
    "print('  ')\n",
    "print('2 - Intensidade inicial I0:', data2_htmf_corr[49, 100, 100])\n",
    "print('2 - Intensidade final If', data2_htmf_corr[34,100,100])\n",
    "print('  ')\n",
    "print('3 - Intensidade inicial I0:', data3_htmf_corr[49, 100, 100])\n",
    "print('3 - Intensidade final If', data3_htmf_corr[34,100,100])\n",
    "print('  ')\n",
    "print('4 - Intensidade inicial I0:', data4_htmf_corr[49, 100, 100])\n",
    "print('4 - Intensidade final If', data4_htmf_corr[34,100,100])\n",
    "print('  ')\n",
    "print('5 - Intensidade inicial I0:', data5_htmf_corr[49, 100, 100])\n",
    "print('5 - Intensidade final If', data5_htmf_corr[34,100,100])"
   ]
  },
  {
   "cell_type": "code",
   "execution_count": 11,
   "id": "b73aeb05",
   "metadata": {},
   "outputs": [
    {
     "name": "stdout",
     "output_type": "stream",
     "text": [
      "Intensidades de corte [0.00258645 0.00257    0.00257528 0.00256619 0.00257363]\n"
     ]
    }
   ],
   "source": [
    "# Vetor com as intensidades de corte I0/e^2\n",
    "\n",
    "intensidade_cortehtmf = np.zeros(5)\n",
    "intensidade_cortehtmf[0]=data1_htmf_corr[49, 100, 100]/7.389056099\n",
    "intensidade_cortehtmf[1]=data2_htmf_corr[49, 100, 100]/7.389056099\n",
    "intensidade_cortehtmf[2]=data3_htmf_corr[49, 100, 100]/7.389056099\n",
    "intensidade_cortehtmf[3]=data4_htmf_corr[49, 100, 100]/7.389056099\n",
    "intensidade_cortehtmf[4]=data5_htmf_corr[49, 100, 100]/7.389056099\n",
    "\n",
    "print('Intensidades de corte', intensidade_cortehtmf)"
   ]
  },
  {
   "cell_type": "code",
   "execution_count": 13,
   "id": "e52309cc",
   "metadata": {},
   "outputs": [],
   "source": [
    "# Criação da Máscara\n",
    "\n",
    "mask1_htmf = data1_htmf_corr[34, :, :] >= intensidade_cortehtmf[0]\n",
    "mask2_htmf = data2_htmf_corr[34, :, :] >= intensidade_cortehtmf[1]\n",
    "mask3_htmf = data3_htmf_corr[34, :, :] >= intensidade_cortehtmf[2]\n",
    "mask4_htmf = data4_htmf_corr[34, :, :] >= intensidade_cortehtmf[3]\n",
    "mask5_htmf = data5_htmf_corr[34, :, :] >= intensidade_cortehtmf[4]"
   ]
  },
  {
   "cell_type": "code",
   "execution_count": 8,
   "id": "250afdc0",
   "metadata": {},
   "outputs": [
    {
     "name": "stdout",
     "output_type": "stream",
     "text": [
      "A área irradiada com pelo menos 0.002586453961476771 J/cm² é 77.38 mm².\n",
      "A área irradiada com pelo menos 0.002570002943984154 J/cm² é 77.67 mm².\n",
      "A área irradiada com pelo menos 0.002575280315109725 J/cm² é 77.64 mm².\n",
      "A área irradiada com pelo menos 0.0025661894024464464 J/cm² é 77.71000000000001 mm².\n",
      "A área irradiada com pelo menos 0.0025736251637531885 J/cm² é 77.54 mm².\n"
     ]
    }
   ],
   "source": [
    "# # Cálculo e print da área irradiada\n",
    "\n",
    "# area1_htmf = 0.01*mask1_htmf.sum()\n",
    "# print('A área irradiada com pelo menos',intensidade_cortehtmf[0],'J/cm² é',area1_htmf,'mm².')\n",
    "# area2_htmf = 0.01*mask2_htmf.sum()\n",
    "# print('A área irradiada com pelo menos',intensidade_cortehtmf[1],'J/cm² é',area2_htmf,'mm².')\n",
    "# area3_htmf = 0.01*mask3_htmf.sum()\n",
    "# print('A área irradiada com pelo menos',intensidade_cortehtmf[2],'J/cm² é',area3_htmf,'mm².')\n",
    "# area4_htmf = 0.01*mask4_htmf.sum()\n",
    "# print('A área irradiada com pelo menos',intensidade_cortehtmf[3],'J/cm² é',area4_htmf,'mm².')\n",
    "# area5_htmf = 0.01*mask5_htmf.sum()\n",
    "# print('A área irradiada com pelo menos',intensidade_cortehtmf[4],'J/cm² é',area5_htmf,'mm².')"
   ]
  },
  {
   "cell_type": "markdown",
   "id": "54e101f5",
   "metadata": {},
   "source": [
    "## # Cálculo da Fluência Média Subcutânea"
   ]
  },
  {
   "cell_type": "code",
   "execution_count": 15,
   "id": "59e40edd",
   "metadata": {},
   "outputs": [
    {
     "name": "stdout",
     "output_type": "stream",
     "text": [
      "0.008336040115393245 J/cm²\n",
      "0.008315486926777525 J/cm²\n",
      "0.008315548630219752 J/cm²\n",
      "0.008311442360246427 J/cm²\n",
      "0.008322493636440399 J/cm²\n"
     ]
    }
   ],
   "source": [
    "soma = 0\n",
    "for i in range(0,200):\n",
    "    for j in range(0,200):\n",
    "        if mask1_htmf[i,j]==1:\n",
    "            soma = soma + data1_htmf_corr[34,i,j]\n",
    "print(soma/mask1_htmf.sum(), 'J/cm²')\n",
    "\n",
    "soma = 0\n",
    "for i in range(0,200):\n",
    "    for j in range(0,200):\n",
    "        if mask2_htmf[i,j]==1:\n",
    "            soma = soma + data2_htmf_corr[34,i,j]\n",
    "print(soma/mask2_htmf.sum(), 'J/cm²')\n",
    "\n",
    "soma = 0\n",
    "for i in range(0,200):\n",
    "    for j in range(0,200):\n",
    "        if mask3_htmf[i,j]==1:\n",
    "            soma = soma + data3_htmf_corr[34,i,j]\n",
    "print(soma/mask3_htmf.sum(), 'J/cm²')\n",
    "\n",
    "soma = 0\n",
    "for i in range(0,200):\n",
    "    for j in range(0,200):\n",
    "        if mask4_htmf[i,j]==1:\n",
    "            soma = soma + data4_htmf_corr[34,i,j]\n",
    "print(soma/mask4_htmf.sum(), 'J/cm²')\n",
    "\n",
    "soma = 0\n",
    "for i in range(0,200):\n",
    "    for j in range(0,200):\n",
    "        if mask5_htmf[i,j]==1:\n",
    "            soma = soma + data5_htmf_corr[34,i,j]\n",
    "print(soma/mask5_htmf.sum(), 'J/cm²')"
   ]
  },
  {
   "cell_type": "markdown",
   "id": "fa36ecd5",
   "metadata": {},
   "source": [
    "## # Cálculo da Fluência Média Superficial"
   ]
  },
  {
   "cell_type": "code",
   "execution_count": 14,
   "id": "8507a28c",
   "metadata": {},
   "outputs": [
    {
     "name": "stdout",
     "output_type": "stream",
     "text": [
      "0.010190265656221668 J/cm²\n",
      "0.010157376967771607 J/cm²\n",
      "0.010160619165374852 J/cm²\n",
      "0.010151102846940669 J/cm²\n",
      "0.01017201440387965 J/cm²\n"
     ]
    }
   ],
   "source": [
    "soma = 0\n",
    "for i in range(0,200):\n",
    "    for j in range(0,200):\n",
    "        if mask1_htmf[i,j]==1:\n",
    "            soma = soma + data1_htmf_corr[49,i,j]\n",
    "print(soma/mask1_htmf.sum(), 'J/cm²')\n",
    "\n",
    "soma = 0\n",
    "for i in range(0,200):\n",
    "    for j in range(0,200):\n",
    "        if mask2_htmf[i,j]==1:\n",
    "            soma = soma + data2_htmf_corr[49,i,j]\n",
    "print(soma/mask2_htmf.sum(), 'J/cm²')\n",
    "\n",
    "soma = 0\n",
    "for i in range(0,200):\n",
    "    for j in range(0,200):\n",
    "        if mask3_htmf[i,j]==1:\n",
    "            soma = soma + data3_htmf_corr[49,i,j]\n",
    "print(soma/mask3_htmf.sum(), 'J/cm²')\n",
    "\n",
    "soma = 0\n",
    "for i in range(0,200):\n",
    "    for j in range(0,200):\n",
    "        if mask4_htmf[i,j]==1:\n",
    "            soma = soma + data4_htmf_corr[49,i,j]\n",
    "print(soma/mask4_htmf.sum(), 'J/cm²')\n",
    "\n",
    "soma = 0\n",
    "for i in range(0,200):\n",
    "    for j in range(0,200):\n",
    "        if mask5_htmf[i,j]==1:\n",
    "            soma = soma + data5_htmf_corr[49,i,j]\n",
    "print(soma/mask5_htmf.sum(), 'J/cm²')"
   ]
  },
  {
   "cell_type": "markdown",
   "id": "1cc0a595",
   "metadata": {},
   "source": [
    "## Extração de dados"
   ]
  },
  {
   "cell_type": "code",
   "execution_count": 2,
   "id": "4bcddf72",
   "metadata": {},
   "outputs": [],
   "source": [
    "# r1\n",
    "\n",
    "image1_r1 = nii.load(r'C:\\Users\\User\\Documents\\Raíssa\\Curso Monte Carlo\\pymcx-master\\pymcx\\F-r1-s1.nii')\n",
    "image2_r1 = nii.load(r'C:\\Users\\User\\Documents\\Raíssa\\Curso Monte Carlo\\pymcx-master\\pymcx\\F-r1-s2.nii')\n",
    "image3_r1 = nii.load(r'C:\\Users\\User\\Documents\\Raíssa\\Curso Monte Carlo\\pymcx-master\\pymcx\\F-r1-s3.nii')\n",
    "image4_r1 = nii.load(r'C:\\Users\\User\\Documents\\Raíssa\\Curso Monte Carlo\\pymcx-master\\pymcx\\F-r1-s4.nii')\n",
    "image5_r1 = nii.load(r'C:\\Users\\User\\Documents\\Raíssa\\Curso Monte Carlo\\pymcx-master\\pymcx\\F-r1-s5.nii')\n",
    "\n",
    "data1_r1 = image1_r1.get_fdata()\n",
    "data1_r1 = np.squeeze(data1_r1)\n",
    "\n",
    "data2_r1 = image2_r1.get_fdata()\n",
    "data2_r1 = np.squeeze(data2_r1)\n",
    "\n",
    "data3_r1 = image3_r1.get_fdata()\n",
    "data3_r1 = np.squeeze(data3_r1)\n",
    "\n",
    "data4_r1 = image4_r1.get_fdata()\n",
    "data4_r1 = np.squeeze(data4_r1)\n",
    "\n",
    "data5_r1 = image5_r1.get_fdata()\n",
    "data5_r1 = np.squeeze(data5_r1)"
   ]
  },
  {
   "cell_type": "code",
   "execution_count": 3,
   "id": "d385f7e3",
   "metadata": {},
   "outputs": [],
   "source": [
    "# r2\n",
    "\n",
    "image1_r2 = nii.load(r'C:\\Users\\User\\Documents\\Raíssa\\Curso Monte Carlo\\pymcx-master\\pymcx\\F-r2-s1.nii')\n",
    "image2_r2 = nii.load(r'C:\\Users\\User\\Documents\\Raíssa\\Curso Monte Carlo\\pymcx-master\\pymcx\\F-r2-s2.nii')\n",
    "image3_r2 = nii.load(r'C:\\Users\\User\\Documents\\Raíssa\\Curso Monte Carlo\\pymcx-master\\pymcx\\F-r2-s3.nii')\n",
    "image4_r2 = nii.load(r'C:\\Users\\User\\Documents\\Raíssa\\Curso Monte Carlo\\pymcx-master\\pymcx\\F-r2-s4.nii')\n",
    "image5_r2 = nii.load(r'C:\\Users\\User\\Documents\\Raíssa\\Curso Monte Carlo\\pymcx-master\\pymcx\\F-r2-s5.nii')\n",
    "\n",
    "data1_r2 = image1_r2.get_fdata()\n",
    "data1_r2 = np.squeeze(data1_r2)\n",
    "\n",
    "data2_r2 = image2_r2.get_fdata()\n",
    "data2_r2 = np.squeeze(data2_r2)\n",
    "\n",
    "data3_r2 = image3_r2.get_fdata()\n",
    "data3_r2 = np.squeeze(data3_r2)\n",
    "\n",
    "data4_r2 = image4_r2.get_fdata()\n",
    "data4_r2 = np.squeeze(data4_r2)\n",
    "\n",
    "data5_r2 = image5_r2.get_fdata()\n",
    "data5_r2 = np.squeeze(data5_r2)"
   ]
  },
  {
   "cell_type": "code",
   "execution_count": 4,
   "id": "22a1c30e",
   "metadata": {},
   "outputs": [],
   "source": [
    "# r3\n",
    "\n",
    "image1_r3 = nii.load(r'C:\\Users\\User\\Documents\\Raíssa\\Curso Monte Carlo\\pymcx-master\\pymcx\\F-r3-s1.nii')\n",
    "image2_r3 = nii.load(r'C:\\Users\\User\\Documents\\Raíssa\\Curso Monte Carlo\\pymcx-master\\pymcx\\F-r3-s2.nii')\n",
    "image3_r3 = nii.load(r'C:\\Users\\User\\Documents\\Raíssa\\Curso Monte Carlo\\pymcx-master\\pymcx\\F-r3-s3.nii')\n",
    "image4_r3 = nii.load(r'C:\\Users\\User\\Documents\\Raíssa\\Curso Monte Carlo\\pymcx-master\\pymcx\\F-r3-s4.nii')\n",
    "image5_r3 = nii.load(r'C:\\Users\\User\\Documents\\Raíssa\\Curso Monte Carlo\\pymcx-master\\pymcx\\F-r3-s5.nii')\n",
    "\n",
    "data1_r3 = image1_r3.get_fdata()\n",
    "data1_r3 = np.squeeze(data1_r3)\n",
    "\n",
    "data2_r3 = image2_r3.get_fdata()\n",
    "data2_r3 = np.squeeze(data2_r3)\n",
    "\n",
    "data3_r3 = image3_r3.get_fdata()\n",
    "data3_r3 = np.squeeze(data3_r3)\n",
    "\n",
    "data4_r3 = image4_r3.get_fdata()\n",
    "data4_r3 = np.squeeze(data4_r3)\n",
    "\n",
    "data5_r3 = image5_r3.get_fdata()\n",
    "data5_r3 = np.squeeze(data5_r3)"
   ]
  },
  {
   "cell_type": "code",
   "execution_count": 3,
   "id": "1b90a6d5",
   "metadata": {},
   "outputs": [],
   "source": [
    "# r4\n",
    "\n",
    "image1_r4 = nii.load(r'C:\\Users\\User\\Documents\\Raíssa\\Curso Monte Carlo\\pymcx-master\\pymcx\\F-r4-s1.nii')\n",
    "image2_r4 = nii.load(r'C:\\Users\\User\\Documents\\Raíssa\\Curso Monte Carlo\\pymcx-master\\pymcx\\F-r4-s2.nii')\n",
    "image3_r4 = nii.load(r'C:\\Users\\User\\Documents\\Raíssa\\Curso Monte Carlo\\pymcx-master\\pymcx\\F-r4-s3.nii')\n",
    "image4_r4 = nii.load(r'C:\\Users\\User\\Documents\\Raíssa\\Curso Monte Carlo\\pymcx-master\\pymcx\\F-r4-s4.nii')\n",
    "image5_r4 = nii.load(r'C:\\Users\\User\\Documents\\Raíssa\\Curso Monte Carlo\\pymcx-master\\pymcx\\F-r4-s5.nii')\n",
    "\n",
    "data1_r4 = image1_r4.get_fdata()\n",
    "data1_r4 = np.squeeze(data1_r4)\n",
    "\n",
    "data2_r4 = image2_r4.get_fdata()\n",
    "data2_r4 = np.squeeze(data2_r4)\n",
    "\n",
    "data3_r4 = image3_r4.get_fdata()\n",
    "data3_r4 = np.squeeze(data3_r4)\n",
    "\n",
    "data4_r4 = image4_r4.get_fdata()\n",
    "data4_r4 = np.squeeze(data4_r4)\n",
    "\n",
    "data5_r4 = image5_r4.get_fdata()\n",
    "data5_r4 = np.squeeze(data5_r4)"
   ]
  },
  {
   "cell_type": "code",
   "execution_count": 4,
   "id": "b2dc892a",
   "metadata": {},
   "outputs": [],
   "source": [
    "# r5\n",
    "\n",
    "# image1_r5 = nii.load(r'C:\\Users\\User\\Documents\\Raíssa\\Curso Monte Carlo\\pymcx-master\\pymcx\\F-r5-s1.nii')\n",
    "# image2_r5 = nii.load(r'C:\\Users\\User\\Documents\\Raíssa\\Curso Monte Carlo\\pymcx-master\\pymcx\\F-r5-s2.nii')\n",
    "# image3_r5 = nii.load(r'C:\\Users\\User\\Documents\\Raíssa\\Curso Monte Carlo\\pymcx-master\\pymcx\\F-r5-s3.nii')\n",
    "# image4_r5 = nii.load(r'C:\\Users\\User\\Documents\\Raíssa\\Curso Monte Carlo\\pymcx-master\\pymcx\\F-r5-s4.nii')\n",
    "# image5_r5 = nii.load(r'C:\\Users\\User\\Documents\\Raíssa\\Curso Monte Carlo\\pymcx-master\\pymcx\\F-r5-s5.nii')\n",
    "\n",
    "image1_r5 = nii.load(r'C:\\Users\\User\\Documents\\Raíssa\\Curso Monte Carlo\\pymcx-master\\pymcx\\F-r5x-s1.nii')\n",
    "image2_r5 = nii.load(r'C:\\Users\\User\\Documents\\Raíssa\\Curso Monte Carlo\\pymcx-master\\pymcx\\F-r5x-s2.nii')\n",
    "image3_r5 = nii.load(r'C:\\Users\\User\\Documents\\Raíssa\\Curso Monte Carlo\\pymcx-master\\pymcx\\F-r5x-s3.nii')\n",
    "image4_r5 = nii.load(r'C:\\Users\\User\\Documents\\Raíssa\\Curso Monte Carlo\\pymcx-master\\pymcx\\F-r5x-s4.nii')\n",
    "image5_r5 = nii.load(r'C:\\Users\\User\\Documents\\Raíssa\\Curso Monte Carlo\\pymcx-master\\pymcx\\F-r5x-s5.nii')\n",
    "\n",
    "data1_r5 = image1_r5.get_fdata()\n",
    "data1_r5 = np.squeeze(data1_r5)\n",
    "\n",
    "data2_r5 = image2_r5.get_fdata()\n",
    "data2_r5 = np.squeeze(data2_r5)\n",
    "\n",
    "data3_r5 = image3_r5.get_fdata()\n",
    "data3_r5 = np.squeeze(data3_r5)\n",
    "\n",
    "data4_r5 = image4_r5.get_fdata()\n",
    "data4_r5 = np.squeeze(data4_r5)\n",
    "\n",
    "data5_r5 = image5_r5.get_fdata()\n",
    "data5_r5 = np.squeeze(data5_r5)\n",
    "\n"
   ]
  },
  {
   "cell_type": "code",
   "execution_count": 7,
   "id": "ebeb645e",
   "metadata": {},
   "outputs": [],
   "source": [
    "# Correction r1\n",
    "\n",
    "data1_r1 = data1_r1*0.0260755\n",
    "data2_r1 = data2_r1*0.0260755\n",
    "data3_r1 = data3_r1*0.0260755\n",
    "data4_r1 = data4_r1*0.0260755\n",
    "data5_r1 = data5_r1*0.0260755"
   ]
  },
  {
   "cell_type": "code",
   "execution_count": 8,
   "id": "89bf6ae5",
   "metadata": {},
   "outputs": [],
   "source": [
    "# Correction r2\n",
    "\n",
    "data1_r2 = data1_r2*0.0624580\n",
    "data2_r2 = data2_r2*0.0624580\n",
    "data3_r2 = data3_r2*0.0624580\n",
    "data4_r2 = data4_r2*0.0624580\n",
    "data5_r2 = data5_r2*0.0624580"
   ]
  },
  {
   "cell_type": "code",
   "execution_count": 9,
   "id": "a3fa7a35",
   "metadata": {},
   "outputs": [],
   "source": [
    "# Correction r3\n",
    "\n",
    "data1_r3 = data1_r3*0.1359178\n",
    "data2_r3 = data2_r3*0.1359178\n",
    "data3_r3 = data3_r3*0.1359178\n",
    "data4_r3 = data4_r3*0.1359178\n",
    "data5_r3 = data5_r3*0.1359178"
   ]
  },
  {
   "cell_type": "code",
   "execution_count": 5,
   "id": "b4bb00d9",
   "metadata": {},
   "outputs": [],
   "source": [
    "# Correction r4\n",
    "\n",
    "data1_r4 = data1_r4*0.2273287\n",
    "data2_r4 = data2_r4*0.2273287\n",
    "data3_r4 = data3_r4*0.2273287\n",
    "data4_r4 = data4_r4*0.2273287\n",
    "data5_r4 = data5_r4*0.2273287"
   ]
  },
  {
   "cell_type": "code",
   "execution_count": 5,
   "id": "2e82b51a",
   "metadata": {},
   "outputs": [],
   "source": [
    "# Correction r5\n",
    "\n",
    "data1_r5 = data1_r5*0.3760989\n",
    "data2_r5 = data2_r5*0.3760989\n",
    "data3_r5 = data3_r5*0.3760989\n",
    "data4_r5 = data4_r5*0.3760989\n",
    "data5_r5 = data5_r5*0.3760989"
   ]
  },
  {
   "cell_type": "markdown",
   "id": "1c5b50df",
   "metadata": {},
   "source": [
    "## r1"
   ]
  },
  {
   "cell_type": "code",
   "execution_count": 12,
   "id": "f7a74bed",
   "metadata": {},
   "outputs": [
    {
     "name": "stdout",
     "output_type": "stream",
     "text": [
      "1 - Intensidade inicial I0: 0.014080469040662052\n",
      "1 - Intensidade final If 0.007369190816730261\n",
      "  \n",
      "1 - Intensidade inicial I0: 0.014063109947264195\n",
      "1 - Intensidade final If 0.007373230236887933\n",
      "  \n",
      "1 - Intensidade inicial I0: 0.014055609277129174\n",
      "1 - Intensidade final If 0.007375845990687609\n",
      "  \n",
      "1 - Intensidade inicial I0: 0.01402423266530037\n",
      "1 - Intensidade final If 0.007339861113846303\n",
      "  \n",
      "1 - Intensidade inicial I0: 0.014027397059082986\n",
      "1 - Intensidade final If 0.007339829252317548\n",
      "  \n",
      "Intensidades de corte [0.00190558 0.00190323 0.00190222 0.00189797 0.0018984 ]\n",
      "0.0019014828700230381\n"
     ]
    }
   ],
   "source": [
    "# Print das intensidades inicial e final\n",
    "\n",
    "print('1 - Intensidade inicial I0:', data1_r1[49, 50, 50])\n",
    "print('1 - Intensidade final If', data1_r1[34,50,50])\n",
    "print('  ')\n",
    "\n",
    "print('1 - Intensidade inicial I0:', data2_r1[49, 50, 50])\n",
    "print('1 - Intensidade final If', data2_r1[34,50,50])\n",
    "print('  ')\n",
    "\n",
    "print('1 - Intensidade inicial I0:', data3_r1[49, 50, 50])\n",
    "print('1 - Intensidade final If', data3_r1[34,50,50])\n",
    "print('  ')\n",
    "\n",
    "print('1 - Intensidade inicial I0:', data4_r1[49, 50, 50])\n",
    "print('1 - Intensidade final If', data4_r1[34,50,50])\n",
    "print('  ')\n",
    "\n",
    "print('1 - Intensidade inicial I0:', data5_r1[49, 50, 50])\n",
    "print('1 - Intensidade final If', data5_r1[34,50,50])\n",
    "print('  ')\n",
    "\n",
    "# Vetor com as intensidades de corte I0/e^2\n",
    "\n",
    "intensidade_corter1 = np.zeros(5)\n",
    "intensidade_corter1[0]=data1_r1[49, 50, 50]/7.389056099\n",
    "intensidade_corter1[1]=data2_r1[49, 50, 50]/7.389056099\n",
    "intensidade_corter1[2]=data3_r1[49, 50, 50]/7.389056099\n",
    "intensidade_corter1[3]=data4_r1[49, 50, 50]/7.389056099\n",
    "intensidade_corter1[4]=data5_r1[49, 50, 50]/7.389056099\n",
    "\n",
    "print('Intensidades de corte', intensidade_corter1)\n",
    "\n",
    "soma =0\n",
    "for i in range(5):\n",
    "    soma = soma + intensidade_corter1[i]\n",
    "intens_media_r1=soma/5\n",
    "\n",
    "print(intens_media_r1)"
   ]
  },
  {
   "cell_type": "code",
   "execution_count": 13,
   "id": "d6dff5d3",
   "metadata": {},
   "outputs": [
    {
     "name": "stdout",
     "output_type": "stream",
     "text": [
      "A área irradiada com pelo menos 0.00190558426570447 J/cm² é 7.94 mm².\n",
      "A área irradiada com pelo menos 0.0019032349678827624 J/cm² é 7.98 mm².\n",
      "A área irradiada com pelo menos 0.0019022198625655844 J/cm² é 7.98 mm².\n",
      "A área irradiada com pelo menos 0.0018979734999167678 J/cm² é 8.03 mm².\n",
      "A área irradiada com pelo menos 0.0018984017540456062 J/cm² é 8.01 mm².\n"
     ]
    }
   ],
   "source": [
    "# Criação da Máscara\n",
    "\n",
    "mask1_r1 = data1_r1[34, :, :] >= intensidade_corter1[0]\n",
    "mask2_r1 = data2_r1[34, :, :] >= intensidade_corter1[1]\n",
    "mask3_r1 = data3_r1[34, :, :] >= intensidade_corter1[2]\n",
    "mask4_r1 = data4_r1[34, :, :] >= intensidade_corter1[3]\n",
    "mask5_r1 = data5_r1[34, :, :] >= intensidade_corter1[4]\n",
    "\n",
    "# Cálculo e print da área irradiada\n",
    "\n",
    "area1_r1 = 0.01*mask1_r1.sum()\n",
    "print('A área irradiada com pelo menos',intensidade_corter1[0],'J/cm² é',area1_r1,'mm².')\n",
    "\n",
    "area2_r1 = 0.01*mask2_r1.sum()\n",
    "print('A área irradiada com pelo menos',intensidade_corter1[1],'J/cm² é',area2_r1,'mm².')\n",
    "\n",
    "area3_r1 = 0.01*mask3_r1.sum()\n",
    "print('A área irradiada com pelo menos',intensidade_corter1[2],'J/cm² é',area3_r1,'mm².')\n",
    "\n",
    "area4_r1 = 0.01*mask4_r1.sum()\n",
    "print('A área irradiada com pelo menos',intensidade_corter1[3],'J/cm² é',area4_r1,'mm².')\n",
    "\n",
    "area5_r1 = 0.01*mask5_r1.sum()\n",
    "print('A área irradiada com pelo menos',intensidade_corter1[4],'J/cm² é',area5_r1,'mm².')"
   ]
  },
  {
   "cell_type": "code",
   "execution_count": 14,
   "id": "a5cdab87",
   "metadata": {},
   "outputs": [
    {
     "name": "stdout",
     "output_type": "stream",
     "text": [
      "0.003850978812660521 J/cm²\n",
      "0.0038430097210607585 J/cm²\n",
      "0.0038419992973089236 J/cm²\n",
      "0.003830102075582704 J/cm²\n",
      "0.003834673609319901 J/cm²\n"
     ]
    }
   ],
   "source": [
    "# Cálculo da fluência média subcutânea\n",
    "\n",
    "soma = 0\n",
    "for i in range(0,100):\n",
    "    for j in range(0,100):\n",
    "        if mask1_r1[i,j]==1:\n",
    "            soma = soma + data1_r1[34,i,j]\n",
    "print(soma/mask1_r1.sum(), 'J/cm²')\n",
    "\n",
    "soma = 0\n",
    "for i in range(0,100):\n",
    "    for j in range(0,100):\n",
    "        if mask2_r1[i,j]==1:\n",
    "            soma = soma + data2_r1[34,i,j]\n",
    "print(soma/mask2_r1.sum(), 'J/cm²')\n",
    "\n",
    "soma = 0\n",
    "for i in range(0,100):\n",
    "    for j in range(0,100):\n",
    "        if mask3_r1[i,j]==1:\n",
    "            soma = soma + data3_r1[34,i,j]\n",
    "print(soma/mask3_r1.sum(), 'J/cm²')\n",
    "\n",
    "soma = 0\n",
    "for i in range(0,100):\n",
    "    for j in range(0,100):\n",
    "        if mask4_r1[i,j]==1:\n",
    "            soma = soma + data4_r1[34,i,j]\n",
    "print(soma/mask4_r1.sum(), 'J/cm²')\n",
    "\n",
    "soma = 0\n",
    "for i in range(0,100):\n",
    "    for j in range(0,100):\n",
    "        if mask5_r1[i,j]==1:\n",
    "            soma = soma + data5_r1[34,i,j]\n",
    "print(soma/mask5_r1.sum(), 'J/cm²')"
   ]
  },
  {
   "cell_type": "markdown",
   "id": "61b304f8",
   "metadata": {},
   "source": [
    "## r2"
   ]
  },
  {
   "cell_type": "code",
   "execution_count": 15,
   "id": "dda3453a",
   "metadata": {},
   "outputs": [
    {
     "name": "stdout",
     "output_type": "stream",
     "text": [
      "1 - Intensidade inicial I0: 0.016603009745061396\n",
      "1 - Intensidade final If 0.011134729053258895\n",
      "  \n",
      "1 - Intensidade inicial I0: 0.016580589260935783\n",
      "1 - Intensidade final If 0.011151071157068013\n",
      "  \n",
      "1 - Intensidade inicial I0: 0.016614401472985745\n",
      "1 - Intensidade final If 0.011162564330935478\n",
      "  \n",
      "1 - Intensidade inicial I0: 0.01660606056892872\n",
      "1 - Intensidade final If 0.011147550331354141\n",
      "  \n",
      "1 - Intensidade inicial I0: 0.01667625930017233\n",
      "1 - Intensidade final If 0.011116331971079111\n",
      "  \n",
      "Intensidades de corte [0.00224697 0.00224394 0.00224851 0.00224739 0.00225689]\n",
      "0.0022487397371181864\n"
     ]
    }
   ],
   "source": [
    "# Print das intensidades inicial e final\n",
    "\n",
    "print('1 - Intensidade inicial I0:', data1_r2[49, 50, 50])\n",
    "print('1 - Intensidade final If', data1_r2[34,50,50])\n",
    "print('  ')\n",
    "\n",
    "print('1 - Intensidade inicial I0:', data2_r2[49, 50, 50])\n",
    "print('1 - Intensidade final If', data2_r2[34,50,50])\n",
    "print('  ')\n",
    "\n",
    "print('1 - Intensidade inicial I0:', data3_r2[49, 50, 50])\n",
    "print('1 - Intensidade final If', data3_r2[34,50,50])\n",
    "print('  ')\n",
    "\n",
    "print('1 - Intensidade inicial I0:', data4_r2[49, 50, 50])\n",
    "print('1 - Intensidade final If', data4_r2[34,50,50])\n",
    "print('  ')\n",
    "\n",
    "print('1 - Intensidade inicial I0:', data5_r2[49, 50, 50])\n",
    "print('1 - Intensidade final If', data5_r2[34,50,50])\n",
    "print('  ')\n",
    "\n",
    "# Vetor com as intensidades de corte I0/e^2\n",
    "\n",
    "intensidade_corter2 = np.zeros(5)\n",
    "intensidade_corter2[0]=data1_r2[49, 50, 50]/7.389056099\n",
    "intensidade_corter2[1]=data2_r2[49, 50, 50]/7.389056099\n",
    "intensidade_corter2[2]=data3_r2[49, 50, 50]/7.389056099\n",
    "intensidade_corter2[3]=data4_r2[49, 50, 50]/7.389056099\n",
    "intensidade_corter2[4]=data5_r2[49, 50, 50]/7.389056099\n",
    "\n",
    "print('Intensidades de corte', intensidade_corter2)\n",
    "\n",
    "soma =0\n",
    "for i in range(5):\n",
    "    soma = soma + intensidade_corter2[i]\n",
    "intens_media_r2=soma/5\n",
    "\n",
    "print(intens_media_r2)"
   ]
  },
  {
   "cell_type": "code",
   "execution_count": 16,
   "id": "73334fc0",
   "metadata": {},
   "outputs": [
    {
     "name": "stdout",
     "output_type": "stream",
     "text": [
      "A área irradiada com pelo menos 0.0022469730264070356 J/cm² é 20.92 mm².\n",
      "A área irradiada com pelo menos 0.0022439387438376226 J/cm² é 20.97 mm².\n",
      "A área irradiada com pelo menos 0.0022485147291322173 J/cm² é 20.98 mm².\n",
      "A área irradiada com pelo menos 0.002247385910519221 J/cm² é 20.95 mm².\n",
      "A área irradiada com pelo menos 0.002256886275694837 J/cm² é 20.81 mm².\n"
     ]
    }
   ],
   "source": [
    "# Criação da Máscara\n",
    "\n",
    "mask1_r2 = data1_r2[34, :, :] >= intensidade_corter2[0]\n",
    "mask2_r2 = data2_r2[34, :, :] >= intensidade_corter2[1]\n",
    "mask3_r2 = data3_r2[34, :, :] >= intensidade_corter2[2]\n",
    "mask4_r2 = data4_r2[34, :, :] >= intensidade_corter2[3]\n",
    "mask5_r2 = data5_r2[34, :, :] >= intensidade_corter2[4]\n",
    "\n",
    "# Cálculo e print da área irradiada\n",
    "\n",
    "area1_r2 = 0.01*mask1_r2.sum()\n",
    "print('A área irradiada com pelo menos',intensidade_corter2[0],'J/cm² é',area1_r2,'mm².')\n",
    "\n",
    "area2_r2 = 0.01*mask2_r2.sum()\n",
    "print('A área irradiada com pelo menos',intensidade_corter2[1],'J/cm² é',area2_r2,'mm².')\n",
    "\n",
    "area3_r2 = 0.01*mask3_r2.sum()\n",
    "print('A área irradiada com pelo menos',intensidade_corter2[2],'J/cm² é',area3_r2,'mm².')\n",
    "\n",
    "area4_r2 = 0.01*mask4_r2.sum()\n",
    "print('A área irradiada com pelo menos',intensidade_corter2[3],'J/cm² é',area4_r2,'mm².')\n",
    "\n",
    "area5_r2 = 0.01*mask5_r2.sum()\n",
    "print('A área irradiada com pelo menos',intensidade_corter2[4],'J/cm² é',area5_r2,'mm².')"
   ]
  },
  {
   "cell_type": "code",
   "execution_count": 17,
   "id": "3a791660",
   "metadata": {},
   "outputs": [
    {
     "name": "stdout",
     "output_type": "stream",
     "text": [
      "0.005216854985081512 J/cm²\n",
      "0.005211717054025914 J/cm²\n",
      "0.005208480699939584 J/cm²\n",
      "0.005213372727310603 J/cm²\n",
      "0.0052336366485689805 J/cm²\n"
     ]
    }
   ],
   "source": [
    "# Cálculo da fluência média subcutânea\n",
    "\n",
    "soma = 0\n",
    "for i in range(0,100):\n",
    "    for j in range(0,100):\n",
    "        if mask1_r2[i,j]==1:\n",
    "            soma = soma + data1_r2[34,i,j]\n",
    "print(soma/mask1_r2.sum(), 'J/cm²')\n",
    "\n",
    "soma = 0\n",
    "for i in range(0,100):\n",
    "    for j in range(0,100):\n",
    "        if mask2_r2[i,j]==1:\n",
    "            soma = soma + data2_r2[34,i,j]\n",
    "print(soma/mask2_r2.sum(), 'J/cm²')\n",
    "\n",
    "soma = 0\n",
    "for i in range(0,100):\n",
    "    for j in range(0,100):\n",
    "        if mask3_r2[i,j]==1:\n",
    "            soma = soma + data3_r2[34,i,j]\n",
    "print(soma/mask3_r2.sum(), 'J/cm²')\n",
    "\n",
    "soma = 0\n",
    "for i in range(0,100):\n",
    "    for j in range(0,100):\n",
    "        if mask4_r2[i,j]==1:\n",
    "            soma = soma + data4_r2[34,i,j]\n",
    "print(soma/mask4_r2.sum(), 'J/cm²')\n",
    "\n",
    "soma = 0\n",
    "for i in range(0,100):\n",
    "    for j in range(0,100):\n",
    "        if mask5_r2[i,j]==1:\n",
    "            soma = soma + data5_r2[34,i,j]\n",
    "print(soma/mask5_r2.sum(), 'J/cm²')"
   ]
  },
  {
   "cell_type": "markdown",
   "id": "929c3857",
   "metadata": {},
   "source": [
    "## r3"
   ]
  },
  {
   "cell_type": "code",
   "execution_count": 18,
   "id": "18775f30",
   "metadata": {},
   "outputs": [
    {
     "name": "stdout",
     "output_type": "stream",
     "text": [
      "1 - Intensidade inicial I0: 0.02014035536644161\n",
      "1 - Intensidade final If 0.015492509697067738\n",
      "  \n",
      "1 - Intensidade inicial I0: 0.020081655138742924\n",
      "1 - Intensidade final If 0.015453979761183262\n",
      "  \n",
      "1 - Intensidade inicial I0: 0.02021026986322105\n",
      "1 - Intensidade final If 0.015501916356404126\n",
      "  \n",
      "1 - Intensidade inicial I0: 0.02013541962980628\n",
      "1 - Intensidade final If 0.015464185414406658\n",
      "  \n",
      "1 - Intensidade inicial I0: 0.020095214743492008\n",
      "1 - Intensidade final If 0.01548693192985654\n",
      "  \n",
      "Intensidades de corte [0.0027257  0.00271776 0.00273516 0.00272503 0.00271959]\n",
      "0.0027246488155727258\n"
     ]
    }
   ],
   "source": [
    "# Print das intensidades inicial e final\n",
    "\n",
    "print('1 - Intensidade inicial I0:', data1_r3[49, 50, 50])\n",
    "print('1 - Intensidade final If', data1_r3[34,50,50])\n",
    "print('  ')\n",
    "\n",
    "print('1 - Intensidade inicial I0:', data2_r3[49, 50, 50])\n",
    "print('1 - Intensidade final If', data2_r3[34,50,50])\n",
    "print('  ')\n",
    "\n",
    "print('1 - Intensidade inicial I0:', data3_r3[49, 50, 50])\n",
    "print('1 - Intensidade final If', data3_r3[34,50,50])\n",
    "print('  ')\n",
    "\n",
    "print('1 - Intensidade inicial I0:', data4_r3[49, 50, 50])\n",
    "print('1 - Intensidade final If', data4_r3[34,50,50])\n",
    "print('  ')\n",
    "\n",
    "print('1 - Intensidade inicial I0:', data5_r3[49, 50, 50])\n",
    "print('1 - Intensidade final If', data5_r3[34,50,50])\n",
    "print('  ')\n",
    "\n",
    "# Vetor com as intensidades de corte I0/e^2\n",
    "\n",
    "intensidade_corter3 = np.zeros(5)\n",
    "intensidade_corter3[0]=data1_r3[49, 50, 50]/7.389056099\n",
    "intensidade_corter3[1]=data2_r3[49, 50, 50]/7.389056099\n",
    "intensidade_corter3[2]=data3_r3[49, 50, 50]/7.389056099\n",
    "intensidade_corter3[3]=data4_r3[49, 50, 50]/7.389056099\n",
    "intensidade_corter3[4]=data5_r3[49, 50, 50]/7.389056099\n",
    "\n",
    "print('Intensidades de corte', intensidade_corter3)\n",
    "\n",
    "soma =0\n",
    "for i in range(5):\n",
    "    soma = soma + intensidade_corter3[i]\n",
    "intens_media_r3=soma/5\n",
    "\n",
    "print(intens_media_r3)"
   ]
  },
  {
   "cell_type": "code",
   "execution_count": 19,
   "id": "dd2af218",
   "metadata": {},
   "outputs": [
    {
     "name": "stdout",
     "output_type": "stream",
     "text": [
      "A área irradiada com pelo menos 0.0027257006979778254 J/cm² é 43.410000000000004 mm².\n",
      "A área irradiada com pelo menos 0.0027177564860362447 J/cm² é 43.44 mm².\n",
      "A área irradiada com pelo menos 0.0027351625962017275 J/cm² é 43.29 mm².\n",
      "A área irradiada com pelo menos 0.0027250327186623085 J/cm² é 43.44 mm².\n",
      "A área irradiada com pelo menos 0.0027195915789855214 J/cm² é 43.38 mm².\n"
     ]
    }
   ],
   "source": [
    "# Criação da Máscara\n",
    "\n",
    "mask1_r3 = data1_r3[34, :, :] >= intensidade_corter3[0]\n",
    "mask2_r3 = data2_r3[34, :, :] >= intensidade_corter3[1]\n",
    "mask3_r3 = data3_r3[34, :, :] >= intensidade_corter3[2]\n",
    "mask4_r3 = data4_r3[34, :, :] >= intensidade_corter3[3]\n",
    "mask5_r3 = data5_r3[34, :, :] >= intensidade_corter3[4]\n",
    "\n",
    "# Cálculo e print da área irradiada\n",
    "\n",
    "area1_r3 = 0.01*mask1_r3.sum()\n",
    "print('A área irradiada com pelo menos',intensidade_corter3[0],'J/cm² é',area1_r3,'mm².')\n",
    "\n",
    "area2_r3 = 0.01*mask2_r3.sum()\n",
    "print('A área irradiada com pelo menos',intensidade_corter3[1],'J/cm² é',area2_r3,'mm².')\n",
    "\n",
    "area3_r3 = 0.01*mask3_r3.sum()\n",
    "print('A área irradiada com pelo menos',intensidade_corter3[2],'J/cm² é',area3_r3,'mm².')\n",
    "\n",
    "area4_r3 = 0.01*mask4_r3.sum()\n",
    "print('A área irradiada com pelo menos',intensidade_corter3[3],'J/cm² é',area4_r3,'mm².')\n",
    "\n",
    "area5_r3 = 0.01*mask5_r3.sum()\n",
    "print('A área irradiada com pelo menos',intensidade_corter3[4],'J/cm² é',area5_r3,'mm².')"
   ]
  },
  {
   "cell_type": "code",
   "execution_count": 21,
   "id": "6271dded",
   "metadata": {},
   "outputs": [
    {
     "name": "stdout",
     "output_type": "stream",
     "text": [
      "0.007076365844712304 J/cm²\n",
      "0.007071811371875011 J/cm²\n",
      "0.0070873836442843004 J/cm²\n",
      "0.007071282665886496 J/cm²\n",
      "0.007076980511834924 J/cm²\n"
     ]
    }
   ],
   "source": [
    "# Cálculo da fluência média subcutânea\n",
    "\n",
    "soma = 0\n",
    "for i in range(0,100):\n",
    "    for j in range(0,100):\n",
    "        if mask1_r3[i,j]==1:\n",
    "            soma = soma + data1_r3[34,i,j]\n",
    "print(soma/mask1_r3.sum(), 'J/cm²')\n",
    "\n",
    "soma = 0\n",
    "for i in range(0,100):\n",
    "    for j in range(0,100):\n",
    "        if mask2_r3[i,j]==1:\n",
    "            soma = soma + data2_r3[34,i,j]\n",
    "print(soma/mask2_r3.sum(), 'J/cm²')\n",
    "\n",
    "soma = 0\n",
    "for i in range(0,100):\n",
    "    for j in range(0,100):\n",
    "        if mask3_r3[i,j]==1:\n",
    "            soma = soma + data3_r3[34,i,j]\n",
    "print(soma/mask3_r3.sum(), 'J/cm²')\n",
    "\n",
    "soma = 0\n",
    "for i in range(0,100):\n",
    "    for j in range(0,100):\n",
    "        if mask4_r3[i,j]==1:\n",
    "            soma = soma + data4_r3[34,i,j]\n",
    "print(soma/mask4_r3.sum(), 'J/cm²')\n",
    "\n",
    "soma = 0\n",
    "for i in range(0,100):\n",
    "    for j in range(0,100):\n",
    "        if mask5_r3[i,j]==1:\n",
    "            soma = soma + data5_r3[34,i,j]\n",
    "print(soma/mask5_r3.sum(), 'J/cm²')"
   ]
  },
  {
   "cell_type": "markdown",
   "id": "43bf149c",
   "metadata": {},
   "source": [
    "## r4"
   ]
  },
  {
   "cell_type": "code",
   "execution_count": 8,
   "id": "e147a992",
   "metadata": {},
   "outputs": [
    {
     "name": "stdout",
     "output_type": "stream",
     "text": [
      "1 - Intensidade inicial I0: 0.023242414006753264\n",
      "1 - Intensidade final If 0.018930910465699433\n",
      "  \n",
      "1 - Intensidade inicial I0: 0.023246463717099278\n",
      "1 - Intensidade final If 0.01888533555729687\n",
      "  \n",
      "1 - Intensidade inicial I0: 0.02321819365629405\n",
      "1 - Intensidade final If 0.01884155261608213\n",
      "  \n",
      "1 - Intensidade inicial I0: 0.023227678548781574\n",
      "1 - Intensidade final If 0.018921926917529107\n",
      "  \n",
      "1 - Intensidade inicial I0: 0.023145217570987343\n",
      "1 - Intensidade final If 0.01890801969391927\n",
      "  \n",
      "Intensidades de corte [0.00314552 0.00314607 0.00314224 0.00314352 0.00313236]\n",
      "0.0031419430559100833\n"
     ]
    }
   ],
   "source": [
    "# Print das intensidades inicial e final\n",
    "\n",
    "print('1 - Intensidade inicial I0:', data1_r4[49, 50, 50])\n",
    "print('1 - Intensidade final If', data1_r4[34,50,50])\n",
    "print('  ')\n",
    "\n",
    "print('1 - Intensidade inicial I0:', data2_r4[49, 50, 50])\n",
    "print('1 - Intensidade final If', data2_r4[34,50,50])\n",
    "print('  ')\n",
    "\n",
    "print('1 - Intensidade inicial I0:', data3_r4[49, 50, 50])\n",
    "print('1 - Intensidade final If', data3_r4[34,50,50])\n",
    "print('  ')\n",
    "\n",
    "print('1 - Intensidade inicial I0:', data4_r4[49, 50, 50])\n",
    "print('1 - Intensidade final If', data4_r4[34,50,50])\n",
    "print('  ')\n",
    "\n",
    "print('1 - Intensidade inicial I0:', data5_r4[49, 50, 50])\n",
    "print('1 - Intensidade final If', data5_r4[34,50,50])\n",
    "print('  ')\n",
    "\n",
    "# Vetor com as intensidades de corte I0/e^2\n",
    "\n",
    "intensidade_corter4 = np.zeros(5)\n",
    "intensidade_corter4[0]=data1_r4[49, 50, 50]/7.389056099\n",
    "intensidade_corter4[1]=data2_r4[49, 50, 50]/7.389056099\n",
    "intensidade_corter4[2]=data3_r4[49, 50, 50]/7.389056099\n",
    "intensidade_corter4[3]=data4_r4[49, 50, 50]/7.389056099\n",
    "intensidade_corter4[4]=data5_r4[49, 50, 50]/7.389056099\n",
    "\n",
    "print('Intensidades de corte', intensidade_corter4)\n",
    "\n",
    "soma =0\n",
    "for i in range(5):\n",
    "    soma = soma + intensidade_corter4[i]\n",
    "intens_media_r4=soma/5\n",
    "\n",
    "print(intens_media_r4)"
   ]
  },
  {
   "cell_type": "code",
   "execution_count": 9,
   "id": "a8eafa63",
   "metadata": {},
   "outputs": [
    {
     "name": "stdout",
     "output_type": "stream",
     "text": [
      "A área irradiada com pelo menos 0.0031455186826770446 J/cm² é 67.48 mm².\n",
      "A área irradiada com pelo menos 0.0031460667513737435 J/cm² é 67.5 mm².\n",
      "A área irradiada com pelo menos 0.0031422408146875875 J/cm² é 67.61 mm².\n",
      "A área irradiada com pelo menos 0.0031435244552988437 J/cm² é 67.52 mm².\n",
      "A área irradiada com pelo menos 0.003132364575513198 J/cm² é 67.81 mm².\n"
     ]
    }
   ],
   "source": [
    "# Criação da Máscara\n",
    "\n",
    "mask1_r4 = data1_r4[34, :, :] >= intensidade_corter4[0]\n",
    "mask2_r4 = data2_r4[34, :, :] >= intensidade_corter4[1]\n",
    "mask3_r4 = data3_r4[34, :, :] >= intensidade_corter4[2]\n",
    "mask4_r4 = data4_r4[34, :, :] >= intensidade_corter4[3]\n",
    "mask5_r4 = data5_r4[34, :, :] >= intensidade_corter4[4]\n",
    "\n",
    "# Cálculo e print da área irradiada\n",
    "\n",
    "area1_r4 = 0.01*mask1_r4.sum()\n",
    "print('A área irradiada com pelo menos',intensidade_corter4[0],'J/cm² é',area1_r4,'mm².')\n",
    "\n",
    "area2_r4 = 0.01*mask2_r4.sum()\n",
    "print('A área irradiada com pelo menos',intensidade_corter4[1],'J/cm² é',area2_r4,'mm².')\n",
    "\n",
    "area3_r4 = 0.01*mask3_r4.sum()\n",
    "print('A área irradiada com pelo menos',intensidade_corter4[2],'J/cm² é',area3_r4,'mm².')\n",
    "\n",
    "area4_r4 = 0.01*mask4_r4.sum()\n",
    "print('A área irradiada com pelo menos',intensidade_corter4[3],'J/cm² é',area4_r4,'mm².')\n",
    "\n",
    "area5_r4 = 0.01*mask5_r4.sum()\n",
    "print('A área irradiada com pelo menos',intensidade_corter4[4],'J/cm² é',area5_r4,'mm².')"
   ]
  },
  {
   "cell_type": "code",
   "execution_count": 10,
   "id": "777c5139",
   "metadata": {},
   "outputs": [
    {
     "name": "stdout",
     "output_type": "stream",
     "text": [
      "0.008699151885836367 J/cm²\n",
      "0.00869802562747626 J/cm²\n",
      "0.008689056532330796 J/cm²\n",
      "0.00869654477118415 J/cm²\n",
      "0.008673777344859992 J/cm²\n"
     ]
    }
   ],
   "source": [
    "# Cálculo da fluência média subcutânea\n",
    "\n",
    "soma = 0\n",
    "for i in range(0,100):\n",
    "    for j in range(0,100):\n",
    "        if mask1_r4[i,j]==1:\n",
    "            soma = soma + data1_r4[34,i,j]\n",
    "print(soma/mask1_r4.sum(), 'J/cm²')\n",
    "\n",
    "soma = 0\n",
    "for i in range(0,100):\n",
    "    for j in range(0,100):\n",
    "        if mask2_r4[i,j]==1:\n",
    "            soma = soma + data2_r4[34,i,j]\n",
    "print(soma/mask2_r4.sum(), 'J/cm²')\n",
    "\n",
    "soma = 0\n",
    "for i in range(0,100):\n",
    "    for j in range(0,100):\n",
    "        if mask3_r4[i,j]==1:\n",
    "            soma = soma + data3_r4[34,i,j]\n",
    "print(soma/mask3_r4.sum(), 'J/cm²')\n",
    "\n",
    "soma = 0\n",
    "for i in range(0,100):\n",
    "    for j in range(0,100):\n",
    "        if mask4_r4[i,j]==1:\n",
    "            soma = soma + data4_r4[34,i,j]\n",
    "print(soma/mask4_r4.sum(), 'J/cm²')\n",
    "\n",
    "soma = 0\n",
    "for i in range(0,100):\n",
    "    for j in range(0,100):\n",
    "        if mask5_r4[i,j]==1:\n",
    "            soma = soma + data5_r4[34,i,j]\n",
    "print(soma/mask5_r4.sum(), 'J/cm²')"
   ]
  },
  {
   "cell_type": "markdown",
   "id": "ae1fac10",
   "metadata": {},
   "source": [
    "## r5"
   ]
  },
  {
   "cell_type": "code",
   "execution_count": 6,
   "id": "b45cff6f",
   "metadata": {},
   "outputs": [
    {
     "name": "stdout",
     "output_type": "stream",
     "text": [
      "1 - Intensidade inicial I0: 0.02662040683348775\n",
      "1 - Intensidade final If 0.022767980091763663\n",
      "  \n",
      "1 - Intensidade inicial I0: 0.026689124084644765\n",
      "1 - Intensidade final If 0.022908386279632154\n",
      "  \n",
      "1 - Intensidade inicial I0: 0.026634692220528423\n",
      "1 - Intensidade final If 0.02271006094554216\n",
      "  \n",
      "1 - Intensidade inicial I0: 0.026666908598481864\n",
      "1 - Intensidade final If 0.022623229162308946\n",
      "  \n",
      "1 - Intensidade inicial I0: 0.026777803889210524\n",
      "1 - Intensidade final If 0.02281729241839014\n",
      "  \n",
      "Intensidades de corte [0.00360268 0.00361198 0.00360461 0.00360897 0.00362398]\n",
      "0.0036104458766906796\n"
     ]
    }
   ],
   "source": [
    "# Print das intensidades inicial e final\n",
    "\n",
    "print('1 - Intensidade inicial I0:', data1_r5[49, 75, 75])\n",
    "print('1 - Intensidade final If', data1_r5[34,75,75])\n",
    "print('  ')\n",
    "\n",
    "print('1 - Intensidade inicial I0:', data2_r5[49, 75, 75])\n",
    "print('1 - Intensidade final If', data2_r5[34,75,75])\n",
    "print('  ')\n",
    "\n",
    "print('1 - Intensidade inicial I0:', data3_r5[49, 75, 75])\n",
    "print('1 - Intensidade final If', data3_r5[34,75,75])\n",
    "print('  ')\n",
    "\n",
    "print('1 - Intensidade inicial I0:', data4_r5[49, 75, 75])\n",
    "print('1 - Intensidade final If', data4_r5[34,75,75])\n",
    "print('  ')\n",
    "\n",
    "print('1 - Intensidade inicial I0:', data5_r5[49, 75, 75])\n",
    "print('1 - Intensidade final If', data5_r5[34,75,75])\n",
    "print('  ')\n",
    "\n",
    "# Vetor com as intensidades de corte I0/e^2\n",
    "\n",
    "intensidade_corter5 = np.zeros(5)\n",
    "intensidade_corter5[0]=data1_r5[49, 75, 75]/7.389056099\n",
    "intensidade_corter5[1]=data2_r5[49, 75, 75]/7.389056099\n",
    "intensidade_corter5[2]=data3_r5[49, 75, 75]/7.389056099\n",
    "intensidade_corter5[3]=data4_r5[49, 75, 75]/7.389056099\n",
    "intensidade_corter5[4]=data5_r5[49, 75, 75]/7.389056099\n",
    "\n",
    "print('Intensidades de corte', intensidade_corter5)\n",
    "\n",
    "soma =0\n",
    "for i in range(5):\n",
    "    soma = soma + intensidade_corter5[i]\n",
    "intens_media_r5=soma/5\n",
    "\n",
    "print(intens_media_r5)"
   ]
  },
  {
   "cell_type": "code",
   "execution_count": 7,
   "id": "b582379f",
   "metadata": {},
   "outputs": [
    {
     "name": "stdout",
     "output_type": "stream",
     "text": [
      "A área irradiada com pelo menos 0.0036026802986501116 J/cm² é 98.17 mm².\n",
      "A área irradiada com pelo menos 0.0036119801672986006 J/cm² é 97.96000000000001 mm².\n",
      "A área irradiada com pelo menos 0.0036046136155513876 J/cm² é 98.23 mm².\n",
      "A área irradiada com pelo menos 0.0036089736281865333 J/cm² é 98.11 mm².\n",
      "A área irradiada com pelo menos 0.003623981673766762 J/cm² é 97.75 mm².\n"
     ]
    }
   ],
   "source": [
    "# Criação da Máscara\n",
    "\n",
    "mask1_r5 = data1_r5[34, :, :] >= intensidade_corter5[0]\n",
    "mask2_r5 = data2_r5[34, :, :] >= intensidade_corter5[1]\n",
    "mask3_r5 = data3_r5[34, :, :] >= intensidade_corter5[2]\n",
    "mask4_r5 = data4_r5[34, :, :] >= intensidade_corter5[3]\n",
    "mask5_r5 = data5_r5[34, :, :] >= intensidade_corter5[4]\n",
    "\n",
    "# Cálculo e print da área irradiada\n",
    "\n",
    "area1_r5 = 0.01*mask1_r5.sum()\n",
    "print('A área irradiada com pelo menos',intensidade_corter5[0],'J/cm² é',area1_r5,'mm².')\n",
    "\n",
    "area2_r5 = 0.01*mask2_r5.sum()\n",
    "print('A área irradiada com pelo menos',intensidade_corter5[1],'J/cm² é',area2_r5,'mm².')\n",
    "\n",
    "area3_r5 = 0.01*mask3_r5.sum()\n",
    "print('A área irradiada com pelo menos',intensidade_corter5[2],'J/cm² é',area3_r5,'mm².')\n",
    "\n",
    "area4_r5 = 0.01*mask4_r5.sum()\n",
    "print('A área irradiada com pelo menos',intensidade_corter5[3],'J/cm² é',area4_r5,'mm².')\n",
    "\n",
    "area5_r5 = 0.01*mask5_r5.sum()\n",
    "print('A área irradiada com pelo menos',intensidade_corter5[4],'J/cm² é',area5_r5,'mm².')"
   ]
  },
  {
   "cell_type": "code",
   "execution_count": 8,
   "id": "b3945ca2",
   "metadata": {},
   "outputs": [
    {
     "name": "stdout",
     "output_type": "stream",
     "text": [
      "0.007803434463206156 J/cm²\n",
      "0.007819728455673452 J/cm²\n",
      "0.007798950750966355 J/cm²\n",
      "0.007808317273632384 J/cm²\n",
      "0.007827229619345464 J/cm²\n"
     ]
    }
   ],
   "source": [
    "# Cálculo da fluência média subcutânea\n",
    "\n",
    "soma = 0\n",
    "for i in range(0,100):\n",
    "    for j in range(0,100):\n",
    "        if mask1_r5[i,j]==1:\n",
    "            soma = soma + data1_r5[34,i,j]\n",
    "print(soma/mask1_r5.sum(), 'J/cm²')\n",
    "\n",
    "soma = 0\n",
    "for i in range(0,100):\n",
    "    for j in range(0,100):\n",
    "        if mask2_r5[i,j]==1:\n",
    "            soma = soma + data2_r5[34,i,j]\n",
    "print(soma/mask2_r5.sum(), 'J/cm²')\n",
    "\n",
    "soma = 0\n",
    "for i in range(0,100):\n",
    "    for j in range(0,100):\n",
    "        if mask3_r5[i,j]==1:\n",
    "            soma = soma + data3_r5[34,i,j]\n",
    "print(soma/mask3_r5.sum(), 'J/cm²')\n",
    "\n",
    "soma = 0\n",
    "for i in range(0,100):\n",
    "    for j in range(0,100):\n",
    "        if mask4_r5[i,j]==1:\n",
    "            soma = soma + data4_r5[34,i,j]\n",
    "print(soma/mask4_r5.sum(), 'J/cm²')\n",
    "\n",
    "soma = 0\n",
    "for i in range(0,100):\n",
    "    for j in range(0,100):\n",
    "        if mask5_r5[i,j]==1:\n",
    "            soma = soma + data5_r5[34,i,j]\n",
    "print(soma/mask5_r5.sum(), 'J/cm²')"
   ]
  },
  {
   "cell_type": "code",
   "execution_count": null,
   "id": "6dcf9611",
   "metadata": {},
   "outputs": [],
   "source": []
  }
 ],
 "metadata": {
  "kernelspec": {
   "display_name": "Python 3 (ipykernel)",
   "language": "python",
   "name": "python3"
  },
  "language_info": {
   "codemirror_mode": {
    "name": "ipython",
    "version": 3
   },
   "file_extension": ".py",
   "mimetype": "text/x-python",
   "name": "python",
   "nbconvert_exporter": "python",
   "pygments_lexer": "ipython3",
   "version": "3.9.7"
  }
 },
 "nbformat": 4,
 "nbformat_minor": 5
}
